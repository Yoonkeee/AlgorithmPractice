{
 "cells": [
  {
   "cell_type": "markdown",
   "metadata": {},
   "source": [
    "## 수열에서 같은 값의 연속 구하기\n",
    "\n",
    "자연수 수열이 주어질 때, 수열에서 같은 값이 연속해서 나오는 개수를 순서대로 나열하는 과정을 반복하려 합니다.\n",
    "\n",
    "[1,1,3,3,2,2,4,5,1,1,1,3,3,3] -> [2,2,2,1,1,3,3] -> [3,2,2] -> [1,2] -> [1,1] -> [2] -> [1]\n",
    "같은 값이 나오는 개수를 순서대로 나열하는 과정을 계속해서 수행하면 마지막에는 [1]이 무한반복됩니다.\n",
    "\n",
    "초기 수열이 담긴 배열 arr가 매개변수로 주어질 때, 최초로 [1]이라는 수열이 나올 때까지의 과정을 몇 번 수행했는지 return하도록 함수를 작성해주세요.\n",
    "\n",
    "---\n",
    "#### 제한사항\n",
    "- arr의 길이는 1 이상 1,000 이하\n",
    "- arr의 원소는 1 이상 1,000 이하인 자연수\n",
    "---\n",
    "#### 입출력 예\n",
    "arr|result\n",
    ":--|:--\n",
    "[1,1,3,3,2,2,4,5,1,1,1,3,3,3]|6\n",
    "[1,2,3]|3\n",
    "[2,2,1,1,2,2,1,1,2,2,2,1,2]|5\n",
    "[2]|1"
   ]
  },
  {
   "cell_type": "code",
   "execution_count": 1,
   "metadata": {},
   "outputs": [],
   "source": [
    "def solution(arr): \n",
    "    def loop(input_arr, output_arr, answer):\n",
    "        if input_arr == [1]:\n",
    "            return answer\n",
    "        answer += 1\n",
    "        for i in range(len(input_arr)-1):\n",
    "            if input_arr[i] != input_arr[i+1]:\n",
    "                output_arr.append(1)\n",
    "            else:\n",
    "                output_arr[-1] += 1\n",
    "        return loop(output_arr, [1], answer)\n",
    "    return loop(arr, [1], 0)"
   ]
  },
  {
   "cell_type": "code",
   "execution_count": 2,
   "metadata": {},
   "outputs": [
    {
     "name": "stdout",
     "output_type": "stream",
     "text": [
      "arr : [1, 1, 3, 3, 2, 2, 4, 5, 1, 1, 1, 3, 3, 3]  , result : 6\n",
      "arr : [1, 2, 3]  , result : 3\n",
      "arr : [2, 2, 1, 1, 2, 2, 1, 1, 2, 2, 2, 1, 2]  , result : 5\n",
      "arr : [2]  , result : 1\n"
     ]
    }
   ],
   "source": [
    "arr = []\n",
    "arr.append([1,1,3,3,2,2,4,5,1,1,1,3,3,3])\n",
    "arr.append([1,2,3])\n",
    "arr.append([2,2,1,1,2,2,1,1,2,2,2,1,2])\n",
    "arr.append([2])\n",
    "for arr in arr:\n",
    "    print('arr : {}  , result : {}'.format(arr, solution(arr)))"
   ]
  }
 ],
 "metadata": {
  "kernelspec": {
   "display_name": "Python 3",
   "language": "python",
   "name": "python3"
  },
  "language_info": {
   "codemirror_mode": {
    "name": "ipython",
    "version": 3
   },
   "file_extension": ".py",
   "mimetype": "text/x-python",
   "name": "python",
   "nbconvert_exporter": "python",
   "pygments_lexer": "ipython3",
   "version": "3.8.5"
  }
 },
 "nbformat": 4,
 "nbformat_minor": 4
}
