{
 "cells": [
  {
   "cell_type": "markdown",
   "metadata": {},
   "source": [
    "### **20. 01. 14 THU**\n",
    "---  \n",
    "A is B 는 객체의 id(주소)값을 비교하는 것 *(object 비교)*  \n",
    "== 는 값을 비교하는 것 *(value equivalent)*  \n",
    "None은 값 자체가 없으므로 == 으로 비교할 수 없고, is 로 비교해야 한다  \n",
    "A = list(리스트)를 하게 되면 리스트를 별도의 객체로 복사하여 다른 ID를 갖게 됨\n",
    "\n",
    "- \n",
    "##### Example 1\n",
    "``` python\n",
    "class Negator(object):\n",
    "    def __eq__(self,other):\n",
    "        return not other\n",
    "thing = Negator()\n",
    "print thing == None  #True\n",
    "print thing is None  #False\n",
    "```\n",
    "- \n",
    "##### Example 2  \n",
    "```python\n",
    "lst = [1,2,3]\n",
    "lst == lst[:]  # This is True since the lists are \"equivalent\"\n",
    "lst is lst[:]  # This is False since they're actually different objects\n",
    "```\n",
    "[출처 - Stack Overflow](https://stackoverflow.com/questions/14247373/python-none-comparison-should-i-use-is-or)"
   ]
  },
  {
   "cell_type": "markdown",
   "metadata": {},
   "source": [
    "### **20. 01. 15 FRI**\n",
    "---  \n",
    "##### **문자열**\n",
    "문자열을 다룰 경우 리스트로 매핑하는 과정보다 슬라이싱으로 다루는 것이 속도면에서 훨씬 큰 이점이 있다.  \n",
    "ex) [Valid Palindrome](https://nbviewer.jupyter.org/github/Yoonkeee/AlgorithmPractice/blob/master/Python%20Algorithm%20Interview/src/Ch.06%20-%2001.%20Valid%20Palindrome.ipynb)\n",
    "\n",
    "##### **Deque (Double-Ended Queue)**\n",
    "* deq = collections.deque()   /  from collections import *   ,  deq = deque()  \n",
    "deq.appendleft(something)  \n",
    "deq.popleft()  ,  deq.pop()  \n",
    "queue.pop(0) = deque.popleft() 이지만  \n",
    "속도는 O(n) << O(1) 이다.  \n",
    "\n",
    "##### **Reverse**\n",
    "- Reverse List : (list).reverse()  \n",
    "- Reverse String : foo = (str)[::-1]"
   ]
  },
  {
   "cell_type": "markdown",
   "metadata": {},
   "source": [
    "### **20. 01. 16 SAT**\n",
    "---\n",
    "##### **2개 이상의 조건**으로 정렬하기\n",
    "\n",
    "- \n",
    "```python\n",
    "keys: tuple = (key1, key2, ... )\n",
    "(list).sort(key=keys)\n",
    "(list).sort(key=some_function)\n",
    "(list).sort(key=lambda x: (some_lambda))\n",
    "(list).sort(key=lambda x: ((str).split('.')[1:], (str).split('.'[0]))\n",
    "foo = sorted((list), key=keys)\n",
    "```\n",
    "\n",
    "##### Jupyter Notebook 환경에서 괄호, 따옴표 자동완성 해제 코드  \n",
    "\n",
    "- \n",
    "```python\n",
    "from notebook.services.config import ConfigManager\n",
    "c = ConfigManager()\n",
    "c.update('notebook', {\"CodeCell\": {\"cm_config\": {\"autoCloseBrackets\": False}}})\n",
    "```\n"
   ]
  },
  {
   "cell_type": "markdown",
   "metadata": {},
   "source": [
    "### **20. 01. 17 SUN**\n",
    "---  \n",
    "##### **Subtitle**  \n",
    "Something\n"
   ]
  },
  {
   "cell_type": "markdown",
   "metadata": {},
   "source": [
    "### **20. 00. 00 DAY**\n",
    "---  \n",
    "##### **Subtitle**  \n",
    "Something\n"
   ]
  }
 ],
 "metadata": {
  "kernelspec": {
   "display_name": "Python 3",
   "language": "python",
   "name": "python3"
  },
  "language_info": {
   "codemirror_mode": {
    "name": "ipython",
    "version": 3
   },
   "file_extension": ".py",
   "mimetype": "text/x-python",
   "name": "python",
   "nbconvert_exporter": "python",
   "pygments_lexer": "ipython3",
   "version": "3.7.2"
  },
  "latex_envs": {
   "LaTeX_envs_menu_present": true,
   "autoclose": false,
   "autocomplete": true,
   "bibliofile": "biblio.bib",
   "cite_by": "apalike",
   "current_citInitial": 1,
   "eqLabelWithNumbers": true,
   "eqNumInitial": 1,
   "hotkeys": {
    "equation": "Ctrl-E",
    "itemize": "Ctrl-I"
   },
   "labels_anchors": false,
   "latex_user_defs": false,
   "report_style_numbering": false,
   "user_envs_cfg": false
  },
  "varInspector": {
   "cols": {
    "lenName": 16,
    "lenType": 16,
    "lenVar": 40
   },
   "kernels_config": {
    "python": {
     "delete_cmd_postfix": "",
     "delete_cmd_prefix": "del ",
     "library": "var_list.py",
     "varRefreshCmd": "print(var_dic_list())"
    },
    "r": {
     "delete_cmd_postfix": ") ",
     "delete_cmd_prefix": "rm(",
     "library": "var_list.r",
     "varRefreshCmd": "cat(var_dic_list()) "
    }
   },
   "types_to_exclude": [
    "module",
    "function",
    "builtin_function_or_method",
    "instance",
    "_Feature"
   ],
   "window_display": false
  }
 },
 "nbformat": 4,
 "nbformat_minor": 2
}
