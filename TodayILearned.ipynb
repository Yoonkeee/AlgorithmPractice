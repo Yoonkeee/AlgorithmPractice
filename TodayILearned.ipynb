{
 "cells": [
  {
   "cell_type": "markdown",
   "metadata": {},
   "source": [
    "## **20. 01. 12**\n",
    "문자열을 다룰 경우 리스트로 매핑하는 과정보다 슬라이싱으로 다루는 것이 속도면에서 훨씬 큰 이점이 있다.  \n",
    "ex) [Valid Palindrome](https://github.com/Yoonkeee/AlgorithmPractice/blob/master/Python%20Algorithm%20Interview/src/Ch.06%20-%2001.%20Valid%20Palindrome.ipynb)\n",
    "\n",
    "##### Deque (Double-Ended Queue)\n",
    "deq = collections.deque()   /  from collections import *   ,  deq = deque()  \n",
    "deq.appendleft(something)  \n",
    "deq.popleft()  ,  deq.pop()  \n",
    "queue.pop(0) = deque.popleft() 이지만  \n",
    "속도는 O(n) << O(1) 이다.  \n",
    "\n",
    "##### Reverse\n",
    "- Reverse List : (list).reverse()  \n",
    "- Reverse String : foo = (str)[::-1]"
   ]
  }
 ],
 "metadata": {
  "kernelspec": {
   "display_name": "Python 3",
   "language": "python",
   "name": "python3"
  },
  "language_info": {
   "codemirror_mode": {
    "name": "ipython",
    "version": 3
   },
   "file_extension": ".py",
   "mimetype": "text/x-python",
   "name": "python",
   "nbconvert_exporter": "python",
   "pygments_lexer": "ipython3",
   "version": "3.7.2"
  }
 },
 "nbformat": 4,
 "nbformat_minor": 2
}
