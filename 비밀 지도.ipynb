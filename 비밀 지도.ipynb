{
 "cells": [
  {
   "cell_type": "code",
   "execution_count": 34,
   "metadata": {},
   "outputs": [],
   "source": [
    "def solution(n, arr1, arr2):\n",
    "    decrypted = []\n",
    "    for arr in [arr1, arr2]:\n",
    "        for number in arr:\n",
    "            binary = str(format(number, 'b'))\n",
    "            if len(binary) < n:\n",
    "                binary = '0'*(n-len(binary)) + binary\n",
    "            temp = []\n",
    "#             print(binary)\n",
    "            for bit in binary:\n",
    "                if int(bit):\n",
    "                    temp.append(1)\n",
    "                else:\n",
    "                    temp.append(0)\n",
    "            decrypted.append(temp)\n",
    "    answer = []\n",
    "    for i in range(n):\n",
    "        temp = ''\n",
    "        for j in range(n):\n",
    "            if decrypted[i][j] or decrypted[i+n][j]:\n",
    "                temp = temp+'#'\n",
    "            else:\n",
    "                temp = temp+' '\n",
    "        answer.append(temp)\n",
    "    return answer"
   ]
  },
  {
   "cell_type": "code",
   "execution_count": 37,
   "metadata": {},
   "outputs": [
    {
     "name": "stdout",
     "output_type": "stream",
     "text": [
      "['#####', '#@#@#', '###@#', '#@@##', '#####']\n",
      "['######', '###@@#', '##@@##', '@####@', '@#####', '###@#@']\n"
     ]
    }
   ],
   "source": [
    "input1 = solution(5, [9, 20, 28, 18, 11], [30, 1, 21, 17, 28])\n",
    "print(input1)\n",
    "input2 = solution(6, [46, 33, 33, 22, 31, 50], [27, 56, 19, 14, 14, 10])\n",
    "print(input2)"
   ]
  },
  {
   "cell_type": "code",
   "execution_count": 47,
   "metadata": {},
   "outputs": [
    {
     "name": "stdout",
     "output_type": "stream",
     "text": [
      "['11111', '10101', '11101', '10011', '11111']\n",
      "['111111', '111001', '110011', '11110', '11111', '111010']\n"
     ]
    }
   ],
   "source": [
    "def good_solution(n: int, arr1, arr2):\n",
    "    maps = []\n",
    "    for i in range(n):\n",
    "        maps.append(\n",
    "            bin(arr1[i] | arr2[i])[2:]\n",
    "#                 .zfill(n)\n",
    "#                 .replace('1', '#')\n",
    "#                 .replace('0', ' ')\n",
    "        )\n",
    "    return maps\n",
    "input1 = good_solution(5, [9, 20, 28, 18, 11], [30, 1, 21, 17, 28])\n",
    "print(input1)\n",
    "input2 = good_solution(6, [46, 33, 33, 22, 31, 50], [27, 56, 19, 14, 14, 10])\n",
    "print(input2)"
   ]
  },
  {
   "cell_type": "code",
   "execution_count": 54,
   "metadata": {},
   "outputs": [
    {
     "data": {
      "text/plain": [
       "'AABAABA'"
      ]
     },
     "execution_count": 54,
     "metadata": {},
     "output_type": "execute_result"
    }
   ],
   "source": [
    "bin(18)[2:].zfill(7).replace('0', 'A').replace('1', 'B')"
   ]
  }
 ],
 "metadata": {
  "kernelspec": {
   "display_name": "Python 3",
   "language": "python",
   "name": "python3"
  },
  "language_info": {
   "codemirror_mode": {
    "name": "ipython",
    "version": 3
   },
   "file_extension": ".py",
   "mimetype": "text/x-python",
   "name": "python",
   "nbconvert_exporter": "python",
   "pygments_lexer": "ipython3",
   "version": "3.8.5"
  }
 },
 "nbformat": 4,
 "nbformat_minor": 4
}
