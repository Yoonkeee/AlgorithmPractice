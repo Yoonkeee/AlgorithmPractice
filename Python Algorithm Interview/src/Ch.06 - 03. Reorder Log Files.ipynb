{
 "cells": [
  {
   "cell_type": "markdown",
   "metadata": {},
   "source": [
    "# Ch 6 - 3 로그 파일 재정렬 | 난이도 🌟\n",
    "### 문제 출처 - 리트 코드 [937번 문제 Reorder Log Files](https://leetcode.com/problems/reorder-data-in-log-files)"
   ]
  },
  {
   "cell_type": "code",
   "execution_count": 13,
   "metadata": {},
   "outputs": [
    {
     "name": "stdout",
     "output_type": "stream",
     "text": [
      "['dig', 'dig', 'letartcan', 'letartzero', 'letownkitdig']\n"
     ]
    }
   ],
   "source": [
    "from typing import *\n",
    "import re\n",
    "\n",
    "class Solution():\n",
    "    def func(self, s:List[str]) -> List[str]:\n",
    "        only_alpha = [re.sub('[^a-z]', '', strs) for strs in s ]\n",
    "        only_alpha.sort()\n",
    "        for i in range(len(only_alpha)-1):\n",
    "            if only_alpha[i] == only_alpha[i+1]:\n",
    "                pass\n",
    "            else:\n",
    "                pass\n",
    "        print(only_alpha)\n",
    "        return None\n",
    "\n",
    "logs = [\"dig1 8 1 5 1\",\"let1 art can\",\"dig2 3 6\",\"let2 own kit dig\",\"let3 art zero\"]\n",
    "reorder_log = Solution()\n",
    "reorder_log.func(logs)"
   ]
  },
  {
   "cell_type": "code",
   "execution_count": 11,
   "metadata": {},
   "outputs": [
    {
     "data": {
      "text/plain": [
       "['dig18151', 'let1artcan', 'dig236', 'let2ownkitdig', 'let3artzero']"
      ]
     },
     "execution_count": 11,
     "metadata": {},
     "output_type": "execute_result"
    }
   ],
   "source": [
    "import re\n",
    "logs = [\"dig1 8 1 5 1\",\"let1 art can\",\"dig2 3 6\",\"let2 own kit dig\",\"let3 art zero\"]\n",
    "# Output: [\"let1 art can\",\"let3 art zero\",\"let2 own kit dig\",\"dig1 8 1 5 1\",\"dig2 3 6\"]\n",
    "s = ['ab1e', 'ab2d', 'a3bc']\n",
    "s = logs[:]\n",
    "s = [re.sub('[^a-z0-9]', '', strs) for strs in s ]\n",
    "s"
   ]
  },
  {
   "cell_type": "markdown",
   "metadata": {},
   "source": [
    "[](attachment:image.png) <img src=\"attachment:image.png\"  width=\"300\" height=\"400\" align=\"left\">"
   ]
  }
 ],
 "metadata": {
  "kernelspec": {
   "display_name": "Python 3",
   "language": "python",
   "name": "python3"
  },
  "language_info": {
   "codemirror_mode": {
    "name": "ipython",
    "version": 3
   },
   "file_extension": ".py",
   "mimetype": "text/x-python",
   "name": "python",
   "nbconvert_exporter": "python",
   "pygments_lexer": "ipython3",
   "version": "3.7.2"
  }
 },
 "nbformat": 4,
 "nbformat_minor": 2
}
