{
 "cells": [
  {
   "cell_type": "code",
   "execution_count": 4,
   "metadata": {},
   "outputs": [
    {
     "name": "stdout",
     "output_type": "stream",
     "text": [
      "True\n"
     ]
    }
   ],
   "source": [
    "# List Comprehension\n",
    "# 대체로 표현식이 2개를 넘지 않도록 해야 깔끔함\n",
    "lc1 = [n * 2 for n in range(1, 10+1) if n%2 == 1]\n",
    "lc2 = []\n",
    "for n in range(1, 10+1):\n",
    "    if n%2 == 1:\n",
    "        lc2.append(n*2)\n",
    "print(lc1 == lc2)\n",
    "\n",
    "# Dictionary Comprehension\n",
    "#a = {key: value for key, value in original.items()}\n",
    "#000000000111111111 222222222 333333333 444444444 555555555 666666666 77777777 888888888 "
   ]
  },
  {
   "cell_type": "code",
   "execution_count": 10,
   "metadata": {},
   "outputs": [
    {
     "name": "stdout",
     "output_type": "stream",
     "text": [
      "0 a1\n",
      "1 a2\n",
      "2 a3\n",
      "0 a1\n",
      "1 a2\n",
      "2 a3\n"
     ]
    }
   ],
   "source": [
    "# enumerate\n",
    "enum_arr1 = ['a1', 'a2', 'a3']\n",
    "for i, v in enumerate(enum_arr1):\n",
    "    print(i, v)\n",
    "for i in range(len(enum_arr1)):\n",
    "    print(i, enum_arr1[i])"
   ]
  },
  {
   "cell_type": "code",
   "execution_count": 13,
   "metadata": {},
   "outputs": [
    {
     "name": "stdout",
     "output_type": "stream",
     "text": [
      "5//3 = 1 , 5%3 == 2\n"
     ]
    }
   ],
   "source": [
    "# divmod(int, int)\n",
    "divmod_result, divmod_modulo = divmod(5,3)\n",
    "print('5//3 = {} , 5%3 == {}'.format(divmod_result, divmod_modulo))"
   ]
  },
  {
   "cell_type": "code",
   "execution_count": 18,
   "metadata": {},
   "outputs": [
    {
     "name": "stdout",
     "output_type": "stream",
     "text": [
      "2: Apple\n",
      "2: Apple\n"
     ]
    }
   ],
   "source": [
    "# f-string (formated string litreal)\n",
    "idx, fruit = 1, 'Apple'\n",
    "print(f'{idx+1}: {fruit}')\n",
    "print('{}: {}'.format(idx+1, fruit))"
   ]
  },
  {
   "cell_type": "code",
   "execution_count": null,
   "metadata": {
    "scrolled": true
   },
   "outputs": [],
   "source": [
    "# locals : 로컬에 선언된 모든 변수를 dict 형태로 가져온다\n",
    "import pprint\n",
    "pprint.pprint(locals())"
   ]
  },
  {
   "cell_type": "markdown",
   "metadata": {},
   "source": [
    "A is B 는 객체의 id(주소)값을 비교하는 것\n",
    "== 는 값을 비교하는 것\n",
    "None은 값 자체가 없으므로 ==으로 비교할 수 없고, is 로 비교해야 한다\n",
    "A = list(리스트)를 하게 되면 리스트를 별도의 객체로 복사하여 다른 ID를 갖게 됨"
   ]
  },
  {
   "cell_type": "code",
   "execution_count": 26,
   "metadata": {},
   "outputs": [
    {
     "name": "stdout",
     "output_type": "stream",
     "text": [
      "collections.defaultdict(int) : {0: 5, 1: 10}\n",
      "collections.Counter(list) : Counter({5: 3, 8: 3, 1: 2, 2: 2, 6: 2, 7: 2, 3: 1, 4: 1})\n",
      "(Counter).most_common(n) : [(5, 3), (8, 3)]\n"
     ]
    }
   ],
   "source": [
    "import collections\n",
    "# defaultdict : dict에 없는 key의 value에 접근시 에러 대신 default값으로 할당 후 처리\n",
    "default_dict = collections.defaultdict(int)\n",
    "default_dict[0] += 5\n",
    "default_dict[1] += 10\n",
    "print('collections.defaultdict(int) :', dict(default_dict.items()))\n",
    "\n",
    "# Counter : list에서 원소를 key로, 갯수를 value로 갖는 dict 생성\n",
    "counter_list = [1,2,3,4,5,5,8,5,6,6,7,1,2,7,8,8]\n",
    "counter_dict = collections.Counter(counter_list)\n",
    "print('collections.Counter(list) :', counter_dict)\n",
    "\n",
    "# (Counter).most_common(n) : Counter 객체의 메소드이며 가장 빈도 수가 높은 요소를 n개 추출함\n",
    "print('(Counter).most_common(n) :', counter_dict.most_common(2))\n"
   ]
  },
  {
   "cell_type": "code",
   "execution_count": null,
   "metadata": {},
   "outputs": [],
   "source": []
  },
  {
   "cell_type": "code",
   "execution_count": null,
   "metadata": {},
   "outputs": [],
   "source": [
    "\n",
    "\n",
    "\n",
    "\n",
    "\n",
    "\n",
    "\n",
    "\n",
    "\n",
    "\n",
    "\n",
    "\n",
    "\n",
    "\n",
    "\n",
    "\n",
    "\n",
    "\n",
    "\n",
    "\n",
    "\n",
    "\n",
    "\n",
    "\n",
    "\n",
    "\n",
    "\n",
    "\n",
    "\n",
    "\n",
    "\n",
    "\n",
    "\n",
    "\n",
    "\n",
    "\n",
    "\n",
    "\n",
    "\n",
    "\n"
   ]
  }
 ],
 "metadata": {
  "kernelspec": {
   "display_name": "Python 3",
   "language": "python",
   "name": "python3"
  },
  "language_info": {
   "codemirror_mode": {
    "name": "ipython",
    "version": 3
   },
   "file_extension": ".py",
   "mimetype": "text/x-python",
   "name": "python",
   "nbconvert_exporter": "python",
   "pygments_lexer": "ipython3",
   "version": "3.7.2"
  }
 },
 "nbformat": 4,
 "nbformat_minor": 4
}
