{
 "cells": [
  {
   "cell_type": "markdown",
   "metadata": {},
   "source": [
    "# 최소 높이 트리 | 난이도 🌟🌟\n",
    "### 문제 출처 - 리트 코드 [0번 문제 Minimum Height Trees](https://leetcode.com/problems/minimum-height-trees)"
   ]
  },
  {
   "cell_type": "code",
   "execution_count": null,
   "metadata": {},
   "outputs": [],
   "source": [
    "class Solution:\n",
    "    def findMinHeightTrees(self, n: int, edges: List[List[int]]) -> List[int]:\n",
    "        graph = collections.defaultdict(list)\n",
    "        # 무방향 그래프이므로 왕복으로 append\n",
    "        for i, j in edges:\n",
    "            graph[i].append(j)\n",
    "            graph[j].append(i)\n",
    "        \n",
    "        leaves = []\n",
    "        # 연결된 노드가 한개 뿐이라면 그 노드는 leaf 노드임\n",
    "        for i in range(n + 1):\n",
    "            if len(graph[i]) == 1:\n",
    "                leaves.append(i)\n",
    "                \n",
    "        while n > 2:  # 서로 연결된 루트 노드 2개가 있을 경우를 위해 n>2\n",
    "            n -= len(leaves)\n",
    "            new_leaves = []\n",
    "            for leaf in leaves:\n",
    "                neighbor = graph[leaf].pop()\n",
    "                graph[neighbor].remove(leaf)\n",
    "                \n",
    "                if len(graph[neighbor]) == 1:\n",
    "                    new_leaves.append(neighbor)\n",
    "            leaves = new_leavesㄷ\n",
    "            \n",
    "        return leaves"
   ]
  }
 ],
 "metadata": {
  "kernelspec": {
   "display_name": "Python 3",
   "language": "python",
   "name": "python3"
  },
  "language_info": {
   "codemirror_mode": {
    "name": "ipython",
    "version": 3
   },
   "file_extension": ".py",
   "mimetype": "text/x-python",
   "name": "python",
   "nbconvert_exporter": "python",
   "pygments_lexer": "ipython3",
   "version": "3.8.5"
  },
  "latex_envs": {
   "LaTeX_envs_menu_present": true,
   "autoclose": false,
   "autocomplete": true,
   "bibliofile": "biblio.bib",
   "cite_by": "apalike",
   "current_citInitial": 1,
   "eqLabelWithNumbers": true,
   "eqNumInitial": 1,
   "hotkeys": {
    "equation": "Ctrl-E",
    "itemize": "Ctrl-I"
   },
   "labels_anchors": false,
   "latex_user_defs": false,
   "report_style_numbering": false,
   "user_envs_cfg": false
  },
  "varInspector": {
   "cols": {
    "lenName": 16,
    "lenType": 16,
    "lenVar": 40
   },
   "kernels_config": {
    "python": {
     "delete_cmd_postfix": "",
     "delete_cmd_prefix": "del ",
     "library": "var_list.py",
     "varRefreshCmd": "print(var_dic_list())"
    },
    "r": {
     "delete_cmd_postfix": ") ",
     "delete_cmd_prefix": "rm(",
     "library": "var_list.r",
     "varRefreshCmd": "cat(var_dic_list()) "
    }
   },
   "types_to_exclude": [
    "module",
    "function",
    "builtin_function_or_method",
    "instance",
    "_Feature"
   ],
   "window_display": false
  }
 },
 "nbformat": 4,
 "nbformat_minor": 2
}
