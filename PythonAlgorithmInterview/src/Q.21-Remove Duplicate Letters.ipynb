{
 "cells": [
  {
   "cell_type": "markdown",
   "metadata": {},
   "source": [
    "# 중복 문자 제거 | 난이도 🌟🌟🌟\n",
    "### 문제 출처 - 리트 코드 [316번 문제 Remove Duplicate Letters](https://leetcode.com/problems/remove-duplicate-letters)\n",
    "Given a string s, remove duplicate letters so that every letter appears once and only once. You must make sure your result is the smallest in lexicographical order among all possible results.\n",
    "\n",
    "#### 너무 어렵다!"
   ]
  },
  {
   "cell_type": "code",
   "execution_count": 4,
   "metadata": {
    "ExecuteTime": {
     "end_time": "2021-02-02T17:36:12.423372Z",
     "start_time": "2021-02-02T17:36:12.413677Z"
    }
   },
   "outputs": [
    {
     "name": "stdout",
     "output_type": "stream",
     "text": [
      "---------------------------------------------------------------------------\n",
      "input  :  bcabc\n",
      "output :  abc\n",
      "result :  abc\n"
     ]
    }
   ],
   "source": [
    "from typing import *\n",
    "import collections\n",
    "class Solution():\n",
    "    def func(self, s):\n",
    "        counter, seen, stack = collections.Counter(s), set(), []\n",
    "        # Counter({'b': 2, 'c': 2, 'a': 1})\n",
    "        # seen은 이미 처리된 문자 여부를 확인\n",
    "        # 만약 현재 문자 char가 스택에쌓여있는 문자이고, 뒤에 다시 붙일 문자가 남아 있다면(counter >= 0)\n",
    "        # 쌓아둔 걸 꺼내서 없앤다. 'cbacdcbc'에서 'a'가 들어올 때 이미 이전에 들어와 있던 cb는 제거된다.\n",
    "        # = c b a c d c b c\n",
    "        # =>_ _ a c d _ b _\n",
    "        # counter가 0 이상인 문자인 c,b는 뒤에 다시 붙일 문자가 남아 있기 때문이다.\n",
    "        \n",
    "        for char in s:\n",
    "            counter[char] -= 1\n",
    "            if char in seen:\n",
    "                continue\n",
    "            while stack and char < stack[-1] and counter[stack[-1]] > 0:\n",
    "                seen.remove(stack.pop())\n",
    "            stack.append(char)\n",
    "            seen.add(char)\n",
    "            \n",
    "        return ''.join(stack)\n",
    "\n",
    "    \n",
    "input_data = [\"bcabc\"]\n",
    "output_data = [\"abc\"]\n",
    "sol = Solution()\n",
    "for i in range(len(input_data)):\n",
    "    print('---'*25)\n",
    "    print('input  : ', input_data[i])\n",
    "    print('output : ', output_data[i])\n",
    "    print('result : ', sol.func(input_data[i]))"
   ]
  }
 ],
 "metadata": {
  "kernelspec": {
   "display_name": "Python 3",
   "language": "python",
   "name": "python3"
  },
  "language_info": {
   "codemirror_mode": {
    "name": "ipython",
    "version": 3
   },
   "file_extension": ".py",
   "mimetype": "text/x-python",
   "name": "python",
   "nbconvert_exporter": "python",
   "pygments_lexer": "ipython3",
   "version": "3.7.2"
  },
  "latex_envs": {
   "LaTeX_envs_menu_present": true,
   "autoclose": false,
   "autocomplete": true,
   "bibliofile": "biblio.bib",
   "cite_by": "apalike",
   "current_citInitial": 1,
   "eqLabelWithNumbers": true,
   "eqNumInitial": 1,
   "hotkeys": {
    "equation": "Ctrl-E",
    "itemize": "Ctrl-I"
   },
   "labels_anchors": false,
   "latex_user_defs": false,
   "report_style_numbering": false,
   "user_envs_cfg": false
  },
  "varInspector": {
   "cols": {
    "lenName": 16,
    "lenType": 16,
    "lenVar": 40
   },
   "kernels_config": {
    "python": {
     "delete_cmd_postfix": "",
     "delete_cmd_prefix": "del ",
     "library": "var_list.py",
     "varRefreshCmd": "print(var_dic_list())"
    },
    "r": {
     "delete_cmd_postfix": ") ",
     "delete_cmd_prefix": "rm(",
     "library": "var_list.r",
     "varRefreshCmd": "cat(var_dic_list()) "
    }
   },
   "types_to_exclude": [
    "module",
    "function",
    "builtin_function_or_method",
    "instance",
    "_Feature"
   ],
   "window_display": false
  }
 },
 "nbformat": 4,
 "nbformat_minor": 2
}
