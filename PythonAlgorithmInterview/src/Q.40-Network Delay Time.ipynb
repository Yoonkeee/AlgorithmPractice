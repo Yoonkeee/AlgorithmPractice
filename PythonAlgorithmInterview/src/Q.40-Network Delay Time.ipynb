{
 "cells": [
  {
   "cell_type": "markdown",
   "metadata": {},
   "source": [
    "# 네트워크 딜레이 타임 | 난이도 🌟🌟\n",
    "### 문제 출처 - 리트 코드 [743번 문제 Network Delay Time](https://leetcode.com/problems/network-delay-time)"
   ]
  },
  {
   "cell_type": "markdown",
   "metadata": {},
   "source": [
    "# BFS 문제를 DFS로 시도해봤다가 스파게티가 되어버렸다."
   ]
  },
  {
   "cell_type": "code",
   "execution_count": 88,
   "metadata": {
    "ExecuteTime": {
     "end_time": "2021-03-07T17:07:39.063652Z",
     "start_time": "2021-03-07T17:07:39.045777Z"
    }
   },
   "outputs": [
    {
     "name": "stdout",
     "output_type": "stream",
     "text": [
      "---------------------------------------------------------------------------\n",
      "input  :  [[[2, 1, 1], [2, 3, 1], [3, 4, 1]], 4, 2]\n",
      "expect :  2\n",
      "result :  2\n",
      "---------------------------------------------------------------------------\n",
      "input  :  [[[1, 2, 1], [2, 1, 3]], 2, 2]\n",
      "expect :  3\n",
      "result :  3\n",
      "---------------------------------------------------------------------------\n",
      "input  :  [[[1, 2, 1], [2, 3, 2], [1, 3, 4]], 3, 1]\n",
      "expect :  3\n",
      "result :  3\n",
      "---------------------------------------------------------------------------\n",
      "input  :  [[[1, 2, 1], [2, 3, 2], [1, 3, 2]], 3, 1]\n",
      "expect :  2\n",
      "result :  2\n"
     ]
    }
   ],
   "source": [
    "from typing import *\n",
    "import collections\n",
    "import itertools\n",
    "class Solution():\n",
    "    def func(self, input_data):\n",
    "        times, N, K = input_data\n",
    "        \n",
    "        arrived = [K]\n",
    "        nodes = collections.defaultdict(list)\n",
    "        times.sort(key=lambda x: x[2], reverse=True)\n",
    "\n",
    "        for u,v,w in times:\n",
    "            nodes[u].append([v,w])\n",
    "            \n",
    "        def dfs(i, time):\n",
    "            max_time = 0\n",
    "#             print(nodes)\n",
    "#             print(f'nodes : {dict(nodes)} nodes[{i}] : {nodes[i]}')\n",
    "            if not nodes[i]:\n",
    "#                 print(time)\n",
    "                return time\n",
    "            while nodes[i]:\n",
    "                v,w = nodes[i].pop()\n",
    "                if v not in arrived:\n",
    "                    arrived.append(v)\n",
    "#                     print(arrived, time, w)\n",
    "                    max_time = max(max_time, w, dfs(v, time+w))\n",
    "                else:\n",
    "                    max_time = min(max_time, dfs(v, time+w))\n",
    "                    \n",
    "            return max_time\n",
    "        \n",
    "        time = dfs(K, 0)\n",
    "        \n",
    "        return time if len(arrived) == N else -1\n",
    "\n",
    "    [[[1,2,1],[2,3,2],[1,3,4]],3,1]\n",
    "[[[1,2,1],[2,3,2],[1,3,2]],3,1]\n",
    "input_data = [[[[2,1,1],[2,3,1],[3,4,1]],4,2] ,\n",
    "              [[[1,2,1],[2,1,3]],2,2] ,\n",
    "              [[[1,2,1],[2,3,2],[1,3,4]],3,1],\n",
    "              [[[1,2,1],[2,3,2],[1,3,2]],3,1]\n",
    "             ]\n",
    "output_data = [2,3,3,2]\n",
    "sol = Solution()\n",
    "for i in range(len(input_data)):\n",
    "    print('---'*25)\n",
    "    print('input  : ', input_data[i])\n",
    "    print('expect : ', output_data[i])\n",
    "    print('result : ', sol.func(input_data[i]))"
   ]
  },
  {
   "cell_type": "code",
   "execution_count": null,
   "metadata": {},
   "outputs": [],
   "source": [
    "from typing import *\n",
    "import collections\n",
    "import itertools\n",
    "class Solution():\n",
    "    def func(self, input_data):\n",
    "        times, N, K = input_data\n",
    "        graph = collections.defaultdict(list)\n",
    "        for u, v, w in times:\n",
    "            graph[u].append((v,w))\n",
    "        Q = [(0,K)]  # Q = (소요 시간, 정점)\n",
    "        dist = collections.defaultdict(int)\n",
    "        \n",
    "        \n",
    "\n",
    "input_data = [[[[2,1,1],[2,3,1],[3,4,1]],4,2] ,\n",
    "              [[[1,2,1],[2,1,3]],2,2] ,\n",
    "              [[[1,2,1],[2,3,2],[1,3,4]],3,1],\n",
    "              [[[1,2,1],[2,3,2],[1,3,2]],3,1],\n",
    "              [[[3,1,5],[3,2,2],[2,1,2],[3,4,1],[4,5,1],[5,6,1],[6,7,1],[7,8,1],[8,1,1]],8,3]\n",
    "             ]\n",
    "output_data = [2,3,3,2,0]\n",
    "sol = Solution()\n",
    "for i in range(len(input_data)):\n",
    "    print('---'*25)\n",
    "    print('input  : ', input_data[i])\n",
    "    print('expect : ', output_data[i])\n",
    "    print('result : ', sol.func(input_data[i]))"
   ]
  }
 ],
 "metadata": {
  "kernelspec": {
   "display_name": "Python 3",
   "language": "python",
   "name": "python3"
  },
  "language_info": {
   "codemirror_mode": {
    "name": "ipython",
    "version": 3
   },
   "file_extension": ".py",
   "mimetype": "text/x-python",
   "name": "python",
   "nbconvert_exporter": "python",
   "pygments_lexer": "ipython3",
   "version": "3.7.2"
  },
  "latex_envs": {
   "LaTeX_envs_menu_present": true,
   "autoclose": false,
   "autocomplete": true,
   "bibliofile": "biblio.bib",
   "cite_by": "apalike",
   "current_citInitial": 1,
   "eqLabelWithNumbers": true,
   "eqNumInitial": 1,
   "hotkeys": {
    "equation": "Ctrl-E",
    "itemize": "Ctrl-I"
   },
   "labels_anchors": false,
   "latex_user_defs": false,
   "report_style_numbering": false,
   "user_envs_cfg": false
  },
  "varInspector": {
   "cols": {
    "lenName": 16,
    "lenType": 16,
    "lenVar": 40
   },
   "kernels_config": {
    "python": {
     "delete_cmd_postfix": "",
     "delete_cmd_prefix": "del ",
     "library": "var_list.py",
     "varRefreshCmd": "print(var_dic_list())"
    },
    "r": {
     "delete_cmd_postfix": ") ",
     "delete_cmd_prefix": "rm(",
     "library": "var_list.r",
     "varRefreshCmd": "cat(var_dic_list()) "
    }
   },
   "types_to_exclude": [
    "module",
    "function",
    "builtin_function_or_method",
    "instance",
    "_Feature"
   ],
   "window_display": false
  }
 },
 "nbformat": 4,
 "nbformat_minor": 2
}
