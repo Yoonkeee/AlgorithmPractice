{
 "cells": [
  {
   "cell_type": "markdown",
   "metadata": {},
   "source": [
    "# 일정 재구성 | 난이도 🌟🌟\n",
    "### 문제 출처 - 리트 코드 [332번 문제 Reconstruct Itinerary](https://leetcode.com/problems/reconstruct-itinerary)"
   ]
  },
  {
   "cell_type": "markdown",
   "metadata": {},
   "source": [
    "# 틀린 풀이. 결정적으로 DFS가 아님."
   ]
  },
  {
   "cell_type": "code",
   "execution_count": 28,
   "metadata": {
    "ExecuteTime": {
     "end_time": "2021-03-02T15:45:47.749949Z",
     "start_time": "2021-03-02T15:45:47.737237Z"
    }
   },
   "outputs": [
    {
     "name": "stdout",
     "output_type": "stream",
     "text": [
      "---------------------------------------------------------------------------\n",
      "input  :  [['MUC', 'LHR'], ['JFK', 'MUC'], ['SFO', 'SJC'], ['LHR', 'SFO']]\n",
      "expect :  ['JFK', 'MUC', 'LHR', 'SFO', 'SJC']\n",
      "result :  ['JFK', 'MUC', 'LHR', 'SFO', 'SJC']\n",
      "---------------------------------------------------------------------------\n",
      "input  :  [['JFK', 'SFO'], ['JFK', 'ATL'], ['SFO', 'ATL'], ['ATL', 'JFK'], ['ATL', 'SFO']]\n",
      "expect :  ['JFK', 'ATL', 'JFK', 'SFO', 'ATL', 'SFO']\n",
      "result :  ['JFK', 'ATL', 'JFK', 'SFO', 'ATL', 'SFO']\n",
      "---------------------------------------------------------------------------\n",
      "input  :  [['JFK', 'KUL'], ['JFK', 'NRT'], ['NRT', 'JFK']]\n",
      "expect :  ['JFK', 'NRT', 'JFK', 'KUL']\n",
      "result :  ['JFK', 'KUL']\n"
     ]
    }
   ],
   "source": [
    "from typing import *\n",
    "import collections\n",
    "import itertools\n",
    "class Solution():\n",
    "    def func(self, input_data):\n",
    "        tickets = input_data\n",
    "        arrived = []\n",
    "        cur = 'JFK'\n",
    "        dic = collections.defaultdict(list)\n",
    "        for i in range(len(tickets)):\n",
    "            dic[tickets[i][0]].append(tickets[i][1])\n",
    "            dic[tickets[i][0]].sort()\n",
    "        \n",
    "        if 'JFK' in dic:\n",
    "            arrived.append('JFK')\n",
    "            \n",
    "        while cur in dic:\n",
    "                cur = dic[cur].pop(0)\n",
    "                if not dic[cur]:\n",
    "                    del dic[cur]\n",
    "                arrived.append(cur)\n",
    "#                 print(f'cur : {cur}, arrived : {arrived}')\n",
    "        return arrived\n",
    "\n",
    "    \n",
    "\n",
    "input_data = [[[\"MUC\", \"LHR\"], [\"JFK\", \"MUC\"], [\"SFO\", \"SJC\"], ['LHR', 'SFO']],\n",
    "             [['JFK', 'SFO'], ['JFK', 'ATL'], ['SFO', 'ATL'], ['ATL', 'JFK'], ['ATL', 'SFO']],\n",
    "             [[\"JFK\",\"KUL\"],[\"JFK\",\"NRT\"],[\"NRT\",\"JFK\"]]]\n",
    "output_data = [['JFK', 'MUC', 'LHR', 'SFO', 'SJC'],\n",
    "              ['JFK', 'ATL', 'JFK', 'SFO', 'ATL', 'SFO'],\n",
    "              ['JFK', 'NRT', 'JFK', 'KUL']]\n",
    "sol = Solution()\n",
    "for i in range(len(input_data)):\n",
    "    print('---'*25)\n",
    "    print('input  : ', input_data[i])\n",
    "    print('expect : ', output_data[i])\n",
    "    print('result : ', sol.func(input_data[i]))"
   ]
  },
  {
   "cell_type": "markdown",
   "metadata": {},
   "source": [
    "# DFS로 일정 그래프 구성"
   ]
  },
  {
   "cell_type": "code",
   "execution_count": 35,
   "metadata": {
    "ExecuteTime": {
     "end_time": "2021-03-02T15:52:30.199546Z",
     "start_time": "2021-03-02T15:52:30.187755Z"
    }
   },
   "outputs": [
    {
     "name": "stdout",
     "output_type": "stream",
     "text": [
      "---------------------------------------------------------------------------\n",
      "input  :  [['JFK', 'KUL'], ['JFK', 'NRT'], ['NRT', 'JFK']]\n",
      "expect :  ['JFK', 'NRT', 'JFK', 'KUL']\n",
      "a : JFK , graph : {'JFK': ['KUL', 'NRT'], 'NRT': ['JFK']} , route : []\n",
      "a : KUL , graph : {'JFK': ['NRT'], 'NRT': ['JFK']} , route : []\n",
      "append KUL\n",
      "a : NRT , graph : {'JFK': [], 'NRT': ['JFK'], 'KUL': []} , route : ['KUL']\n",
      "a : JFK , graph : {'JFK': [], 'NRT': [], 'KUL': []} , route : ['KUL']\n",
      "append JFK\n",
      "append NRT\n",
      "append JFK\n",
      "result :  ['JFK', 'NRT', 'JFK', 'KUL']\n"
     ]
    }
   ],
   "source": [
    "from typing import *\n",
    "import collections\n",
    "import itertools\n",
    "class Solution():\n",
    "    def func(self, input_data):\n",
    "        tickets = input_data\n",
    "        graph = collections.defaultdict(list)\n",
    "        \n",
    "        for a, b in sorted(tickets):\n",
    "            graph[a].append(b)\n",
    "        route = []\n",
    "        def dfs(a):\n",
    "#             print(f'a : {a} , graph : {dict(graph)} , route : {route}')\n",
    "            while graph[a]:\n",
    "                dfs(graph[a].pop(0))\n",
    "#             print(f'append {a}')\n",
    "            route.append(a)\n",
    "        dfs('JFK')\n",
    "        return route[::-1]\n",
    "\n",
    "    \n",
    "\n",
    "input_data = [[[\"JFK\",\"KUL\"],[\"JFK\",\"NRT\"],[\"NRT\",\"JFK\"]]]\n",
    "output_data = [['JFK', 'NRT', 'JFK', 'KUL']]\n",
    "sol = Solution()\n",
    "for i in range(len(input_data)):\n",
    "    print('---'*25)\n",
    "    print('input  : ', input_data[i])\n",
    "    print('expect : ', output_data[i])\n",
    "    print('result : ', sol.func(input_data[i]))"
   ]
  },
  {
   "cell_type": "markdown",
   "metadata": {},
   "source": [
    "# 스택 연산으로 큐 연산 최적화 시도"
   ]
  },
  {
   "cell_type": "code",
   "execution_count": 20,
   "metadata": {
    "ExecuteTime": {
     "end_time": "2021-03-02T15:35:06.858233Z",
     "start_time": "2021-03-02T15:35:06.853796Z"
    }
   },
   "outputs": [
    {
     "name": "stdout",
     "output_type": "stream",
     "text": [
      "SFO\n",
      "{'JFK': ['ATL'], 'SFO': ['SS'], 'ATL': ['JFK', 'SFO']}\n"
     ]
    }
   ],
   "source": [
    "from typing import *\n",
    "import collections\n",
    "import itertools\n",
    "class Solution():\n",
    "    def func(self, input_data):\n",
    "        tickets = input_data\n",
    "        graph = collections.defaultdict(list)\n",
    "        for a, b in sorted(tickets, reverse=True):\n",
    "            graph[a].append(b)\n",
    "        route = []\n",
    "        def dfs(a):\n",
    "            while graph[a]:\n",
    "                dfs(graph[a].pop())\n",
    "            route.append(a)\n",
    "        dfs('JFK')\n",
    "        return route[::-1]\n",
    "\n",
    "    \n",
    "input_data = [[[\"JFK\",\"KUL\"],[\"JFK\",\"NRT\"],[\"NRT\",\"JFK\"]]]\n",
    "output_data = [['JFK', 'NRT', 'JFK', 'KUL']]\n",
    "sol = Solution()\n",
    "for i in range(len(input_data)):\n",
    "    print('---'*25)\n",
    "    print('input  : ', input_data[i])\n",
    "    print('expect : ', output_data[i])\n",
    "    print('result : ', sol.func(input_data[i]))"
   ]
  },
  {
   "cell_type": "markdown",
   "metadata": {},
   "source": [
    "# 일정 그래프 반복"
   ]
  },
  {
   "cell_type": "code",
   "execution_count": 44,
   "metadata": {
    "ExecuteTime": {
     "end_time": "2021-03-03T17:13:35.529219Z",
     "start_time": "2021-03-03T17:13:35.519110Z"
    }
   },
   "outputs": [
    {
     "name": "stdout",
     "output_type": "stream",
     "text": [
      "---------------------------------------------------------------------------\n",
      "input  :  [['JFK', 'KUL'], ['JFK', 'NRT'], ['NRT', 'JFK']]\n",
      "expect :  ['JFK', 'NRT', 'JFK', 'KUL']\n",
      "result :  ['JFK', 'NRT', 'JFK', 'KUL']\n"
     ]
    }
   ],
   "source": [
    "from typing import *\n",
    "import collections\n",
    "import itertools\n",
    "class Solution():\n",
    "    def func(self, input_data):\n",
    "        tickets = input_data\n",
    "        graph = collections.defaultdict(list)\n",
    "        for a, b in sorted(tickets):\n",
    "            graph[a].append(b)\n",
    "        route, stack = [], ['JFK']\n",
    "        while stack:\n",
    "            while graph[stack[-1]]:\n",
    "                stack.append(graph[stack[-1]].pop(0))\n",
    "            route.append(stack.pop())\n",
    "        return route[::-1]\n",
    "            \n",
    "\n",
    "    \n",
    "input_data = [[[\"JFK\",\"KUL\"],[\"JFK\",\"NRT\"],[\"NRT\",\"JFK\"]]]\n",
    "output_data = [['JFK', 'NRT', 'JFK', 'KUL']]\n",
    "sol = Solution()\n",
    "for i in range(len(input_data)):\n",
    "    print('---'*25)\n",
    "    print('input  : ', input_data[i])\n",
    "    print('expect : ', output_data[i])\n",
    "    print('result : ', sol.func(input_data[i]))"
   ]
  }
 ],
 "metadata": {
  "kernelspec": {
   "display_name": "Python 3",
   "language": "python",
   "name": "python3"
  },
  "language_info": {
   "codemirror_mode": {
    "name": "ipython",
    "version": 3
   },
   "file_extension": ".py",
   "mimetype": "text/x-python",
   "name": "python",
   "nbconvert_exporter": "python",
   "pygments_lexer": "ipython3",
   "version": "3.7.2"
  },
  "latex_envs": {
   "LaTeX_envs_menu_present": true,
   "autoclose": false,
   "autocomplete": true,
   "bibliofile": "biblio.bib",
   "cite_by": "apalike",
   "current_citInitial": 1,
   "eqLabelWithNumbers": true,
   "eqNumInitial": 1,
   "hotkeys": {
    "equation": "Ctrl-E",
    "itemize": "Ctrl-I"
   },
   "labels_anchors": false,
   "latex_user_defs": false,
   "report_style_numbering": false,
   "user_envs_cfg": false
  },
  "varInspector": {
   "cols": {
    "lenName": 16,
    "lenType": 16,
    "lenVar": 40
   },
   "kernels_config": {
    "python": {
     "delete_cmd_postfix": "",
     "delete_cmd_prefix": "del ",
     "library": "var_list.py",
     "varRefreshCmd": "print(var_dic_list())"
    },
    "r": {
     "delete_cmd_postfix": ") ",
     "delete_cmd_prefix": "rm(",
     "library": "var_list.r",
     "varRefreshCmd": "cat(var_dic_list()) "
    }
   },
   "types_to_exclude": [
    "module",
    "function",
    "builtin_function_or_method",
    "instance",
    "_Feature"
   ],
   "window_display": false
  }
 },
 "nbformat": 4,
 "nbformat_minor": 2
}
