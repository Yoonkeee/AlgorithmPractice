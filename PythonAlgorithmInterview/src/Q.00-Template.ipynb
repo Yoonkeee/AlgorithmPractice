{
 "cells": [
  {
   "cell_type": "code",
   "execution_count": null,
   "metadata": {
    "ExecuteTime": {
     "start_time": "2021-05-29T11:45:29.567Z"
    },
    "scrolled": true
   },
   "outputs": [],
   "source": [
    "from IPython.display import clear_output\n",
    "num = input('Q.?  : ')\n",
    "name = input('Problem Name : ')\n",
    "kor_name = input('문제 이름 : ')\n",
    "difficulty = int(input('난이도(별 갯수) : '))\n",
    "leet_num = input('Leetcode Problem Number')\n",
    "full = 'Q.'+num+'-'+name+'.ipynb'\n",
    "address = full.split('-')[1].split('.')[0].replace(' ', '-').lower()\n",
    "clear_output()\n",
    "File = full.split('-')[1].split('.')[0]\n",
    "print(full)\n",
    "print(f'[Q.{num} {kor_name}](https://github.com/Yoonkeee/AlgorithmPractice/blob/master/'+\n",
    "      f'PythonAlgorithmInterview/src/'+\n",
    "      f\"{full.replace(' ', '%20')}) - \")\n",
    "print(f\"# {kor_name} | 난이도 {'🌟'*difficulty}\")\n",
    "print(f'### 문제 출처 - 리트 코드 [{leet_num}번 문제 {File}](https://leetcode.com/problems/{address})', end='')"
   ]
  },
  {
   "cell_type": "markdown",
   "metadata": {},
   "source": [
    "# 문제이름 | 난이도 🌟\n",
    "### 문제 출처 - 리트 코드 [0번 문제 PROBLEM](https://leetcode.com/problems/PROBLEM)"
   ]
  },
  {
   "cell_type": "code",
   "execution_count": null,
   "metadata": {
    "ExecuteTime": {
     "end_time": "2021-01-23T15:11:08.481689Z",
     "start_time": "2021-01-23T15:11:08.347977Z"
    }
   },
   "outputs": [],
   "source": [
    "from typing import *\n",
    "import collections\n",
    "import itertools\n",
    "class Solution():\n",
    "    def func(self, input_data):\n",
    "        somevar = input_data\n",
    "\n",
    "    \n",
    "\n",
    "input_data = [[data]]\n",
    "output_data = [data]\n",
    "sol = Solution()\n",
    "for i in range(len(input_data)):\n",
    "    print('---'*25)\n",
    "    print('input  : ', input_data[i])\n",
    "    print('expect : ', output_data[i])\n",
    "    print('result : ', sol.func(input_data[i]))"
   ]
  },
  {
   "cell_type": "markdown",
   "metadata": {},
   "source": [
    "# Linked List Form"
   ]
  },
  {
   "cell_type": "code",
   "execution_count": null,
   "metadata": {},
   "outputs": [],
   "source": [
    "from typing import *\n",
    "import collections\n",
    "import itertools\n",
    "# Definition for singly-linked list.\n",
    "class ListNode:\n",
    "    def __init__(self, val=0, next=None):\n",
    "        self.val = val\n",
    "        self.next = next\n",
    "        \n",
    "input_data = [[1,2,3]]\n",
    "heads:List[ListNode] = []\n",
    "\n",
    "for i in range(len(input_data)):\n",
    "    if len(input_data[i]) >= 1:\n",
    "        head = ListNode(input_data[i][-1])\n",
    "        for n in range(-2, -len(input_data[i])-1, -1):\n",
    "            node = head\n",
    "            head = ListNode(input_data[i][n])\n",
    "            head.next = node\n",
    "        heads.append(head)\n",
    "    else:\n",
    "        heads.append([])\n",
    "\n",
    "class Solution():\n",
    "    def func(self, head):\n",
    "        \n",
    "        \n",
    "        \n",
    "output_data = [[1,2,3]]\n",
    "sol = Solution()\n",
    "output_heads, output = [], []\n",
    "\n",
    "for i in range(len(input_data)):\n",
    "    output_heads.append(sol.func(heads[i]))\n",
    "    \n",
    "for node in output_heads:\n",
    "    n = []\n",
    "    while node != None:\n",
    "        n.append(node.val)\n",
    "        node = node.next\n",
    "    output.append(n)\n",
    "    \n",
    "for i in range(len(input_data)):\n",
    "    print('---'*25)\n",
    "    print('input  : ', input_data[i])\n",
    "    print('expect : ', output_data[i])\n",
    "    print('output : ', output[i])"
   ]
  }
 ],
 "metadata": {
  "kernelspec": {
   "display_name": "Python 3 (ipykernel)",
   "language": "python",
   "name": "python3"
  },
  "language_info": {
   "codemirror_mode": {
    "name": "ipython",
    "version": 3
   },
   "file_extension": ".py",
   "mimetype": "text/x-python",
   "name": "python",
   "nbconvert_exporter": "python",
   "pygments_lexer": "ipython3",
   "version": "3.9.6"
  },
  "latex_envs": {
   "LaTeX_envs_menu_present": true,
   "autoclose": false,
   "autocomplete": true,
   "bibliofile": "biblio.bib",
   "cite_by": "apalike",
   "current_citInitial": 1,
   "eqLabelWithNumbers": true,
   "eqNumInitial": 1,
   "hotkeys": {
    "equation": "Ctrl-E",
    "itemize": "Ctrl-I"
   },
   "labels_anchors": false,
   "latex_user_defs": false,
   "report_style_numbering": false,
   "user_envs_cfg": false
  },
  "varInspector": {
   "cols": {
    "lenName": 16,
    "lenType": 16,
    "lenVar": 40
   },
   "kernels_config": {
    "python": {
     "delete_cmd_postfix": "",
     "delete_cmd_prefix": "del ",
     "library": "var_list.py",
     "varRefreshCmd": "print(var_dic_list())"
    },
    "r": {
     "delete_cmd_postfix": ") ",
     "delete_cmd_prefix": "rm(",
     "library": "var_list.r",
     "varRefreshCmd": "cat(var_dic_list()) "
    }
   },
   "types_to_exclude": [
    "module",
    "function",
    "builtin_function_or_method",
    "instance",
    "_Feature"
   ],
   "window_display": false
  }
 },
 "nbformat": 4,
 "nbformat_minor": 2
}
