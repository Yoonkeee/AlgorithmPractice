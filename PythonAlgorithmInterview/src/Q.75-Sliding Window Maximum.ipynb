{
 "cells": [
  {
   "cell_type": "markdown",
   "metadata": {},
   "source": [
    "# 최대 슬라이딩 윈도우 | 난이도 🌟🌟🌟\n",
    "### 문제 출처 - 리트 코드 [239번 문제 Sliding Window Maximum](https://leetcode.com/problems/sliding-window-maximum)"
   ]
  },
  {
   "cell_type": "code",
   "execution_count": null,
   "metadata": {
    "ExecuteTime": {
     "end_time": "2021-01-23T15:11:08.481689Z",
     "start_time": "2021-01-23T15:11:08.347977Z"
    }
   },
   "outputs": [],
   "source": [
    "class Solution:\n",
    "    def maxSlidingWindow(self, nums: List[int], k: int) -> List[int]:\n",
    "        answer = []\n",
    "        for i in range(len(nums) - k + 1):\n",
    "            answer.append(max(nums[i : i+k]))\n",
    "        \n",
    "        return answer"
   ]
  },
  {
   "cell_type": "code",
   "execution_count": null,
   "metadata": {},
   "outputs": [],
   "source": [
    "class Solution:\n",
    "    def maxSlidingWindow(self, nums: List[int], k: int) -> List[int]:\n",
    "        deq, ans = collections.deque(), []\n",
    "\n",
    "        for i in range(len(nums)):\n",
    "            print(i, deq, ans)\n",
    "            # 앞에서부터 out of window -> 제거\n",
    "            if deq and i-deq[0] == k:\n",
    "                deq.popleft()\n",
    "\n",
    "            # 뒤에서부터 현재 추가할 숫자보다 작으면 -> 제거 (deq에 불필요한 숫자 없도록!)\n",
    "            while deq and nums[deq[-1]] <= nums[i]:\n",
    "                deq.pop()\n",
    "\n",
    "            deq.append(i) # 현재 숫자 추가( (i, num[i])로 저장해도 되나, \n",
    "                          # 숫자 위치 저장만 해 space 줄임)\n",
    "\n",
    "            # 출력 부분 (현재 위치 >= window size일 때)\n",
    "            if i+1 >= k:\n",
    "                ans.append(nums[deq[0]])  # 맨 앞은 현재 window 에서 가장 큰 수\n",
    "\n",
    "        return ans"
   ]
  }
 ],
 "metadata": {
  "kernelspec": {
   "display_name": "Python 3",
   "language": "python",
   "name": "python3"
  },
  "language_info": {
   "codemirror_mode": {
    "name": "ipython",
    "version": 3
   },
   "file_extension": ".py",
   "mimetype": "text/x-python",
   "name": "python",
   "nbconvert_exporter": "python",
   "pygments_lexer": "ipython3",
   "version": "3.8.5"
  },
  "latex_envs": {
   "LaTeX_envs_menu_present": true,
   "autoclose": false,
   "autocomplete": true,
   "bibliofile": "biblio.bib",
   "cite_by": "apalike",
   "current_citInitial": 1,
   "eqLabelWithNumbers": true,
   "eqNumInitial": 1,
   "hotkeys": {
    "equation": "Ctrl-E",
    "itemize": "Ctrl-I"
   },
   "labels_anchors": false,
   "latex_user_defs": false,
   "report_style_numbering": false,
   "user_envs_cfg": false
  },
  "varInspector": {
   "cols": {
    "lenName": 16,
    "lenType": 16,
    "lenVar": 40
   },
   "kernels_config": {
    "python": {
     "delete_cmd_postfix": "",
     "delete_cmd_prefix": "del ",
     "library": "var_list.py",
     "varRefreshCmd": "print(var_dic_list())"
    },
    "r": {
     "delete_cmd_postfix": ") ",
     "delete_cmd_prefix": "rm(",
     "library": "var_list.r",
     "varRefreshCmd": "cat(var_dic_list()) "
    }
   },
   "types_to_exclude": [
    "module",
    "function",
    "builtin_function_or_method",
    "instance",
    "_Feature"
   ],
   "window_display": false
  }
 },
 "nbformat": 4,
 "nbformat_minor": 2
}
