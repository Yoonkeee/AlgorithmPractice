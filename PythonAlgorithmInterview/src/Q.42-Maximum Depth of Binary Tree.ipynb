{
 "cells": [
  {
   "cell_type": "markdown",
   "metadata": {},
   "source": [
    "# 이진 트리의 최대 깊이 | 난이도 🌟\n",
    "### 문제 출처 - 리트 코드 [104번 문제 Maximum Depth of Binary Tree](https://leetcode.com/problems/maximum-depth-of-binary-tree)"
   ]
  },
  {
   "cell_type": "markdown",
   "metadata": {},
   "source": [
    "# Linked List Form"
   ]
  },
  {
   "cell_type": "code",
   "execution_count": 17,
   "metadata": {
    "ExecuteTime": {
     "end_time": "2021-03-23T15:01:52.185916Z",
     "start_time": "2021-03-23T15:01:52.172569Z"
    }
   },
   "outputs": [
    {
     "name": "stdout",
     "output_type": "stream",
     "text": [
      "4\n"
     ]
    }
   ],
   "source": [
    "from typing import *\n",
    "import collections\n",
    "import itertools\n",
    "# Definition for singly-linked list.\n",
    "# class ListNode:\n",
    "#     def __init__(self, val=0, next=None):\n",
    "#         self.val = val\n",
    "#         self.next = next\n",
    "        \n",
    "# Definition for a binary tree node.\n",
    "class TreeNode:\n",
    "    def __init__(self, val=0, left=None, right=None):\n",
    "        self.val = val\n",
    "        self.left = left\n",
    "        self.right = right\n",
    "\n",
    "class Solution:\n",
    "    def maxDepth(self, root: TreeNode) -> int:\n",
    "        pass\n",
    "input_data = [3, 9, 20, 'null', 'null', 15, 7]\n",
    "head = TreeNode(input_data.pop(0))\n",
    "def put_value(head):\n",
    "    if input_data:\n",
    "        head.left = TreeNode(input_data.pop(0))\n",
    "        head.right = TreeNode(input_data.pop(0))\n",
    "#         print(head.left.val, head.right.val)\n",
    "        put_value(head.left)\n",
    "        put_value(head.right)\n",
    "put_value(head)\n",
    "\n",
    "\n",
    "def func(root):\n",
    "    if root is None:\n",
    "        return 0\n",
    "    queue = collections.deque([root])\n",
    "    depth = 0\n",
    "    \n",
    "    while queue:\n",
    "        depth += 1\n",
    "        for _ in range(len(queue)):\n",
    "            cur_root = queue.popleft()\n",
    "            if cur_root.left:\n",
    "                queue.append(cur_root.left)\n",
    "            if cur_root.right:\n",
    "                queue.append(cur_root.right)\n",
    "    return depth\n",
    "print(func(head))\n",
    "        \n"
   ]
  }
 ],
 "metadata": {
  "kernelspec": {
   "display_name": "Python 3",
   "language": "python",
   "name": "python3"
  },
  "language_info": {
   "codemirror_mode": {
    "name": "ipython",
    "version": 3
   },
   "file_extension": ".py",
   "mimetype": "text/x-python",
   "name": "python",
   "nbconvert_exporter": "python",
   "pygments_lexer": "ipython3",
   "version": "3.7.2"
  },
  "latex_envs": {
   "LaTeX_envs_menu_present": true,
   "autoclose": false,
   "autocomplete": true,
   "bibliofile": "biblio.bib",
   "cite_by": "apalike",
   "current_citInitial": 1,
   "eqLabelWithNumbers": true,
   "eqNumInitial": 1,
   "hotkeys": {
    "equation": "Ctrl-E",
    "itemize": "Ctrl-I"
   },
   "labels_anchors": false,
   "latex_user_defs": false,
   "report_style_numbering": false,
   "user_envs_cfg": false
  },
  "varInspector": {
   "cols": {
    "lenName": 16,
    "lenType": 16,
    "lenVar": 40
   },
   "kernels_config": {
    "python": {
     "delete_cmd_postfix": "",
     "delete_cmd_prefix": "del ",
     "library": "var_list.py",
     "varRefreshCmd": "print(var_dic_list())"
    },
    "r": {
     "delete_cmd_postfix": ") ",
     "delete_cmd_prefix": "rm(",
     "library": "var_list.r",
     "varRefreshCmd": "cat(var_dic_list()) "
    }
   },
   "types_to_exclude": [
    "module",
    "function",
    "builtin_function_or_method",
    "instance",
    "_Feature"
   ],
   "window_display": false
  }
 },
 "nbformat": 4,
 "nbformat_minor": 2
}
