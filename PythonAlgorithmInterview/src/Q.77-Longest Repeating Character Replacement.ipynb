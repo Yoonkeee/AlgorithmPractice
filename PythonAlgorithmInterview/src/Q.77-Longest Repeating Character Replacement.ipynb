{
 "cells": [
  {
   "cell_type": "markdown",
   "metadata": {},
   "source": [
    "# 가장 긴 반복 문자 대체 | 난이도 🌟🌟\n",
    "### 문제 출처 - 리트 코드 [424번 문제 Longest Repeating Character Replacement](https://leetcode.com/problems/longest-repeating-character-replacement)"
   ]
  },
  {
   "cell_type": "code",
   "execution_count": 7,
   "metadata": {
    "ExecuteTime": {
     "end_time": "2021-07-25T14:11:13.243390Z",
     "start_time": "2021-07-25T14:11:13.227304Z"
    }
   },
   "outputs": [
    {
     "name": "stdout",
     "output_type": "stream",
     "text": [
      "---------------------------------------------------------------------------\n",
      "input  :  ['ABAB', 2]\n",
      "expect :  4\n",
      "ABAB\n",
      "Counter({'A': 1}) 0 1\n",
      "max_char_n : 1\n",
      "Counter({'A': 1, 'B': 1}) 0 2\n",
      "max_char_n : 1\n",
      "Counter({'A': 2, 'B': 1}) 0 3\n",
      "max_char_n : 2\n",
      "Counter({'A': 2, 'B': 2}) 0 4\n",
      "max_char_n : 2\n",
      "result :  4\n",
      "---------------------------------------------------------------------------\n",
      "input  :  ['AABABBA', 1]\n",
      "expect :  4\n",
      "AABABBA\n",
      "Counter({'A': 1}) 0 1\n",
      "max_char_n : 1\n",
      "Counter({'A': 2}) 0 2\n",
      "max_char_n : 2\n",
      "Counter({'A': 2, 'B': 1}) 0 3\n",
      "max_char_n : 2\n",
      "Counter({'A': 3, 'B': 1}) 0 4\n",
      "max_char_n : 3\n",
      "Counter({'A': 3, 'B': 2}) 0 5\n",
      "max_char_n : 3\n",
      "Counter({'B': 3, 'A': 2}) 1 6\n",
      "max_char_n : 3\n",
      "Counter({'B': 3, 'A': 2}) 2 7\n",
      "max_char_n : 3\n",
      "result :  4\n"
     ]
    }
   ],
   "source": [
    "from typing import *\n",
    "import collections\n",
    "import itertools\n",
    "class Solution():\n",
    "    def func(self, s: str, k: int) -> int:\n",
    "        left = right = 0\n",
    "        counts = collections.Counter()\n",
    "        print(s)\n",
    "        for right in range(1, len(s) + 1):\n",
    "            counts[s[right - 1]] += 1\n",
    "            max_char_n = counts.most_common(1)[0][1]\n",
    "            print(counts, left, right)\n",
    "            print(f'max_char_n : {max_char_n}')\n",
    "            \n",
    "            if right - left - max_char_n > k:\n",
    "                counts[s[left]] -= 1\n",
    "                left += 1\n",
    "                \n",
    "        return right - left\n",
    "\n",
    "    \n",
    "input_data = [['ABAB', 2], ['AABABBA', 1]]\n",
    "output_data = [4, 4]\n",
    "sol = Solution()\n",
    "for i in range(len(input_data)):\n",
    "    print('---'*25)\n",
    "    print('input  : ', input_data[i])\n",
    "    print('expect : ', output_data[i])\n",
    "    print('result : ', sol.func(*input_data[i]))"
   ]
  }
 ],
 "metadata": {
  "kernelspec": {
   "display_name": "Python 3 (ipykernel)",
   "language": "python",
   "name": "python3"
  },
  "language_info": {
   "codemirror_mode": {
    "name": "ipython",
    "version": 3
   },
   "file_extension": ".py",
   "mimetype": "text/x-python",
   "name": "python",
   "nbconvert_exporter": "python",
   "pygments_lexer": "ipython3",
   "version": "3.9.6"
  },
  "latex_envs": {
   "LaTeX_envs_menu_present": true,
   "autoclose": false,
   "autocomplete": true,
   "bibliofile": "biblio.bib",
   "cite_by": "apalike",
   "current_citInitial": 1,
   "eqLabelWithNumbers": true,
   "eqNumInitial": 1,
   "hotkeys": {
    "equation": "Ctrl-E",
    "itemize": "Ctrl-I"
   },
   "labels_anchors": false,
   "latex_user_defs": false,
   "report_style_numbering": false,
   "user_envs_cfg": false
  },
  "varInspector": {
   "cols": {
    "lenName": 16,
    "lenType": 16,
    "lenVar": 40
   },
   "kernels_config": {
    "python": {
     "delete_cmd_postfix": "",
     "delete_cmd_prefix": "del ",
     "library": "var_list.py",
     "varRefreshCmd": "print(var_dic_list())"
    },
    "r": {
     "delete_cmd_postfix": ") ",
     "delete_cmd_prefix": "rm(",
     "library": "var_list.r",
     "varRefreshCmd": "cat(var_dic_list()) "
    }
   },
   "types_to_exclude": [
    "module",
    "function",
    "builtin_function_or_method",
    "instance",
    "_Feature"
   ],
   "window_display": false
  }
 },
 "nbformat": 4,
 "nbformat_minor": 2
}
