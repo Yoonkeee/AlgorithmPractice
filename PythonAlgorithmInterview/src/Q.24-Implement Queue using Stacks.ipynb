{
 "cells": [
  {
   "cell_type": "markdown",
   "metadata": {},
   "source": [
    "# 스택을 이용한 큐 구현  | 난이도 🌟\n",
    "### 문제 출처 - 리트 코드 [232번 문제 Implement Queue using Stacks](https://leetcode.com/problems/implement-queue-using-stacks)"
   ]
  },
  {
   "cell_type": "code",
   "execution_count": null,
   "metadata": {
    "ExecuteTime": {
     "end_time": "2021-01-23T15:11:08.481689Z",
     "start_time": "2021-01-23T15:11:08.347977Z"
    }
   },
   "outputs": [],
   "source": [
    "from typing import *\n",
    "class Solution():\n",
    "    def __init__(self):\n",
    "        self.input = []\n",
    "        self.output = []\n",
    "\n",
    "    def push(self, x: int) -> None:\n",
    "        self.input.append(x)\n",
    "\n",
    "    def pop(self) -> int:\n",
    "        self.peek()\n",
    "        return self.output.pop()\n",
    "\n",
    "    def peek(self) -> int:\n",
    "        if not self.output:\n",
    "            while self.input:\n",
    "                self.output.append(self.input.pop())\n",
    "        return self.output[-1]\n",
    "\n",
    "    def empty(self) -> bool:\n",
    "        return self.input == [] and self.output == []\n"
   ]
  }
 ],
 "metadata": {
  "kernelspec": {
   "display_name": "Python 3",
   "language": "python",
   "name": "python3"
  },
  "language_info": {
   "codemirror_mode": {
    "name": "ipython",
    "version": 3
   },
   "file_extension": ".py",
   "mimetype": "text/x-python",
   "name": "python",
   "nbconvert_exporter": "python",
   "pygments_lexer": "ipython3",
   "version": "3.7.2"
  },
  "latex_envs": {
   "LaTeX_envs_menu_present": true,
   "autoclose": false,
   "autocomplete": true,
   "bibliofile": "biblio.bib",
   "cite_by": "apalike",
   "current_citInitial": 1,
   "eqLabelWithNumbers": true,
   "eqNumInitial": 1,
   "hotkeys": {
    "equation": "Ctrl-E",
    "itemize": "Ctrl-I"
   },
   "labels_anchors": false,
   "latex_user_defs": false,
   "report_style_numbering": false,
   "user_envs_cfg": false
  },
  "varInspector": {
   "cols": {
    "lenName": 16,
    "lenType": 16,
    "lenVar": 40
   },
   "kernels_config": {
    "python": {
     "delete_cmd_postfix": "",
     "delete_cmd_prefix": "del ",
     "library": "var_list.py",
     "varRefreshCmd": "print(var_dic_list())"
    },
    "r": {
     "delete_cmd_postfix": ") ",
     "delete_cmd_prefix": "rm(",
     "library": "var_list.r",
     "varRefreshCmd": "cat(var_dic_list()) "
    }
   },
   "types_to_exclude": [
    "module",
    "function",
    "builtin_function_or_method",
    "instance",
    "_Feature"
   ],
   "window_display": false
  }
 },
 "nbformat": 4,
 "nbformat_minor": 2
}
