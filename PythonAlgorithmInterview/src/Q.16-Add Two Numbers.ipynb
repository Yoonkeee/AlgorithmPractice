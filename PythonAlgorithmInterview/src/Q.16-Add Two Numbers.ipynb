{
 "cells": [
  {
   "cell_type": "markdown",
   "metadata": {},
   "source": [
    "# 두 수의 덧셈 | 난이도 🌟🌟\n",
    "### 문제 출처 - 리트 코드 [2번 문제 Add Two Numbers](https://leetcode.com/problems/add-two-numbers)"
   ]
  },
  {
   "cell_type": "markdown",
   "metadata": {},
   "source": [
    "# 1. Recursion"
   ]
  },
  {
   "cell_type": "code",
   "execution_count": 38,
   "metadata": {
    "ExecuteTime": {
     "end_time": "2021-01-28T19:48:33.579174Z",
     "start_time": "2021-01-28T19:48:33.562540Z"
    }
   },
   "outputs": [
    {
     "name": "stdout",
     "output_type": "stream",
     "text": [
      "---------------------------------------------------------------------------\n",
      "input  :  [[9, 9, 9, 9, 9, 9, 9], [9, 9, 9, 9]]\n",
      "output :  [8, 9, 9, 9, 0, 0, 0, 1]\n",
      "result :  [8, 9, 9, 9, 0, 0, 0, 1]\n"
     ]
    }
   ],
   "source": [
    "from typing import *\n",
    "# Definition for singly-linked list.\n",
    "class ListNode:\n",
    "    def __init__(self, val=0, next=None):\n",
    "        self.val = val\n",
    "        self.next = next\n",
    "        \n",
    "input_data = [[9,9,9,9,9,9,9], [9,9,9,9]]\n",
    "heads:List[ListNode] = []\n",
    "\n",
    "for i in range(len(input_data)):\n",
    "    if len(input_data) >= 1:\n",
    "        head = ListNode(input_data[i][-1])\n",
    "        for n in range(-2, -len(input_data[i])-1, -1):\n",
    "            node = head\n",
    "            head = ListNode(input_data[i][n])\n",
    "            head.next = node\n",
    "        heads.append(head)\n",
    "    else:\n",
    "        heads.append([])\n",
    "        \n",
    "\n",
    "class Solution():\n",
    "    def func(self, l1, l2):\n",
    "        def loop(l1, l2, carry):\n",
    "            sum = 0\n",
    "            if not l1 and not l2 and not carry:\n",
    "                return None\n",
    "            if l1:\n",
    "                sum += l1.val\n",
    "                l1 = l1.next\n",
    "            if l2:\n",
    "                sum += l2.val\n",
    "                l2 = l2.next\n",
    "            if carry:\n",
    "                sum += 1\n",
    "                carry = 0\n",
    "            if sum >= 10:\n",
    "                carry += 1\n",
    "                sum -= 10\n",
    "            result = ListNode(sum)\n",
    "            result.next = loop(l1, l2, carry)\n",
    "            return result\n",
    "        return loop(l1, l2, 0)\n",
    "    \n",
    "        \n",
    "input_data = [[[9,9,9,9,9,9,9], [9,9,9,9]]]\n",
    "output_data = [[8,9,9,9,0,0,0,1]]\n",
    "sol = Solution()\n",
    "node = sol.func(heads[0], heads[1])\n",
    "\n",
    "output = []\n",
    "while node != None:\n",
    "    output.append(node.val)\n",
    "    node = node.next\n",
    "    \n",
    "for i in range(len(input_data)):\n",
    "    print('---'*25)\n",
    "    print('input  : ', input_data[i])\n",
    "    print('output : ', output_data[i])\n",
    "    print('result : ', output)"
   ]
  },
  {
   "cell_type": "markdown",
   "metadata": {},
   "source": [
    "# 2. Iteration"
   ]
  },
  {
   "cell_type": "code",
   "execution_count": 27,
   "metadata": {
    "ExecuteTime": {
     "end_time": "2021-01-28T19:23:49.253178Z",
     "start_time": "2021-01-28T19:23:49.240017Z"
    }
   },
   "outputs": [
    {
     "name": "stdout",
     "output_type": "stream",
     "text": [
      "---------------------------------------------------------------------------\n",
      "input  :  [[2, 4, 3], [5, 6, 4]]\n",
      "output :  [7, 0, 8]\n",
      "result :  [7, 0, 8]\n"
     ]
    }
   ],
   "source": [
    "from typing import *\n",
    "# Definition for singly-linked list.\n",
    "class ListNode:\n",
    "    def __init__(self, val=0, next=None):\n",
    "        self.val = val\n",
    "        self.next = next\n",
    "        \n",
    "input_data = [[2,4,3], [5,6,4]]\n",
    "heads:List[ListNode] = []\n",
    "\n",
    "for i in range(len(input_data)):\n",
    "    if len(input_data) >= 1:\n",
    "        head = ListNode(input_data[i][-1])\n",
    "        for n in range(-2, -len(input_data[i])-1, -1):\n",
    "            node = head\n",
    "            head = ListNode(input_data[i][n])\n",
    "            head.next = node\n",
    "        heads.append(head)\n",
    "    else:\n",
    "        heads.append([])\n",
    "        \n",
    "\n",
    "class Solution():\n",
    "    def func(self, l1, l2):\n",
    "        root = head = ListNode(0)\n",
    "        carry = 0\n",
    "        while l1 or l2 or carry:\n",
    "            sum = 0\n",
    "            if l1:\n",
    "                sum += l1.val\n",
    "                l1 = l1.next\n",
    "            if l2:\n",
    "                sum += l2.val\n",
    "                l2 = l2.next\n",
    "            carry, val = divmod(sum + carry, 10)\n",
    "            head.next = ListNode(val)\n",
    "            head = head.next\n",
    "        return root.next\n",
    "    \n",
    "        \n",
    "input_data = [[[2,4,3], [5,6,4]]]\n",
    "output_data = [[7,0,8]]\n",
    "sol = Solution()\n",
    "node = sol.func(heads[0], heads[1])\n",
    "\n",
    "output = []\n",
    "while node != None:\n",
    "    output.append(node.val)\n",
    "    node = node.next\n",
    "    \n",
    "for i in range(len(input_data)):\n",
    "    print('---'*25)\n",
    "    print('input  : ', input_data[i])\n",
    "    print('output : ', output_data[i])\n",
    "    print('result : ', output)"
   ]
  }
 ],
 "metadata": {
  "kernelspec": {
   "display_name": "Python 3",
   "language": "python",
   "name": "python3"
  },
  "language_info": {
   "codemirror_mode": {
    "name": "ipython",
    "version": 3
   },
   "file_extension": ".py",
   "mimetype": "text/x-python",
   "name": "python",
   "nbconvert_exporter": "python",
   "pygments_lexer": "ipython3",
   "version": "3.7.2"
  },
  "latex_envs": {
   "LaTeX_envs_menu_present": true,
   "autoclose": false,
   "autocomplete": true,
   "bibliofile": "biblio.bib",
   "cite_by": "apalike",
   "current_citInitial": 1,
   "eqLabelWithNumbers": true,
   "eqNumInitial": 1,
   "hotkeys": {
    "equation": "Ctrl-E",
    "itemize": "Ctrl-I"
   },
   "labels_anchors": false,
   "latex_user_defs": false,
   "report_style_numbering": false,
   "user_envs_cfg": false
  },
  "varInspector": {
   "cols": {
    "lenName": 16,
    "lenType": 16,
    "lenVar": 40
   },
   "kernels_config": {
    "python": {
     "delete_cmd_postfix": "",
     "delete_cmd_prefix": "del ",
     "library": "var_list.py",
     "varRefreshCmd": "print(var_dic_list())"
    },
    "r": {
     "delete_cmd_postfix": ") ",
     "delete_cmd_prefix": "rm(",
     "library": "var_list.r",
     "varRefreshCmd": "cat(var_dic_list()) "
    }
   },
   "types_to_exclude": [
    "module",
    "function",
    "builtin_function_or_method",
    "instance",
    "_Feature"
   ],
   "window_display": false
  }
 },
 "nbformat": 4,
 "nbformat_minor": 2
}
