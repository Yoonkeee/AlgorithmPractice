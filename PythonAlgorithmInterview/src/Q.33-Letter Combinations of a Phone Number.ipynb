{
 "cells": [
  {
   "cell_type": "markdown",
   "metadata": {},
   "source": [
    "# 전화 번호 문자 조합 | 난이도 🌟🌟\n",
    "### 문제 출처 - 리트 코드 [17번 문제 Letter Combinations of a Phone Number](https://leetcode.com/problems/letter-combinations-of-a-phone-number)"
   ]
  },
  {
   "cell_type": "code",
   "execution_count": 9,
   "metadata": {
    "ExecuteTime": {
     "end_time": "2021-02-24T19:16:04.267121Z",
     "start_time": "2021-02-24T19:16:04.255425Z"
    }
   },
   "outputs": [
    {
     "name": "stdout",
     "output_type": "stream",
     "text": [
      "---------------------------------------------------------------------------\n",
      "input  :  23\n",
      "expect :  ['ad', 'ae', 'af', 'bd', 'be', 'bf', 'cd', 'ce', 'cf']\n",
      "result :  ['ad', 'ae', 'af', 'bd', 'be', 'bf', 'cd', 'ce', 'cf']\n",
      "---------------------------------------------------------------------------\n",
      "input  :  \n",
      "expect :  []\n",
      "result :  []\n",
      "---------------------------------------------------------------------------\n",
      "input  :  2\n",
      "expect :  ['a', 'b', 'c']\n",
      "result :  ['a', 'b', 'c']\n"
     ]
    }
   ],
   "source": [
    "from typing import *\n",
    "class Solution():\n",
    "    def func(self, input_data):\n",
    "        digits = input_data\n",
    "        chars = {\n",
    "            '2': 'abc', '3': 'def',\n",
    "            '4': 'ghi', '5': 'jkl', '6': 'mno',\n",
    "            '7': 'pqrs', '8': 'tuv', '9': 'wxyz'\n",
    "        }\n",
    "        def dfs(index, path):\n",
    "            if len(path) == len(digits):  # 가장 깊이 와서 조합 추가\n",
    "                result.append(path)\n",
    "                return\n",
    "            for i in range(index, len(digits)):  # 깊이 내려가는 중\n",
    "                for j in chars[digits[i]]:  # digits[i] = 현재 번호, j = 현재 번호의 문자 조합\n",
    "                    dfs(i+1, path+j)\n",
    "        # end dfs()\n",
    "        if not digits:\n",
    "            return []\n",
    "        result = []\n",
    "        dfs(0, '')\n",
    "        \n",
    "        return result\n",
    "\n",
    "    \n",
    "input_data = ['23', '', '2']\n",
    "output_data = [[\"ad\",\"ae\",\"af\",\"bd\",\"be\",\"bf\",\"cd\",\"ce\",\"cf\"], [] , ['a','b','c']]\n",
    "sol = Solution()\n",
    "for i in range(len(input_data)):\n",
    "    print('---'*25)\n",
    "    print('input  : ', input_data[i])\n",
    "    print('expect : ', output_data[i])\n",
    "    print('result : ', sol.func(input_data[i]))"
   ]
  }
 ],
 "metadata": {
  "kernelspec": {
   "display_name": "Python 3",
   "language": "python",
   "name": "python3"
  },
  "language_info": {
   "codemirror_mode": {
    "name": "ipython",
    "version": 3
   },
   "file_extension": ".py",
   "mimetype": "text/x-python",
   "name": "python",
   "nbconvert_exporter": "python",
   "pygments_lexer": "ipython3",
   "version": "3.7.2"
  },
  "latex_envs": {
   "LaTeX_envs_menu_present": true,
   "autoclose": false,
   "autocomplete": true,
   "bibliofile": "biblio.bib",
   "cite_by": "apalike",
   "current_citInitial": 1,
   "eqLabelWithNumbers": true,
   "eqNumInitial": 1,
   "hotkeys": {
    "equation": "Ctrl-E",
    "itemize": "Ctrl-I"
   },
   "labels_anchors": false,
   "latex_user_defs": false,
   "report_style_numbering": false,
   "user_envs_cfg": false
  },
  "varInspector": {
   "cols": {
    "lenName": 16,
    "lenType": 16,
    "lenVar": 40
   },
   "kernels_config": {
    "python": {
     "delete_cmd_postfix": "",
     "delete_cmd_prefix": "del ",
     "library": "var_list.py",
     "varRefreshCmd": "print(var_dic_list())"
    },
    "r": {
     "delete_cmd_postfix": ") ",
     "delete_cmd_prefix": "rm(",
     "library": "var_list.r",
     "varRefreshCmd": "cat(var_dic_list()) "
    }
   },
   "types_to_exclude": [
    "module",
    "function",
    "builtin_function_or_method",
    "instance",
    "_Feature"
   ],
   "window_display": false
  }
 },
 "nbformat": 4,
 "nbformat_minor": 2
}
