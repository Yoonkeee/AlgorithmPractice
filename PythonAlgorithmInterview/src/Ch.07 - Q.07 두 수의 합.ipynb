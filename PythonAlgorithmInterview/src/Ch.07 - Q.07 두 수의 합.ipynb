{
 "cells": [
  {
   "cell_type": "markdown",
   "metadata": {},
   "source": [
    "Ch.07 - 01. 두 수의 합\n",
    "# 문제 | 난이도 🌟\n",
    "### 문제 출처 - 리트 코드 [1번 문제 Two Sum](https://leetcode.com/problems/two-sum)"
   ]
  },
  {
   "cell_type": "markdown",
   "metadata": {},
   "source": [
    "# ~~투 포인터 이용~~\n",
    "### 입력값이 정렬되지 않았기 때문에 잘못된 풀이 방법"
   ]
  },
  {
   "cell_type": "code",
   "execution_count": 70,
   "metadata": {
    "ExecuteTime": {
     "end_time": "2021-01-20T22:18:53.202918Z",
     "start_time": "2021-01-20T22:18:53.195296Z"
    }
   },
   "outputs": [
    {
     "name": "stdout",
     "output_type": "stream",
     "text": [
      "(0, 1)\n",
      "(1, 1)\n",
      "(0, 2)\n"
     ]
    }
   ],
   "source": [
    "from typing import *\n",
    "class WRONG_Solution():\n",
    "    def func(self, data:List[int]) -> List[int]:\n",
    "        nums, target = data[0], data[1]\n",
    "        left, right = 0, len(nums)-1\n",
    "        while nums[left] + nums[right] != target and left < right:\n",
    "            if nums[left] + nums[right] < target:\n",
    "                left += 1\n",
    "            elif nums[left] + nums[right] > target:\n",
    "                right -= 1\n",
    "        return left, right\n",
    "        # nums_map = {key=nums : value=index}\n",
    "        # nums_map[target - num] = index\n",
    "        # n in dict = key 조회\n",
    "        \n",
    "\n",
    "input_data = [[[2,7,11,15], 9] , [[3,2,4], 6] , [[3,4,3] , 6]]\n",
    "sol = WRONG_Solution()\n",
    "for data in input_data:\n",
    "    print(sol.func(data))"
   ]
  },
  {
   "cell_type": "markdown",
   "metadata": {},
   "source": [
    "# 조회 구조 개선"
   ]
  },
  {
   "cell_type": "code",
   "execution_count": 69,
   "metadata": {
    "ExecuteTime": {
     "end_time": "2021-01-20T22:13:12.073793Z",
     "start_time": "2021-01-20T22:13:12.066442Z"
    }
   },
   "outputs": [
    {
     "name": "stdout",
     "output_type": "stream",
     "text": [
      "[0, 1]\n",
      "[1, 2]\n",
      "[0, 2]\n"
     ]
    }
   ],
   "source": [
    "from typing import *\n",
    "class Solution():\n",
    "    def func(self, data:List[int]) -> List[int]:\n",
    "        nums, target = data[0], data[1]\n",
    "        nums_map = {}\n",
    "        for i, num in enumerate(nums):\n",
    "            if target - num in nums_map:\n",
    "                return [nums_map[target - num], i]\n",
    "            nums_map[num] = i\n",
    "        # nums_map = {key=nums : value=index}\n",
    "        # nums_map[target - num] = index\n",
    "        # n in dict = key 조회\n",
    "        \n",
    "\n",
    "input_data = [[[2,7,11,15], 9] , [[3,2,4], 6] , [[3,4,3] , 6]]\n",
    "sol = Solution()\n",
    "for data in input_data:\n",
    "    print(sol.func(data))"
   ]
  },
  {
   "cell_type": "markdown",
   "metadata": {},
   "source": [
    "# 첫 번째 수를 뺀 결과 키 조회\n",
    "Dict 자료형은 Hash Table로 구현되어 있어 조회 Avg T.C. : o(1)\n"
   ]
  },
  {
   "cell_type": "code",
   "execution_count": 64,
   "metadata": {
    "ExecuteTime": {
     "end_time": "2021-01-20T21:27:14.226135Z",
     "start_time": "2021-01-20T21:27:14.218080Z"
    }
   },
   "outputs": [
    {
     "name": "stdout",
     "output_type": "stream",
     "text": [
      "[0, 1]\n",
      "[1, 2]\n",
      "[0, 2]\n"
     ]
    }
   ],
   "source": [
    "from typing import *\n",
    "class Solution():\n",
    "    def func(self, data:List[int]) -> List[int]:\n",
    "        nums, target = data[0], data[1]\n",
    "        nums_map = {}\n",
    "        for i, n in enumerate(nums):\n",
    "            nums_map[n] = i\n",
    "        # nums_map = {key=nums : value=index}\n",
    "        for i, num in enumerate(nums):\n",
    "            if target - num in nums_map and i != nums_map[target - num]:\n",
    "                # nums_map[target - num] = index\n",
    "                # n in dict = key 조회   ,  자기 자신을 계산하는 경우 제거\n",
    "                return [nums.index(num), nums_map[target - num]]\n",
    "        \n",
    "\n",
    "input_data = [[[2,7,11,15], 9] , [[3,2,4], 6] , [[3,4,3] , 6]]\n",
    "sol = Solution()\n",
    "for data in input_data:\n",
    "    print(sol.func(data))"
   ]
  },
  {
   "cell_type": "markdown",
   "metadata": {},
   "source": [
    "# in을 이용한 탐색\n",
    "Time complexity of in : O(n)  \n",
    "Time complexity : O(n^2)"
   ]
  },
  {
   "cell_type": "code",
   "execution_count": 65,
   "metadata": {
    "ExecuteTime": {
     "end_time": "2021-01-20T21:27:26.255355Z",
     "start_time": "2021-01-20T21:27:26.247833Z"
    }
   },
   "outputs": [
    {
     "name": "stdout",
     "output_type": "stream",
     "text": [
      "[0, 1]\n",
      "[1, 2]\n",
      "[0, 1]\n"
     ]
    }
   ],
   "source": [
    "from typing import *\n",
    "class Solution():\n",
    "    def func(self, data:List[int]) -> List[int]:\n",
    "        nums, target = data[0], data[1]\n",
    "        for i, n in enumerate(nums):\n",
    "            complement = target - n\n",
    "            \n",
    "            if complement in nums[i+1:]:\n",
    "                return [nums.index(n), nums[i+1:].index(complement) + (i+1)]\n",
    "\n",
    "input_data = [[[2,7,11,15], 9] , [[3,2,4], 6] , [[3,3] , 6]]\n",
    "sol = Solution()\n",
    "for data in input_data:\n",
    "    print(sol.func(data))"
   ]
  },
  {
   "cell_type": "markdown",
   "metadata": {},
   "source": [
    "# Brute-Force Way"
   ]
  },
  {
   "cell_type": "code",
   "execution_count": 71,
   "metadata": {
    "ExecuteTime": {
     "end_time": "2021-01-20T22:21:55.886523Z",
     "start_time": "2021-01-20T22:21:55.879108Z"
    }
   },
   "outputs": [
    {
     "name": "stdout",
     "output_type": "stream",
     "text": [
      "[0, 1]\n",
      "[1, 2]\n",
      "[0, 1]\n"
     ]
    }
   ],
   "source": [
    "from typing import *\n",
    "class Solution():\n",
    "    def func(self, data:List[int]) -> List[int]:\n",
    "        nums, target = data[0], data[1]\n",
    "        for i in range(len(nums)):\n",
    "            for j in range(i+1, len(nums)):\n",
    "                if nums[i] + nums[j] == target:\n",
    "                    return [i, j]\n",
    "\n",
    "input_data = [[[2,7,11,15], 9] , [[3,2,4], 6] , [[3,3] , 6]]\n",
    "sol = Solution()\n",
    "for data in input_data:\n",
    "    print(sol.func(data))"
   ]
  }
 ],
 "metadata": {
  "kernelspec": {
   "display_name": "Python 3",
   "language": "python",
   "name": "python3"
  },
  "language_info": {
   "codemirror_mode": {
    "name": "ipython",
    "version": 3
   },
   "file_extension": ".py",
   "mimetype": "text/x-python",
   "name": "python",
   "nbconvert_exporter": "python",
   "pygments_lexer": "ipython3",
   "version": "3.7.2"
  },
  "latex_envs": {
   "LaTeX_envs_menu_present": true,
   "autoclose": false,
   "autocomplete": true,
   "bibliofile": "biblio.bib",
   "cite_by": "apalike",
   "current_citInitial": 1,
   "eqLabelWithNumbers": true,
   "eqNumInitial": 1,
   "hotkeys": {
    "equation": "Ctrl-E",
    "itemize": "Ctrl-I"
   },
   "labels_anchors": false,
   "latex_user_defs": false,
   "report_style_numbering": false,
   "user_envs_cfg": false
  },
  "varInspector": {
   "cols": {
    "lenName": 16,
    "lenType": 16,
    "lenVar": 40
   },
   "kernels_config": {
    "python": {
     "delete_cmd_postfix": "",
     "delete_cmd_prefix": "del ",
     "library": "var_list.py",
     "varRefreshCmd": "print(var_dic_list())"
    },
    "r": {
     "delete_cmd_postfix": ") ",
     "delete_cmd_prefix": "rm(",
     "library": "var_list.r",
     "varRefreshCmd": "cat(var_dic_list()) "
    }
   },
   "types_to_exclude": [
    "module",
    "function",
    "builtin_function_or_method",
    "instance",
    "_Feature"
   ],
   "window_display": false
  }
 },
 "nbformat": 4,
 "nbformat_minor": 2
}
