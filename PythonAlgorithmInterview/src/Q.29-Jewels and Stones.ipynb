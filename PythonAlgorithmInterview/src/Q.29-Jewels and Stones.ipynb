{
 "cells": [
  {
   "cell_type": "markdown",
   "metadata": {},
   "source": [
    "# 보석과 돌 | 난이도 🌟\n",
    "### 문제 출처 - 리트 코드 [771번 문제 Jewels and Stones](https://leetcode.com/problems/jewels-and-stones)"
   ]
  },
  {
   "cell_type": "markdown",
   "metadata": {},
   "source": [
    "# 해시 테이블"
   ]
  },
  {
   "cell_type": "code",
   "execution_count": 2,
   "metadata": {
    "ExecuteTime": {
     "end_time": "2021-02-16T19:58:12.905393Z",
     "start_time": "2021-02-16T19:58:12.896711Z"
    }
   },
   "outputs": [
    {
     "name": "stdout",
     "output_type": "stream",
     "text": [
      "---------------------------------------------------------------------------\n",
      "input  :  ['aA', 'aAAbbbb']\n",
      "output :  [3]\n",
      "result :  3\n"
     ]
    }
   ],
   "source": [
    "from typing import *\n",
    "class Solution():\n",
    "    def func(self, input_data):\n",
    "        J, S = input_data[0], input_data[1]\n",
    "        freqs = {}\n",
    "        count = 0\n",
    "        \n",
    "        for char in S:\n",
    "            if char not in freqs:\n",
    "                freqs[char] = 1\n",
    "            else:\n",
    "                freqs[char] += 1\n",
    "                \n",
    "        for char in J:\n",
    "            if char in freqs:\n",
    "                count += freqs[char]\n",
    "        return count\n",
    "\n",
    "    \n",
    "\n",
    "input_data = [['aA', 'aAAbbbb']]\n",
    "output_data = [[3]]\n",
    "sol = Solution()\n",
    "for i in range(len(input_data)):\n",
    "    print('---'*25)\n",
    "    print('input  : ', input_data[i])\n",
    "    print('output : ', output_data[i])\n",
    "    print('result : ', sol.func(input_data[i]))"
   ]
  },
  {
   "cell_type": "markdown",
   "metadata": {},
   "source": [
    "# defaultdict를 이용해 비교 생략"
   ]
  },
  {
   "cell_type": "code",
   "execution_count": 4,
   "metadata": {
    "ExecuteTime": {
     "end_time": "2021-02-16T19:59:17.257202Z",
     "start_time": "2021-02-16T19:59:17.248782Z"
    }
   },
   "outputs": [
    {
     "name": "stdout",
     "output_type": "stream",
     "text": [
      "---------------------------------------------------------------------------\n",
      "input  :  ['aA', 'aAAbbbb']\n",
      "output :  [3]\n",
      "result :  3\n"
     ]
    }
   ],
   "source": [
    "from typing import *\n",
    "import collections\n",
    "class Solution():\n",
    "    def func(self, input_data):\n",
    "        J, S = input_data[0], input_data[1]\n",
    "        freqs = collections.defaultdict(int)\n",
    "        count = 0\n",
    "        \n",
    "        for char in S:\n",
    "            freqs[char] += 1\n",
    "        \n",
    "        for char in J:\n",
    "            count += freqs[char]\n",
    "        \n",
    "        return count\n",
    "    \n",
    "\n",
    "input_data = [['aA', 'aAAbbbb']]\n",
    "output_data = [[3]]\n",
    "sol = Solution()\n",
    "for i in range(len(input_data)):\n",
    "    print('---'*25)\n",
    "    print('input  : ', input_data[i])\n",
    "    print('output : ', output_data[i])\n",
    "    print('result : ', sol.func(input_data[i]))"
   ]
  },
  {
   "cell_type": "markdown",
   "metadata": {},
   "source": [
    "# Counter로 계산 생력"
   ]
  },
  {
   "cell_type": "code",
   "execution_count": 5,
   "metadata": {
    "ExecuteTime": {
     "end_time": "2021-02-16T20:00:08.868187Z",
     "start_time": "2021-02-16T20:00:08.860329Z"
    }
   },
   "outputs": [
    {
     "name": "stdout",
     "output_type": "stream",
     "text": [
      "---------------------------------------------------------------------------\n",
      "input  :  ['aA', 'aAAbbbb']\n",
      "output :  [3]\n",
      "result :  3\n"
     ]
    }
   ],
   "source": [
    "from typing import *\n",
    "import collections\n",
    "class Solution():\n",
    "    def func(self, input_data):\n",
    "        J, S = input_data[0], input_data[1]\n",
    "        freqs = collections.Counter(S)\n",
    "        count = 0\n",
    "        \n",
    "        for char in J:\n",
    "            count += freqs[char]\n",
    "        \n",
    "        return count\n",
    "    \n",
    "\n",
    "input_data = [['aA', 'aAAbbbb']]\n",
    "output_data = [[3]]\n",
    "sol = Solution()\n",
    "for i in range(len(input_data)):\n",
    "    print('---'*25)\n",
    "    print('input  : ', input_data[i])\n",
    "    print('output : ', output_data[i])\n",
    "    print('result : ', sol.func(input_data[i]))"
   ]
  },
  {
   "cell_type": "markdown",
   "metadata": {},
   "source": [
    "# Pythonic Way"
   ]
  },
  {
   "cell_type": "code",
   "execution_count": 6,
   "metadata": {
    "ExecuteTime": {
     "end_time": "2021-02-16T20:00:34.051895Z",
     "start_time": "2021-02-16T20:00:34.044858Z"
    }
   },
   "outputs": [
    {
     "name": "stdout",
     "output_type": "stream",
     "text": [
      "---------------------------------------------------------------------------\n",
      "input  :  ['aA', 'aAAbbbb']\n",
      "output :  [3]\n",
      "result :  3\n"
     ]
    }
   ],
   "source": [
    "from typing import *\n",
    "import collections\n",
    "class Solution():\n",
    "    def func(self, input_data):\n",
    "        J, S = input_data[0], input_data[1]\n",
    "        return sum(s in J for s in S)\n",
    "    \n",
    "\n",
    "input_data = [['aA', 'aAAbbbb']]\n",
    "output_data = [[3]]\n",
    "sol = Solution()\n",
    "for i in range(len(input_data)):\n",
    "    print('---'*25)\n",
    "    print('input  : ', input_data[i])\n",
    "    print('output : ', output_data[i])\n",
    "    print('result : ', sol.func(input_data[i]))"
   ]
  }
 ],
 "metadata": {
  "kernelspec": {
   "display_name": "Python 3",
   "language": "python",
   "name": "python3"
  },
  "language_info": {
   "codemirror_mode": {
    "name": "ipython",
    "version": 3
   },
   "file_extension": ".py",
   "mimetype": "text/x-python",
   "name": "python",
   "nbconvert_exporter": "python",
   "pygments_lexer": "ipython3",
   "version": "3.7.2"
  },
  "latex_envs": {
   "LaTeX_envs_menu_present": true,
   "autoclose": false,
   "autocomplete": true,
   "bibliofile": "biblio.bib",
   "cite_by": "apalike",
   "current_citInitial": 1,
   "eqLabelWithNumbers": true,
   "eqNumInitial": 1,
   "hotkeys": {
    "equation": "Ctrl-E",
    "itemize": "Ctrl-I"
   },
   "labels_anchors": false,
   "latex_user_defs": false,
   "report_style_numbering": false,
   "user_envs_cfg": false
  },
  "varInspector": {
   "cols": {
    "lenName": 16,
    "lenType": 16,
    "lenVar": 40
   },
   "kernels_config": {
    "python": {
     "delete_cmd_postfix": "",
     "delete_cmd_prefix": "del ",
     "library": "var_list.py",
     "varRefreshCmd": "print(var_dic_list())"
    },
    "r": {
     "delete_cmd_postfix": ") ",
     "delete_cmd_prefix": "rm(",
     "library": "var_list.r",
     "varRefreshCmd": "cat(var_dic_list()) "
    }
   },
   "types_to_exclude": [
    "module",
    "function",
    "builtin_function_or_method",
    "instance",
    "_Feature"
   ],
   "window_display": false
  }
 },
 "nbformat": 4,
 "nbformat_minor": 2
}
