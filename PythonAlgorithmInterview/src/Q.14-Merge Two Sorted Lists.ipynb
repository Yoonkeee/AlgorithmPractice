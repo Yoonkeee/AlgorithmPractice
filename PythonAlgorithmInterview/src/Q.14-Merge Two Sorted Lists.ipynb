{
 "cells": [
  {
   "cell_type": "markdown",
   "metadata": {},
   "source": [
    "# 두 정렬 리스트의 병합 | 난이도 🌟\n",
    "### 문제 출처 - 리트 코드 [21번 문제 Merge Two Sorted Lists](https://leetcode.com/problems/merge-two-sorted-lists)"
   ]
  },
  {
   "cell_type": "code",
   "execution_count": 81,
   "metadata": {
    "ExecuteTime": {
     "end_time": "2021-01-27T18:15:16.146933Z",
     "start_time": "2021-01-27T18:15:16.132581Z"
    }
   },
   "outputs": [
    {
     "name": "stdout",
     "output_type": "stream",
     "text": [
      "---------------------------------------------------------------------------\n",
      "input  :  [[1, 2, 4], [1, 3, 4]]\n",
      "output :  [1, 1, 2, 3, 4, 4]\n",
      "result :  [1, 1, 2, 3, 4, 4]\n"
     ]
    }
   ],
   "source": [
    "from typing import *\n",
    "# Definition for singly-linked list.\n",
    "class ListNode:\n",
    "    def __init__(self, val=0, next=None):\n",
    "        self.val = val\n",
    "        self.next = next\n",
    "        \n",
    "input_data = [[1, 2, 4], [1, 3, 4]]\n",
    "heads:List[ListNode] = []\n",
    "\n",
    "for i in range(len(input_data)):\n",
    "    if len(input_data) >= 1:\n",
    "        head = ListNode(input_data[i][-1])\n",
    "        for n in range(-2, -len(input_data[i])-1, -1):\n",
    "            node = head\n",
    "            head = ListNode(input_data[i][n])\n",
    "            head.next = node\n",
    "        heads.append(head)\n",
    "    else:\n",
    "        heads.append([])\n",
    "\n",
    "# for head in heads:  # print vals\n",
    "#     node = head\n",
    "#     while node != None:\n",
    "#         print(node.val)\n",
    "#         node = node.next\n",
    "        \n",
    "\n",
    "class Solution():\n",
    "    def func(self, l1, l2):\n",
    "        if (not l1) or (l2 and l1.val > l2.val):\n",
    "            # l1이 None이거나 / l2가 None이 아니고 + l1.val>l2.val이면 l1<->l2\n",
    "            l1, l2 = l2, l1\n",
    "        if l1:\n",
    "            l1.next = self.func(l1.next, l2)\n",
    "        return l1\n",
    "    \n",
    "\n",
    "input_data = [[[1, 2, 4], [1, 3, 4]]]\n",
    "output_data = [[1, 1, 2, 3, 4, 4]]\n",
    "sol = Solution()\n",
    "#     print('result : ', sol.func(heads[0], heads[1]))\n",
    "    \n",
    "# for head in sol.func(heads[0], heads[1]):  # print vals\n",
    "node = sol.func(heads[0], heads[1])\n",
    "output = []\n",
    "while node != None:\n",
    "    output.append(node.val)\n",
    "    node = node.next\n",
    "    \n",
    "for i in range(len(input_data)):\n",
    "    print('---'*25)\n",
    "    print('input  : ', input_data[i])\n",
    "    print('output : ', output_data[i])\n",
    "    print('result : ', output)"
   ]
  }
 ],
 "metadata": {
  "kernelspec": {
   "display_name": "Python 3",
   "language": "python",
   "name": "python3"
  },
  "language_info": {
   "codemirror_mode": {
    "name": "ipython",
    "version": 3
   },
   "file_extension": ".py",
   "mimetype": "text/x-python",
   "name": "python",
   "nbconvert_exporter": "python",
   "pygments_lexer": "ipython3",
   "version": "3.7.2"
  },
  "latex_envs": {
   "LaTeX_envs_menu_present": true,
   "autoclose": false,
   "autocomplete": true,
   "bibliofile": "biblio.bib",
   "cite_by": "apalike",
   "current_citInitial": 1,
   "eqLabelWithNumbers": true,
   "eqNumInitial": 1,
   "hotkeys": {
    "equation": "Ctrl-E",
    "itemize": "Ctrl-I"
   },
   "labels_anchors": false,
   "latex_user_defs": false,
   "report_style_numbering": false,
   "user_envs_cfg": false
  },
  "varInspector": {
   "cols": {
    "lenName": 16,
    "lenType": 16,
    "lenVar": 40
   },
   "kernels_config": {
    "python": {
     "delete_cmd_postfix": "",
     "delete_cmd_prefix": "del ",
     "library": "var_list.py",
     "varRefreshCmd": "print(var_dic_list())"
    },
    "r": {
     "delete_cmd_postfix": ") ",
     "delete_cmd_prefix": "rm(",
     "library": "var_list.r",
     "varRefreshCmd": "cat(var_dic_list()) "
    }
   },
   "types_to_exclude": [
    "module",
    "function",
    "builtin_function_or_method",
    "instance",
    "_Feature"
   ],
   "window_display": false
  }
 },
 "nbformat": 4,
 "nbformat_minor": 2
}
