{
 "cells": [
  {
   "cell_type": "markdown",
   "metadata": {},
   "source": [
    "# 가장 긴 팰린드롬 | 난이도 🌟🌟\n",
    "### 문제 출처 - 리트 코드 [5번 문제 Longest Palindrome Substring](https://leetcode.com/problems/longest-palindromic-substring)"
   ]
  },
  {
   "cell_type": "code",
   "execution_count": 70,
   "metadata": {
    "ExecuteTime": {
     "end_time": "2021-01-19T21:06:18.487239Z",
     "start_time": "2021-01-19T21:06:18.477239Z"
    },
    "code_folding": []
   },
   "outputs": [
    {
     "name": "stdout",
     "output_type": "stream",
     "text": [
      "bab\n",
      "bb\n",
      "a\n",
      "a\n"
     ]
    }
   ],
   "source": [
    "from typing import *\n",
    "class Solution():\n",
    "    def func(self, s:str) -> str:\n",
    "        # 투 포인터 확장\n",
    "        def expand(left: int, right: int) -> str:\n",
    "            # 좌, 우로 한칸씩. \n",
    "            while left >= 0 and right <= len(s) and s[left] == s[right-1]:\n",
    "                left -= 1\n",
    "                right += 1\n",
    "            return s[left+1 : right-1]\n",
    "        # end expand()\n",
    "        # 1글자거나 뒤집은게 같은 경우(=palin.) 바로 return\n",
    "        if len(s) < 2 or s == s[::-1]:\n",
    "            return s\n",
    "        result = ''\n",
    "        for i in range(len(s)-1):\n",
    "            result = max(result,\n",
    "                         expand(i, i+1),\n",
    "                         expand(i, i+2),\n",
    "                         key=len)\n",
    "        return result\n",
    "\n",
    "\n",
    "input_data = ['babad', 'cbbd', 'ab', 'a']\n",
    "sol = Solution()\n",
    "for data in input_data:\n",
    "    print(sol.func(data))"
   ]
  }
 ],
 "metadata": {
  "kernelspec": {
   "display_name": "Python 3",
   "language": "python",
   "name": "python3"
  },
  "language_info": {
   "codemirror_mode": {
    "name": "ipython",
    "version": 3
   },
   "file_extension": ".py",
   "mimetype": "text/x-python",
   "name": "python",
   "nbconvert_exporter": "python",
   "pygments_lexer": "ipython3",
   "version": "3.7.2"
  },
  "latex_envs": {
   "LaTeX_envs_menu_present": true,
   "autoclose": false,
   "autocomplete": true,
   "bibliofile": "biblio.bib",
   "cite_by": "apalike",
   "current_citInitial": 1,
   "eqLabelWithNumbers": true,
   "eqNumInitial": 1,
   "hotkeys": {
    "equation": "Ctrl-E",
    "itemize": "Ctrl-I"
   },
   "labels_anchors": false,
   "latex_user_defs": false,
   "report_style_numbering": false,
   "user_envs_cfg": false
  },
  "varInspector": {
   "cols": {
    "lenName": 16,
    "lenType": 16,
    "lenVar": 40
   },
   "kernels_config": {
    "python": {
     "delete_cmd_postfix": "",
     "delete_cmd_prefix": "del ",
     "library": "var_list.py",
     "varRefreshCmd": "print(var_dic_list())"
    },
    "r": {
     "delete_cmd_postfix": ") ",
     "delete_cmd_prefix": "rm(",
     "library": "var_list.r",
     "varRefreshCmd": "cat(var_dic_list()) "
    }
   },
   "types_to_exclude": [
    "module",
    "function",
    "builtin_function_or_method",
    "instance",
    "_Feature"
   ],
   "window_display": false
  }
 },
 "nbformat": 4,
 "nbformat_minor": 2
}
