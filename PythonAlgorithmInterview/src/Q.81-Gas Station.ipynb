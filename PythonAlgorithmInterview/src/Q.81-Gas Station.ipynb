{
 "cells": [
  {
   "cell_type": "markdown",
   "metadata": {},
   "source": [
    "# 문제이름 | 난이도 🌟🌟\n",
    "### 문제 출처 - 리트 코드 [134번 문제 Gas Station](https://leetcode.com/problems/gas-station)"
   ]
  },
  {
   "cell_type": "markdown",
   "metadata": {},
   "source": [
    "# 모두 방문"
   ]
  },
  {
   "cell_type": "code",
   "execution_count": 4,
   "metadata": {
    "ExecuteTime": {
     "end_time": "2021-05-06T21:06:08.326679Z",
     "start_time": "2021-05-06T21:06:08.316263Z"
    }
   },
   "outputs": [
    {
     "name": "stdout",
     "output_type": "stream",
     "text": [
      "---------------------------------------------------------------------------\n",
      "input  :  [[1, 2, 3, 4, 5, 5, 70], [2, 3, 4, 3, 9, 6, 2]]\n",
      "expect :  1\n",
      "0\n",
      "1\n",
      "2\n",
      "3\n",
      "4\n",
      "5\n",
      "6\n",
      "result :  6\n"
     ]
    }
   ],
   "source": [
    "from typing import *\n",
    "import collections\n",
    "import itertools\n",
    "class Solution():\n",
    "    def func(self, input_data):\n",
    "        gas, cost = input_data\n",
    "        \n",
    "        for i in range(len(gas)):\n",
    "            j = i\n",
    "            remaining = 0\n",
    "            print(i)\n",
    "            while remaining >= 0:\n",
    "                \n",
    "                if remaining + gas[j] >= cost[j]:\n",
    "                    remaining += gas[j] - cost[j]\n",
    "                else:\n",
    "                    remaining = -1\n",
    "                    break\n",
    "#                 for i in range(start, len(gas) + start): \n",
    "#                     index = i % len(gas)     로 짧고 간결하게 대체 가능\n",
    "                if remaining >= 0 and j == (i - 1) % len(gas):\n",
    "                    return i\n",
    "                elif j == (i - 1) % len(gas):\n",
    "                    break\n",
    "                else:\n",
    "                    j = (j+1) % len(gas)\n",
    "                    \n",
    "        return -1\n",
    "\n",
    "    \n",
    "input_data = [[[1,2,3,4,5,5,70], [2,3,4,3,9,6,2]]]\n",
    "output_data = [1]\n",
    "sol = Solution()\n",
    "for i in range(len(input_data)):\n",
    "    print('---'*25)\n",
    "    print('input  : ', input_data[i])\n",
    "    print('expect : ', output_data[i])\n",
    "    print('result : ', sol.func(input_data[i]))"
   ]
  },
  {
   "cell_type": "markdown",
   "metadata": {},
   "source": [
    "# 책 풀이 - 1. 모두 방문"
   ]
  },
  {
   "cell_type": "code",
   "execution_count": null,
   "metadata": {},
   "outputs": [],
   "source": [
    "class Solution:\n",
    "    def canCompleteCircuit(self, gas: List[int], cost: List[int]) -> int:\n",
    "        for start in range(len(gas)):\n",
    "            fuel = 0\n",
    "            for i in range(start, len(gas) + start):\n",
    "                index = i % len(gas)\n",
    "                can_travel = True\n",
    "                if gas[index] + fuel < cost[index]:\n",
    "                    can_travel = False\n",
    "                    break\n",
    "                else:\n",
    "                    fuel += gas[index] - cost[index]\n",
    "            if can_travel:\n",
    "                return start\n",
    "        return -1"
   ]
  },
  {
   "cell_type": "markdown",
   "metadata": {},
   "source": [
    "# 🌟🌟🌟🌟책 풀이 - 2. 한 번 방문🌟🌟🌟🌟\n",
    "전체 기름의 양이 전체 비용보다 클 경우 반드시 전체를 방문할 수 있는 출발점이 존재한다."
   ]
  },
  {
   "cell_type": "code",
   "execution_count": null,
   "metadata": {},
   "outputs": [],
   "source": [
    "class Solution:\n",
    "    def canCompleteCircuit(self, gas: List[int], cost: List[int]) -> int:\n",
    "        if sum(gas) < sum(cost):\n",
    "            return -1\n",
    "        start, fuel = 0, 0\n",
    "        for i in range(len(gas)):\n",
    "            # 0번째부터 순차적으로 훑으며 불가능하면 넘어가면서, 변곡점(불가능하지 않도록 바뀌는 순간)을 \n",
    "            # 출발 가능한 부분으로 판단.\n",
    "            if gas[i] + fuel < cost[i]:\n",
    "                start = i + 1\n",
    "                fuel = 0\n",
    "            else:\n",
    "                fuel += gas[i] - cost[i]\n",
    "        return start"
   ]
  }
 ],
 "metadata": {
  "kernelspec": {
   "display_name": "Python 3",
   "language": "python",
   "name": "python3"
  },
  "language_info": {
   "codemirror_mode": {
    "name": "ipython",
    "version": 3
   },
   "file_extension": ".py",
   "mimetype": "text/x-python",
   "name": "python",
   "nbconvert_exporter": "python",
   "pygments_lexer": "ipython3",
   "version": "3.8.5"
  },
  "latex_envs": {
   "LaTeX_envs_menu_present": true,
   "autoclose": false,
   "autocomplete": true,
   "bibliofile": "biblio.bib",
   "cite_by": "apalike",
   "current_citInitial": 1,
   "eqLabelWithNumbers": true,
   "eqNumInitial": 1,
   "hotkeys": {
    "equation": "Ctrl-E",
    "itemize": "Ctrl-I"
   },
   "labels_anchors": false,
   "latex_user_defs": false,
   "report_style_numbering": false,
   "user_envs_cfg": false
  },
  "varInspector": {
   "cols": {
    "lenName": 16,
    "lenType": 16,
    "lenVar": 40
   },
   "kernels_config": {
    "python": {
     "delete_cmd_postfix": "",
     "delete_cmd_prefix": "del ",
     "library": "var_list.py",
     "varRefreshCmd": "print(var_dic_list())"
    },
    "r": {
     "delete_cmd_postfix": ") ",
     "delete_cmd_prefix": "rm(",
     "library": "var_list.r",
     "varRefreshCmd": "cat(var_dic_list()) "
    }
   },
   "types_to_exclude": [
    "module",
    "function",
    "builtin_function_or_method",
    "instance",
    "_Feature"
   ],
   "window_display": false
  }
 },
 "nbformat": 4,
 "nbformat_minor": 2
}
