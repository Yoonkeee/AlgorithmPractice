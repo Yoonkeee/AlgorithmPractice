{
 "cells": [
  {
   "cell_type": "markdown",
   "metadata": {},
   "source": [
    "# 부분 문자열이 포함된 최소 윈도우 | 난이도 🌟🌟🌟\n",
    "### 문제 출처 - 리트 코드 [76번 문제 Minimum Window Substring](https://leetcode.com/problems/minimum-window-substring)"
   ]
  },
  {
   "cell_type": "code",
   "execution_count": null,
   "metadata": {
    "ExecuteTime": {
     "end_time": "2021-06-30T17:44:19.898089Z",
     "start_time": "2021-06-30T17:44:19.885192Z"
    }
   },
   "outputs": [],
   "source": [
    "class Solution:\n",
    "    def minWindow(self, s: str, t: str) -> str:\n",
    "        need = collections.Counter(t)\n",
    "        print(need)\n",
    "        missing = len(t)\n",
    "        left = start = end = 0\n",
    "        \n",
    "        for right, char in enumerate(s, 1):\n",
    "            missing -= need[char] > 0\n",
    "            need[char] -= 1\n",
    "            \n",
    "            if missing == 0:  # 필요한 문자를 다 찾았다면\n",
    "                # 왼쪽 포인터를 오른쪽으로 한칸씩 이동, 단 현재 위치가 필요한 문자가 아닐 경우\n",
    "                while left < right and need[s[left]] < 0:\n",
    "                    need[s[left]] += 1\n",
    "                    left += 1\n",
    "                # end가 설정되지 않았거나, 현재 찾은 윈도우가 기존에 찾은 윈도우보다 작을 경우\n",
    "                if not end or right - left <= end - start:\n",
    "                    start, end = left, right\n",
    "                \n",
    "                need[s[left]] += 1  # 왼쪽 포인터가 한칸 벗어날 것 이므로 need Counter +1\n",
    "                missing += 1  # missing도 +1\n",
    "                left += 1  # left Counter +1 이동\n",
    "                \n",
    "        return s[start:end]"
   ]
  },
  {
   "cell_type": "code",
   "execution_count": null,
   "metadata": {},
   "outputs": [],
   "source": [
    "class Solution:\n",
    "    def minWindow(self, s: str, t: str) -> str:\n",
    "        t_count = collections.Counter(t)\n",
    "        current_count = collections.Counter()\n",
    "        \n",
    "        start = float('-inf')\n",
    "        end = float('inf')\n",
    "        \n",
    "        left = 0\n",
    "        \n",
    "        for right, char in enumerate(s, 1):\n",
    "            current_count[char] += 1\n",
    "            while current_count & t_count == tcount:\n",
    "                if right - left < end - start:\n",
    "                    start, end = left, right\n",
    "                current_count[s[left]] -= 1\n",
    "                left += 1\n",
    "                \n",
    "        return s[start: end] if end - start <= len(s) else ''"
   ]
  }
 ],
 "metadata": {
  "kernelspec": {
   "display_name": "Python 3",
   "language": "python",
   "name": "python3"
  },
  "language_info": {
   "codemirror_mode": {
    "name": "ipython",
    "version": 3
   },
   "file_extension": ".py",
   "mimetype": "text/x-python",
   "name": "python",
   "nbconvert_exporter": "python",
   "pygments_lexer": "ipython3",
   "version": "3.8.5"
  },
  "latex_envs": {
   "LaTeX_envs_menu_present": true,
   "autoclose": false,
   "autocomplete": true,
   "bibliofile": "biblio.bib",
   "cite_by": "apalike",
   "current_citInitial": 1,
   "eqLabelWithNumbers": true,
   "eqNumInitial": 1,
   "hotkeys": {
    "equation": "Ctrl-E",
    "itemize": "Ctrl-I"
   },
   "labels_anchors": false,
   "latex_user_defs": false,
   "report_style_numbering": false,
   "user_envs_cfg": false
  },
  "varInspector": {
   "cols": {
    "lenName": 16,
    "lenType": 16,
    "lenVar": 40
   },
   "kernels_config": {
    "python": {
     "delete_cmd_postfix": "",
     "delete_cmd_prefix": "del ",
     "library": "var_list.py",
     "varRefreshCmd": "print(var_dic_list())"
    },
    "r": {
     "delete_cmd_postfix": ") ",
     "delete_cmd_prefix": "rm(",
     "library": "var_list.r",
     "varRefreshCmd": "cat(var_dic_list()) "
    }
   },
   "types_to_exclude": [
    "module",
    "function",
    "builtin_function_or_method",
    "instance",
    "_Feature"
   ],
   "window_display": false
  }
 },
 "nbformat": 4,
 "nbformat_minor": 2
}
