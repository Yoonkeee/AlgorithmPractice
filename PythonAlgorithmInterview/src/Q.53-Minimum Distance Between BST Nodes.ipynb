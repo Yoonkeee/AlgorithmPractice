{
 "cells": [
  {
   "cell_type": "markdown",
   "metadata": {},
   "source": [
    "# 이진 탐색 트리(BST) 노드 간 최소 거리 | 난이도 🌟\n",
    "### 문제 출처 - 리트 코드 [783번 문제 Minimum Distance Between BST Nodes](https://leetcode.com/problems/minimum-distance-between-bst-nodes)\n"
   ]
  },
  {
   "cell_type": "markdown",
   "metadata": {},
   "source": [
    "## 1. 재귀 구조로 중위 순회"
   ]
  },
  {
   "cell_type": "code",
   "execution_count": null,
   "metadata": {},
   "outputs": [],
   "source": [
    "class Solution:\n",
    "    prev = -sys.maxsize\n",
    "    result = sys.maxsize\n",
    "    \n",
    "    def minDiffInBST(self, root: TreeNode) -> int:\n",
    "        if root.left:\n",
    "            self.minDiffInBST(root.left)\n",
    "        \n",
    "        self.result = min(self.result, root.val - self.prev)\n",
    "        self.prev = root.val\n",
    "        \n",
    "        if root.right:\n",
    "            self.minDiffInBST(root.right)\n",
    "        \n",
    "        return self.result"
   ]
  },
  {
   "cell_type": "markdown",
   "metadata": {},
   "source": [
    "## 2. 반복 구조로 중위 순회"
   ]
  },
  {
   "cell_type": "code",
   "execution_count": null,
   "metadata": {},
   "outputs": [],
   "source": [
    "class Solution:\n",
    "    def minDiffInBST(self, root: TreeNode) -> int:\n",
    "        prev = -sys.maxsize\n",
    "        result = sys.maxsize\n",
    "        \n",
    "        stack = []\n",
    "        node = root\n",
    "        \n",
    "        while stack or node:\n",
    "            while node:  # 현재 노드를 스택에 추가 (부모, 왼쪽, 오른쪽 모두 여기서 추가됨)\n",
    "                stack.append(node)\n",
    "                node = node.left\n",
    "            \n",
    "            node = stack.pop()  # 제일 아래에 있는 노드부터 한칸씩 위로 탐색\n",
    "            \n",
    "            result = min(result, node.val - prev)\n",
    "            prev = node.val\n",
    "            \n",
    "            node = node.right  # 오른쪽 자식으로 설정, None이라면 while node: 부분에서 stack에 추가되지 않음\n",
    "        \n",
    "        return result"
   ]
  }
 ],
 "metadata": {
  "kernelspec": {
   "display_name": "Python 3",
   "language": "python",
   "name": "python3"
  },
  "language_info": {
   "codemirror_mode": {
    "name": "ipython",
    "version": 3
   },
   "file_extension": ".py",
   "mimetype": "text/x-python",
   "name": "python",
   "nbconvert_exporter": "python",
   "pygments_lexer": "ipython3",
   "version": "3.8.5"
  },
  "latex_envs": {
   "LaTeX_envs_menu_present": true,
   "autoclose": false,
   "autocomplete": true,
   "bibliofile": "biblio.bib",
   "cite_by": "apalike",
   "current_citInitial": 1,
   "eqLabelWithNumbers": true,
   "eqNumInitial": 1,
   "hotkeys": {
    "equation": "Ctrl-E",
    "itemize": "Ctrl-I"
   },
   "labels_anchors": false,
   "latex_user_defs": false,
   "report_style_numbering": false,
   "user_envs_cfg": false
  },
  "varInspector": {
   "cols": {
    "lenName": 16,
    "lenType": 16,
    "lenVar": 40
   },
   "kernels_config": {
    "python": {
     "delete_cmd_postfix": "",
     "delete_cmd_prefix": "del ",
     "library": "var_list.py",
     "varRefreshCmd": "print(var_dic_list())"
    },
    "r": {
     "delete_cmd_postfix": ") ",
     "delete_cmd_prefix": "rm(",
     "library": "var_list.r",
     "varRefreshCmd": "cat(var_dic_list()) "
    }
   },
   "types_to_exclude": [
    "module",
    "function",
    "builtin_function_or_method",
    "instance",
    "_Feature"
   ],
   "window_display": false
  }
 },
 "nbformat": 4,
 "nbformat_minor": 2
}
