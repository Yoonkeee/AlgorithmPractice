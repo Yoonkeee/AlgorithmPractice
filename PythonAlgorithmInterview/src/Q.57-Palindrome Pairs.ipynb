{
 "cells": [
  {
   "cell_type": "markdown",
   "metadata": {},
   "source": [
    "# 팰린드롬 페어 | 난이도 🌟🌟🌟\n",
    "### 문제 출처 - 리트 코드 [336번 문제 Palindrome Pairs](https://leetcode.com/problems/palindrome-pairs)"
   ]
  },
  {
   "cell_type": "code",
   "execution_count": null,
   "metadata": {
    "ExecuteTime": {
     "end_time": "2021-01-23T15:11:08.481689Z",
     "start_time": "2021-01-23T15:11:08.347977Z"
    }
   },
   "outputs": [],
   "source": [
    "class TrieNode:\n",
    "    def __init__(self):\n",
    "        self.children = collections.defaultdict(TrieNode)\n",
    "        self.word_id = -1\n",
    "        self.palindrome_word_ids = []\n",
    "\n",
    "class Trie:\n",
    "    def __init__(self):\n",
    "        self.root = TrieNode()\n",
    "    \n",
    "    @staticmethod\n",
    "    def is_palindrome(word: str) -> bool:\n",
    "        return word[::] == word[::-1]\n",
    "    \n",
    "    # 단어 삽입\n",
    "    def insert(self, index, word) -> None:\n",
    "        node = self.root\n",
    "        for i, char in enumerate(reversed(word)):\n",
    "            if self.is_palindrome(word[0:len(word) - i]):\n",
    "                node.palindrome_word_ids.append(index)\n",
    "            node = node.children[char]\n",
    "            node.val = char\n",
    "        node.word_id = index\n",
    "    \n",
    "    def search(self, index, word) -> List[List[int]]:\n",
    "        result = []\n",
    "        node = self.root\n",
    "        \n",
    "        while word:\n",
    "            # 판별 로직 3\n",
    "            if node.word_id >= 0:\n",
    "                if self.is_palindrome(word):\n",
    "                    result.append([index, node.word_id])\n",
    "            if not word[0] in node.children:\n",
    "                return result\n",
    "            node = node.children[word[0]]\n",
    "            word = word[1:]\n",
    "        # 판별 로직 1\n",
    "        if node.word_id >= 0 and node.word_id != index:\n",
    "            result.append([index, node.word_id])\n",
    "        \n",
    "        # 판별 로직 2\n",
    "        for palindrome_word_id in node.palindrome_word_ids:\n",
    "            result.append([index, palindrome_word_id])\n",
    "        \n",
    "        return result\n",
    "\n",
    "\n",
    "class Solution:\n",
    "    def palindromePairs(self, words: List[str]) -> List[List[int]]:\n",
    "        trie = Trie()\n",
    "\n",
    "        for i, word in enumerate(words):\n",
    "            trie.insert(i, word)\n",
    "\n",
    "        results = []\n",
    "        for i, word in enumerate(words):\n",
    "            results.extend(trie.search(i, word))\n",
    "\n",
    "        return results"
   ]
  }
 ],
 "metadata": {
  "kernelspec": {
   "display_name": "Python 3",
   "language": "python",
   "name": "python3"
  },
  "language_info": {
   "codemirror_mode": {
    "name": "ipython",
    "version": 3
   },
   "file_extension": ".py",
   "mimetype": "text/x-python",
   "name": "python",
   "nbconvert_exporter": "python",
   "pygments_lexer": "ipython3",
   "version": "3.8.5"
  },
  "latex_envs": {
   "LaTeX_envs_menu_present": true,
   "autoclose": false,
   "autocomplete": true,
   "bibliofile": "biblio.bib",
   "cite_by": "apalike",
   "current_citInitial": 1,
   "eqLabelWithNumbers": true,
   "eqNumInitial": 1,
   "hotkeys": {
    "equation": "Ctrl-E",
    "itemize": "Ctrl-I"
   },
   "labels_anchors": false,
   "latex_user_defs": false,
   "report_style_numbering": false,
   "user_envs_cfg": false
  },
  "varInspector": {
   "cols": {
    "lenName": 16,
    "lenType": 16,
    "lenVar": 40
   },
   "kernels_config": {
    "python": {
     "delete_cmd_postfix": "",
     "delete_cmd_prefix": "del ",
     "library": "var_list.py",
     "varRefreshCmd": "print(var_dic_list())"
    },
    "r": {
     "delete_cmd_postfix": ") ",
     "delete_cmd_prefix": "rm(",
     "library": "var_list.r",
     "varRefreshCmd": "cat(var_dic_list()) "
    }
   },
   "types_to_exclude": [
    "module",
    "function",
    "builtin_function_or_method",
    "instance",
    "_Feature"
   ],
   "window_display": false
  }
 },
 "nbformat": 4,
 "nbformat_minor": 2
}
