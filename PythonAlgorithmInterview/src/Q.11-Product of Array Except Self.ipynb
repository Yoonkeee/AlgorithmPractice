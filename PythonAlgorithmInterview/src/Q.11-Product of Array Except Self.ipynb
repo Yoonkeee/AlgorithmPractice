{
 "cells": [
  {
   "cell_type": "markdown",
   "metadata": {},
   "source": [
    "# 자신을 제외한 배열의 곱 | 난이도 🌟🌟\n",
    "### 문제 출처 - 리트 코드 [238번 문제 Product of Array Except Self](https://leetcode.com/problems/product-of-array-except-self)"
   ]
  },
  {
   "cell_type": "code",
   "execution_count": 2,
   "metadata": {
    "ExecuteTime": {
     "end_time": "2021-01-24T16:46:37.906721Z",
     "start_time": "2021-01-24T16:46:37.898432Z"
    }
   },
   "outputs": [
    {
     "name": "stdout",
     "output_type": "stream",
     "text": [
      "---------------------------------------------------------------------------\n",
      "input  :  [1, 2, 3, 4]\n",
      "output :  [24, 12, 8, 6]\n",
      "result :  [24, 12, 8, 6]\n"
     ]
    }
   ],
   "source": [
    "from typing import *\n",
    "class Solution():\n",
    "    def func(self, input_data):\n",
    "        nums:List[int] = input_data\n",
    "        result = []\n",
    "        p = 1\n",
    "        for i in range(0, len(nums)):\n",
    "            result.append(p)\n",
    "            p = p * nums[i]\n",
    "        p = 1\n",
    "        for i in range(len(nums)-1, -1, -1):\n",
    "            result[i] *= p\n",
    "            p = p * nums[i]\n",
    "        return result\n",
    "\n",
    "    \n",
    "input_data = [[1,2,3,4]]\n",
    "output_data = [[24,12,8,6]]\n",
    "sol = Solution()\n",
    "for i in range(len(input_data)):\n",
    "    print('---'*25)\n",
    "    print('input  : ', input_data[i])\n",
    "    print('output : ', output_data[i])\n",
    "    print('result : ', sol.func(input_data[i]))"
   ]
  },
  {
   "cell_type": "markdown",
   "metadata": {},
   "source": [
    "```\n",
    "  [ A  , B  , C  , D  ]  \n",
    "-----------------------\n",
    "  [ X  , A  , AB , ABC]  \n",
    "X [ BCD, CD , D  , X  ]  \n",
    "-----------------------\n",
    "  [ BCD, ACD, ABD, ABC]\n",
    "```"
   ]
  }
 ],
 "metadata": {
  "kernelspec": {
   "display_name": "Python 3",
   "language": "python",
   "name": "python3"
  },
  "language_info": {
   "codemirror_mode": {
    "name": "ipython",
    "version": 3
   },
   "file_extension": ".py",
   "mimetype": "text/x-python",
   "name": "python",
   "nbconvert_exporter": "python",
   "pygments_lexer": "ipython3",
   "version": "3.7.2"
  },
  "latex_envs": {
   "LaTeX_envs_menu_present": true,
   "autoclose": false,
   "autocomplete": true,
   "bibliofile": "biblio.bib",
   "cite_by": "apalike",
   "current_citInitial": 1,
   "eqLabelWithNumbers": true,
   "eqNumInitial": 1,
   "hotkeys": {
    "equation": "Ctrl-E",
    "itemize": "Ctrl-I"
   },
   "labels_anchors": false,
   "latex_user_defs": false,
   "report_style_numbering": false,
   "user_envs_cfg": false
  },
  "varInspector": {
   "cols": {
    "lenName": 16,
    "lenType": 16,
    "lenVar": 40
   },
   "kernels_config": {
    "python": {
     "delete_cmd_postfix": "",
     "delete_cmd_prefix": "del ",
     "library": "var_list.py",
     "varRefreshCmd": "print(var_dic_list())"
    },
    "r": {
     "delete_cmd_postfix": ") ",
     "delete_cmd_prefix": "rm(",
     "library": "var_list.r",
     "varRefreshCmd": "cat(var_dic_list()) "
    }
   },
   "types_to_exclude": [
    "module",
    "function",
    "builtin_function_or_method",
    "instance",
    "_Feature"
   ],
   "window_display": false
  }
 },
 "nbformat": 4,
 "nbformat_minor": 2
}
