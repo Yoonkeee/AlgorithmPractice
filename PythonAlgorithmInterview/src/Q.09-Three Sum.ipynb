{
 "cells": [
  {
   "cell_type": "markdown",
   "metadata": {},
   "source": [
    "# 세 수의 합 | 난이도 🌟\n",
    "### 문제 출처 - 리트 코드 [15번 문제 3Sum](https://leetcode.com/problems/3sum)"
   ]
  },
  {
   "cell_type": "markdown",
   "metadata": {},
   "source": [
    "# 1. ~~Brute-Force~~"
   ]
  },
  {
   "cell_type": "code",
   "execution_count": 6,
   "metadata": {
    "ExecuteTime": {
     "end_time": "2021-01-24T14:47:55.141874Z",
     "start_time": "2021-01-24T14:47:55.129616Z"
    }
   },
   "outputs": [
    {
     "name": "stdout",
     "output_type": "stream",
     "text": [
      "---------------------------------------------------------------------------\n",
      "input  :  [-1, 0, 1, 2, -1, -4]\n",
      "output :  [[-1, 0, 1], [-1, -1, 2]]\n",
      "result :  [[-1, -1, 2], [-1, 0, 1]]\n",
      "---------------------------------------------------------------------------\n",
      "input  :  []\n",
      "output :  []\n",
      "result :  []\n",
      "---------------------------------------------------------------------------\n",
      "input  :  [0]\n",
      "output :  []\n",
      "result :  []\n"
     ]
    }
   ],
   "source": [
    "from typing import *\n",
    "class Solution():\n",
    "    def func(self, input_data):\n",
    "        nums = sorted(input_data)\n",
    "        result = []\n",
    "        if len(nums) < 3:\n",
    "            return []\n",
    "        for i in range(len(nums) - 2):\n",
    "            if i>0 and nums[i] == nums[i-1]:\n",
    "                continue\n",
    "            for j in range(i+1, len(nums)-1):\n",
    "                if j > i+1 and nums[j] == nums[j-1]:\n",
    "                    continue\n",
    "                for k in range(j+1, len(nums)):\n",
    "                    if k > j+1 and nums[k] == nums[k-1]:\n",
    "                        continue\n",
    "                    if nums[i] + nums[j] + nums[k] == 0:\n",
    "                        result.append([nums[i], nums[j], nums[k]])\n",
    "        return result\n",
    "\n",
    "\n",
    "input_data = [[-1,0,1,2,-1,-4] , [], [0]]\n",
    "output_data = [[[-1, 0, 1], [-1, -1, 2]] , [], []]\n",
    "sol = Solution()\n",
    "for i in range(len(input_data)):\n",
    "    print('---'*25)\n",
    "    print('input  : ', input_data[i])\n",
    "    print('output : ', output_data[i])\n",
    "    print('result : ', sol.func(input_data[i]))"
   ]
  },
  {
   "cell_type": "markdown",
   "metadata": {},
   "source": [
    "# 2. Two Pointer Moving"
   ]
  },
  {
   "cell_type": "code",
   "execution_count": 19,
   "metadata": {
    "ExecuteTime": {
     "end_time": "2021-01-24T15:15:55.585982Z",
     "start_time": "2021-01-24T15:15:55.572648Z"
    }
   },
   "outputs": [
    {
     "name": "stdout",
     "output_type": "stream",
     "text": [
      "---------------------------------------------------------------------------\n",
      "input  :  [-1, 0, 1, 2, -1, -4]\n",
      "output :  [[-1, 0, 1], [-1, -1, 2]]\n",
      "result :  [[-1, -1, 2], [-1, 0, 1]]\n",
      "---------------------------------------------------------------------------\n",
      "input  :  []\n",
      "output :  []\n",
      "result :  []\n",
      "---------------------------------------------------------------------------\n",
      "input  :  [0]\n",
      "output :  []\n",
      "result :  []\n"
     ]
    }
   ],
   "source": [
    "from typing import *\n",
    "class Solution():\n",
    "    def func(self, input_data):\n",
    "        nums = sorted(input_data)\n",
    "        result = []\n",
    "        i, left, right = 0, 1, len(nums)-1\n",
    "        for i in range(len(nums)-2):\n",
    "            if i>0 and nums[i] == nums[i-1]:\n",
    "                continue\n",
    "            left, right = i+1, len(nums)-1\n",
    "            while left < right:\n",
    "                sums = nums[i] + nums[left] + nums[right]\n",
    "                if sums == 0:\n",
    "                    result.append([nums[i], nums[left], nums[right]])\n",
    "                    while left < right and nums[left] == nums[left+1]:\n",
    "                        left += 1\n",
    "                    while right > left and nums[right] == nums[right-1]:\n",
    "                        right -= 1\n",
    "                    left += 1\n",
    "                    right -= 1\n",
    "                elif sums < 0:\n",
    "                    left += 1\n",
    "                elif sums > 0:\n",
    "                    right -= 1\n",
    "        return result\n",
    "\n",
    "\n",
    "input_data = [[-1,0,1,2,-1,-4] , [], [0]]\n",
    "output_data = [[[-1, 0, 1], [-1, -1, 2]] , [], []]\n",
    "sol = Solution()\n",
    "for i in range(len(input_data)):\n",
    "    print('---'*25)\n",
    "    print('input  : ', input_data[i])\n",
    "    print('output : ', output_data[i])\n",
    "    print('result : ', sol.func(input_data[i]))"
   ]
  }
 ],
 "metadata": {
  "kernelspec": {
   "display_name": "Python 3",
   "language": "python",
   "name": "python3"
  },
  "language_info": {
   "codemirror_mode": {
    "name": "ipython",
    "version": 3
   },
   "file_extension": ".py",
   "mimetype": "text/x-python",
   "name": "python",
   "nbconvert_exporter": "python",
   "pygments_lexer": "ipython3",
   "version": "3.7.2"
  },
  "latex_envs": {
   "LaTeX_envs_menu_present": true,
   "autoclose": false,
   "autocomplete": true,
   "bibliofile": "biblio.bib",
   "cite_by": "apalike",
   "current_citInitial": 1,
   "eqLabelWithNumbers": true,
   "eqNumInitial": 1,
   "hotkeys": {
    "equation": "Ctrl-E",
    "itemize": "Ctrl-I"
   },
   "labels_anchors": false,
   "latex_user_defs": false,
   "report_style_numbering": false,
   "user_envs_cfg": false
  },
  "varInspector": {
   "cols": {
    "lenName": 16,
    "lenType": 16,
    "lenVar": 40
   },
   "kernels_config": {
    "python": {
     "delete_cmd_postfix": "",
     "delete_cmd_prefix": "del ",
     "library": "var_list.py",
     "varRefreshCmd": "print(var_dic_list())"
    },
    "r": {
     "delete_cmd_postfix": ") ",
     "delete_cmd_prefix": "rm(",
     "library": "var_list.r",
     "varRefreshCmd": "cat(var_dic_list()) "
    }
   },
   "types_to_exclude": [
    "module",
    "function",
    "builtin_function_or_method",
    "instance",
    "_Feature"
   ],
   "window_display": false
  }
 },
 "nbformat": 4,
 "nbformat_minor": 2
}
