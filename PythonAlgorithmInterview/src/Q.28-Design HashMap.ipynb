{
 "cells": [
  {
   "cell_type": "markdown",
   "metadata": {},
   "source": [
    "# 해시맵 디자인 | 난이도 🌟\n",
    "### 문제 출처 - 리트 코드 [706번 문제 Design HashMap](https://leetcode.com/problems/design-hashmap)"
   ]
  },
  {
   "cell_type": "code",
   "execution_count": null,
   "metadata": {
    "ExecuteTime": {
     "end_time": "2021-01-23T15:11:08.481689Z",
     "start_time": "2021-01-23T15:11:08.347977Z"
    }
   },
   "outputs": [],
   "source": [
    "from typing import *\n",
    "import colelction\n",
    "\n",
    "class MyHashMap:\n",
    "    def __init__(self):\n",
    "        self.size = 1000\n",
    "        self.table = collections.defaultdict(ListNode)\n",
    "        \n",
    "    def put(self, key: int, value: int) -> None:\n",
    "        index = key % self.size\n",
    "        if self.table[index].value is None:\n",
    "            self.table[index] = ListNode(key, value)\n",
    "            return\n",
    "        \n",
    "        p = self.table[index]\n",
    "        while p:\n",
    "            if p.key == key:\n",
    "                p.value = value\n",
    "                return\n",
    "            if p.next is None:\n",
    "                break\n",
    "            p = p.next\n",
    "        p.next = ListNode(key, value)\n",
    "    def get(self, key: int) -> int:\n",
    "        index = key % self.size\n",
    "        if self.table[index].value is None:\n",
    "            return -1\n",
    "        \n",
    "        p = self.table[index]\n",
    "        while p:\n",
    "            if p.key == key:\n",
    "                return p.value\n",
    "            p = p.next\n",
    "        return -1\n",
    "    \n",
    "    def remove(self, key: int) -> None:\n",
    "        index = key % self.size\n",
    "        if self.table[index].value is None:\n",
    "            return\n",
    "        \n",
    "        p = self.table[index]\n",
    "        if p.key == key:\n",
    "            self.table[index] = ListNode() if p.next is None else p.next\n",
    "            return\n",
    "        \n",
    "        prev = p\n",
    "        while p:\n",
    "            if p.key == key:\n",
    "                prev.next = p.next\n",
    "                return\n",
    "            prev, p = p, p.next"
   ]
  }
 ],
 "metadata": {
  "kernelspec": {
   "display_name": "Python 3",
   "language": "python",
   "name": "python3"
  },
  "language_info": {
   "codemirror_mode": {
    "name": "ipython",
    "version": 3
   },
   "file_extension": ".py",
   "mimetype": "text/x-python",
   "name": "python",
   "nbconvert_exporter": "python",
   "pygments_lexer": "ipython3",
   "version": "3.7.2"
  },
  "latex_envs": {
   "LaTeX_envs_menu_present": true,
   "autoclose": false,
   "autocomplete": true,
   "bibliofile": "biblio.bib",
   "cite_by": "apalike",
   "current_citInitial": 1,
   "eqLabelWithNumbers": true,
   "eqNumInitial": 1,
   "hotkeys": {
    "equation": "Ctrl-E",
    "itemize": "Ctrl-I"
   },
   "labels_anchors": false,
   "latex_user_defs": false,
   "report_style_numbering": false,
   "user_envs_cfg": false
  },
  "varInspector": {
   "cols": {
    "lenName": 16,
    "lenType": 16,
    "lenVar": 40
   },
   "kernels_config": {
    "python": {
     "delete_cmd_postfix": "",
     "delete_cmd_prefix": "del ",
     "library": "var_list.py",
     "varRefreshCmd": "print(var_dic_list())"
    },
    "r": {
     "delete_cmd_postfix": ") ",
     "delete_cmd_prefix": "rm(",
     "library": "var_list.r",
     "varRefreshCmd": "cat(var_dic_list()) "
    }
   },
   "types_to_exclude": [
    "module",
    "function",
    "builtin_function_or_method",
    "instance",
    "_Feature"
   ],
   "window_display": false
  }
 },
 "nbformat": 4,
 "nbformat_minor": 2
}
