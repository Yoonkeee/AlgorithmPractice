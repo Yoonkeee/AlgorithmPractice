{
 "cells": [
  {
   "cell_type": "markdown",
   "metadata": {},
   "source": [
    "# 순열 | 난이도 🌟🌟\n",
    "### 문제 출처 - 리트 코드 [34번 문제 Permutations](https://leetcode.com/problems/permutations)"
   ]
  },
  {
   "cell_type": "code",
   "execution_count": 10,
   "metadata": {
    "ExecuteTime": {
     "end_time": "2021-02-24T20:39:02.402191Z",
     "start_time": "2021-02-24T20:39:02.391220Z"
    }
   },
   "outputs": [
    {
     "name": "stdout",
     "output_type": "stream",
     "text": [
      "---------------------------------------------------------------------------\n",
      "input  :  [1, 2, 3]\n",
      "expect :  [[1, 2, 3], [1, 3, 2], [2, 1, 3], [2, 3, 1], [3, 1, 2], [3, 2, 1]]\n",
      "result :  [[1, 2, 3], [1, 3, 2], [2, 1, 3], [2, 3, 1], [3, 1, 2], [3, 2, 1]]\n",
      "---------------------------------------------------------------------------\n",
      "input  :  [0, 1]\n",
      "expect :  [[0, 1], [1, 0]]\n",
      "result :  [[0, 1], [1, 0]]\n",
      "---------------------------------------------------------------------------\n",
      "input  :  [1]\n",
      "expect :  [[1]]\n",
      "result :  [[1]]\n"
     ]
    }
   ],
   "source": [
    "from typing import *\n",
    "class Solution():\n",
    "    def func(self, input_data):\n",
    "        nums = input_data\n",
    "        \n",
    "        results = []\n",
    "        prev_elements = []\n",
    "        \n",
    "        def dfs(elements):\n",
    "            # 리프 노드일 때 결과 추가\n",
    "            if len(elements) == 0:\n",
    "                results.append(prev_elements[:]) # _ / _ / 0,1 / _ / _ / 1,0\n",
    "            # 순열 생성 재귀 호출\n",
    "            for e in elements:  # 0,1 / 1 / 0,1 / 0\n",
    "                            # e : 0 / 1 / 1 / 0\n",
    "                next_elements = elements[:]  # 0,1 / 1 / 0,1 / 0\n",
    "                next_elements.remove(e)  # 1 / [] / 0 / []\n",
    "                \n",
    "                prev_elements.append(e)  # 0 / 0,1 / 1 / 1,0 / \n",
    "                dfs(next_elements)  # dfs(1) / dfs([]) / dfs(0) / dfs([])\n",
    "                prev_elements.pop() # 0\n",
    "        # end dfs()\n",
    "        dfs(nums)\n",
    "        return results\n",
    "    \n",
    "    \n",
    "input_data = [[1,2,3], [0,1], [1]]\n",
    "output_data = [[[1,2,3],[1,3,2],[2,1,3],[2,3,1],[3,1,2],[3,2,1]],\n",
    "              [[0,1], [1,0]],\n",
    "              [[1]]\n",
    "              ]\n",
    "sol = Solution()\n",
    "for i in range(len(input_data)):\n",
    "    print('---'*25)\n",
    "    print('input  : ', input_data[i])\n",
    "    print('expect : ', output_data[i])\n",
    "    print('result : ', sol.func(input_data[i]))"
   ]
  },
  {
   "cell_type": "markdown",
   "metadata": {},
   "source": [
    "# itertools 모듈 사용"
   ]
  },
  {
   "cell_type": "code",
   "execution_count": 7,
   "metadata": {
    "ExecuteTime": {
     "end_time": "2021-02-25T17:11:36.279024Z",
     "start_time": "2021-02-25T17:11:36.270240Z"
    }
   },
   "outputs": [
    {
     "name": "stdout",
     "output_type": "stream",
     "text": [
      "---------------------------------------------------------------------------\n",
      "input  :  [1, 2, 3]\n",
      "expect :  [[1, 2, 3], [1, 3, 2], [2, 1, 3], [2, 3, 1], [3, 1, 2], [3, 2, 1]]\n",
      "result :  [[1, 2, 3], [1, 3, 2], [2, 1, 3], [2, 3, 1], [3, 1, 2], [3, 2, 1]]\n",
      "---------------------------------------------------------------------------\n",
      "input  :  [0, 1]\n",
      "expect :  [[0, 1], [1, 0]]\n",
      "result :  [[0, 1], [1, 0]]\n",
      "---------------------------------------------------------------------------\n",
      "input  :  [1]\n",
      "expect :  [[1]]\n",
      "result :  [[1]]\n"
     ]
    }
   ],
   "source": [
    "from typing import *\n",
    "import itertools\n",
    "class Solution():\n",
    "    def func(self, input_data):\n",
    "        nums = input_data\n",
    "        return list(map(list, itertools.permutations(nums)))\n",
    "    \n",
    "    \n",
    "input_data = [[1,2,3], [0,1], [1]]\n",
    "output_data = [[[1,2,3],[1,3,2],[2,1,3],[2,3,1],[3,1,2],[3,2,1]],\n",
    "              [[0,1], [1,0]],\n",
    "              [[1]]\n",
    "              ]\n",
    "sol = Solution()\n",
    "for i in range(len(input_data)):\n",
    "    print('---'*25)\n",
    "    print('input  : ', input_data[i])\n",
    "    print('expect : ', output_data[i])\n",
    "    print('result : ', sol.func(input_data[i]))"
   ]
  },
  {
   "cell_type": "code",
   "execution_count": 4,
   "metadata": {
    "ExecuteTime": {
     "end_time": "2021-03-09T17:44:42.234253Z",
     "start_time": "2021-03-09T17:44:42.221642Z"
    }
   },
   "outputs": [
    {
     "name": "stdout",
     "output_type": "stream",
     "text": [
      "---------------------------------------------------------------------------\n",
      "input  :  [1, 2, 3]\n",
      "expect :  [[1, 2, 3], [1, 3, 2], [2, 1, 3], [2, 3, 1], [3, 1, 2], [3, 2, 1]]\n",
      "e : 1 / next_elements : [1, 2, 3]\n",
      "e : 2 / next_elements : [2, 3]\n",
      "e : 3 / next_elements : [3]\n",
      "append [1, 2, 3]\n",
      "e : 3 / next_elements : [2, 3]\n",
      "e : 2 / next_elements : [2]\n",
      "append [1, 3, 2]\n",
      "e : 2 / next_elements : [1, 2, 3]\n",
      "e : 1 / next_elements : [1, 3]\n",
      "e : 3 / next_elements : [3]\n",
      "append [2, 1, 3]\n",
      "e : 3 / next_elements : [1, 3]\n",
      "e : 1 / next_elements : [1]\n",
      "append [2, 3, 1]\n",
      "e : 3 / next_elements : [1, 2, 3]\n",
      "e : 1 / next_elements : [1, 2]\n",
      "e : 2 / next_elements : [2]\n",
      "append [3, 1, 2]\n",
      "e : 2 / next_elements : [1, 2]\n",
      "e : 1 / next_elements : [1]\n",
      "append [3, 2, 1]\n",
      "result :  [[1, 2, 3], [1, 3, 2], [2, 1, 3], [2, 3, 1], [3, 1, 2], [3, 2, 1]]\n",
      "---------------------------------------------------------------------------\n",
      "input  :  [0, 1]\n",
      "expect :  [[0, 1], [1, 0]]\n",
      "e : 0 / next_elements : [0, 1]\n",
      "e : 1 / next_elements : [1]\n",
      "append [0, 1]\n",
      "e : 1 / next_elements : [0, 1]\n",
      "e : 0 / next_elements : [0]\n",
      "append [1, 0]\n",
      "result :  [[0, 1], [1, 0]]\n",
      "---------------------------------------------------------------------------\n",
      "input  :  [1]\n",
      "expect :  [[1]]\n",
      "e : 1 / next_elements : [1]\n",
      "append [1]\n",
      "result :  [[1]]\n"
     ]
    }
   ],
   "source": [
    "from typing import *\n",
    "class Solution():\n",
    "    def func(self, input_data):\n",
    "        nums = input_data\n",
    "        prev_elements = []\n",
    "        results = []\n",
    "        \n",
    "        def dfs(elements):\n",
    "            if len(elements) == 0:\n",
    "                results.append(prev_elements[:])\n",
    "                print('append',prev_elements[:])\n",
    "            for e in elements:\n",
    "                next_elements = elements[:]\n",
    "                print(f'e : {e} / next_elements : {next_elements}')\n",
    "                next_elements.remove(e)\n",
    "                \n",
    "                prev_elements.append(e)\n",
    "                dfs(next_elements)\n",
    "                prev_elements.pop()\n",
    "        dfs(nums)\n",
    "        return results\n",
    "    \n",
    "    \n",
    "input_data = [[1,2,3], [0,1], [1]]\n",
    "output_data = [[[1,2,3],[1,3,2],[2,1,3],[2,3,1],[3,1,2],[3,2,1]],\n",
    "              [[0,1], [1,0]],\n",
    "              [[1]]\n",
    "              ]\n",
    "sol = Solution()\n",
    "for i in range(len(input_data)):\n",
    "    print('---'*25)\n",
    "    print('input  : ', input_data[i])\n",
    "    print('expect : ', output_data[i])\n",
    "    print('result : ', sol.func(input_data[i]))"
   ]
  }
 ],
 "metadata": {
  "kernelspec": {
   "display_name": "Python 3",
   "language": "python",
   "name": "python3"
  },
  "language_info": {
   "codemirror_mode": {
    "name": "ipython",
    "version": 3
   },
   "file_extension": ".py",
   "mimetype": "text/x-python",
   "name": "python",
   "nbconvert_exporter": "python",
   "pygments_lexer": "ipython3",
   "version": "3.7.2"
  },
  "latex_envs": {
   "LaTeX_envs_menu_present": true,
   "autoclose": false,
   "autocomplete": true,
   "bibliofile": "biblio.bib",
   "cite_by": "apalike",
   "current_citInitial": 1,
   "eqLabelWithNumbers": true,
   "eqNumInitial": 1,
   "hotkeys": {
    "equation": "Ctrl-E",
    "itemize": "Ctrl-I"
   },
   "labels_anchors": false,
   "latex_user_defs": false,
   "report_style_numbering": false,
   "user_envs_cfg": false
  },
  "varInspector": {
   "cols": {
    "lenName": 16,
    "lenType": 16,
    "lenVar": 40
   },
   "kernels_config": {
    "python": {
     "delete_cmd_postfix": "",
     "delete_cmd_prefix": "del ",
     "library": "var_list.py",
     "varRefreshCmd": "print(var_dic_list())"
    },
    "r": {
     "delete_cmd_postfix": ") ",
     "delete_cmd_prefix": "rm(",
     "library": "var_list.r",
     "varRefreshCmd": "cat(var_dic_list()) "
    }
   },
   "types_to_exclude": [
    "module",
    "function",
    "builtin_function_or_method",
    "instance",
    "_Feature"
   ],
   "window_display": false
  }
 },
 "nbformat": 4,
 "nbformat_minor": 2
}
