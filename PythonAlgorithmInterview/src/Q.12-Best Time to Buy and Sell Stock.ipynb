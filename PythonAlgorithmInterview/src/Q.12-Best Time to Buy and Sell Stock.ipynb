{
 "cells": [
  {
   "cell_type": "markdown",
   "metadata": {},
   "source": [
    "# 주식을 사고팔기 가장 좋은 시점 | 난이도 🌟\n",
    "### 문제 출처 - 리트 코드 [121번 문제 Best Time to Buy and Sell Stock](https://leetcode.com/problems/best-time-to-buy-and-sell-stock)"
   ]
  },
  {
   "cell_type": "markdown",
   "metadata": {},
   "source": [
    "# 1. ~~틀린 풀이~~\n",
    "항상 최솟값에서 사려고 하기 때문에, 최솟값이 아닌 곳에서 사야 Max Profit인 구간을 발견할 수 없음.  \n",
    "input이 [5,10,1,3]일 경우 최솟값 1에서 사게 되고, 그보다 높은 가격인 3에 판매하므로 profit=2.  \n",
    "하지만 답은 5에서 사서 10에 판매하는 profit=5가 정답임."
   ]
  },
  {
   "cell_type": "code",
   "execution_count": 3,
   "metadata": {
    "ExecuteTime": {
     "end_time": "2021-01-24T19:25:01.040223Z",
     "start_time": "2021-01-24T19:25:01.029236Z"
    }
   },
   "outputs": [
    {
     "name": "stdout",
     "output_type": "stream",
     "text": [
      "---------------------------------------------------------------------------\n",
      "input  :  [7, 1, 5, 3, 6, 4]\n",
      "output :  5\n",
      "result :  5\n",
      "---------------------------------------------------------------------------\n",
      "input  :  [7, 6, 4, 3, 1]\n",
      "output :  0\n",
      "result :  0\n",
      "---------------------------------------------------------------------------\n",
      "input  :  [2, 4, 1]\n",
      "output :  2\n",
      "result :  0\n"
     ]
    }
   ],
   "source": [
    "from typing import *\n",
    "class Solution():\n",
    "    def func(self, input_data):\n",
    "        prices = input_data\n",
    "        min_price = [0, prices[0]]\n",
    "        for i in range(len(prices)-1):\n",
    "            if prices[i+1] <= min_price[1]:\n",
    "                min_price = [i+1, prices[i+1]]\n",
    "                \n",
    "        max_price = min_price[1]\n",
    "        if min_price[0] == len(prices)-1:\n",
    "            return 0\n",
    "        else:\n",
    "            max_price = max(prices[min_price[0]+1:])\n",
    "                \n",
    "        return max_price - min_price[1]\n",
    "            \n",
    "    \n",
    "\n",
    "input_data = [[7,1,5,3,6,4] , [7,6,4,3,1] , [2,4,1]]\n",
    "output_data = [5, 0, 2]\n",
    "sol = Solution()\n",
    "for i in range(len(input_data)):\n",
    "    print('---'*25)\n",
    "    print('input  : ', input_data[i])\n",
    "    print('output : ', output_data[i])\n",
    "    print('result : ', sol.func(input_data[i]))"
   ]
  },
  {
   "cell_type": "markdown",
   "metadata": {},
   "source": [
    "# 2. Pointer를 이용한 풀이\n",
    "현재 갖고있는 profit보다 더 큰 profit을 발견할 경우 저장"
   ]
  },
  {
   "cell_type": "code",
   "execution_count": 2,
   "metadata": {
    "ExecuteTime": {
     "end_time": "2021-01-24T19:24:13.636659Z",
     "start_time": "2021-01-24T19:24:13.627267Z"
    }
   },
   "outputs": [
    {
     "name": "stdout",
     "output_type": "stream",
     "text": [
      "---------------------------------------------------------------------------\n",
      "input  :  [7, 1, 5, 3, 6, 4]\n",
      "output :  5\n",
      "result :  5\n",
      "---------------------------------------------------------------------------\n",
      "input  :  [7, 6, 4, 3, 1]\n",
      "output :  0\n",
      "result :  0\n",
      "---------------------------------------------------------------------------\n",
      "input  :  [2, 4, 1]\n",
      "output :  2\n",
      "result :  2\n"
     ]
    }
   ],
   "source": [
    "from typing import *\n",
    "import sys\n",
    "class Solution():\n",
    "    def func(self, input_data):\n",
    "        prices = input_data\n",
    "        profit = 0\n",
    "        min_price = sys.maxsize\n",
    "        \n",
    "        for price in prices:\n",
    "            # [5,10,1,3]의 경우 min_price는 1이지만, profit은 기존의 max_profit(=5)를 갖고있음\n",
    "            min_price = min(min_price, price)\n",
    "            profit = max(profit, price - min_price)\n",
    "            \n",
    "        return profit\n",
    "        \n",
    "        \n",
    "input_data = [[7,1,5,3,6,4] , [7,6,4,3,1] , [2,4,1]]\n",
    "output_data = [5, 0, 2]\n",
    "sol = Solution()\n",
    "for i in range(len(input_data)):\n",
    "    print('---'*25)\n",
    "    print('input  : ', input_data[i])\n",
    "    print('output : ', output_data[i])\n",
    "    print('result : ', sol.func(input_data[i]))"
   ]
  }
 ],
 "metadata": {
  "kernelspec": {
   "display_name": "Python 3",
   "language": "python",
   "name": "python3"
  },
  "language_info": {
   "codemirror_mode": {
    "name": "ipython",
    "version": 3
   },
   "file_extension": ".py",
   "mimetype": "text/x-python",
   "name": "python",
   "nbconvert_exporter": "python",
   "pygments_lexer": "ipython3",
   "version": "3.7.2"
  },
  "latex_envs": {
   "LaTeX_envs_menu_present": true,
   "autoclose": false,
   "autocomplete": true,
   "bibliofile": "biblio.bib",
   "cite_by": "apalike",
   "current_citInitial": 1,
   "eqLabelWithNumbers": true,
   "eqNumInitial": 1,
   "hotkeys": {
    "equation": "Ctrl-E",
    "itemize": "Ctrl-I"
   },
   "labels_anchors": false,
   "latex_user_defs": false,
   "report_style_numbering": false,
   "user_envs_cfg": false
  },
  "varInspector": {
   "cols": {
    "lenName": 16,
    "lenType": 16,
    "lenVar": 40
   },
   "kernels_config": {
    "python": {
     "delete_cmd_postfix": "",
     "delete_cmd_prefix": "del ",
     "library": "var_list.py",
     "varRefreshCmd": "print(var_dic_list())"
    },
    "r": {
     "delete_cmd_postfix": ") ",
     "delete_cmd_prefix": "rm(",
     "library": "var_list.r",
     "varRefreshCmd": "cat(var_dic_list()) "
    }
   },
   "types_to_exclude": [
    "module",
    "function",
    "builtin_function_or_method",
    "instance",
    "_Feature"
   ],
   "window_display": false
  }
 },
 "nbformat": 4,
 "nbformat_minor": 2
}
