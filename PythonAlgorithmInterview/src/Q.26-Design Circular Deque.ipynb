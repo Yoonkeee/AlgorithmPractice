{
 "cells": [
  {
   "cell_type": "markdown",
   "metadata": {},
   "source": [
    "# 원형 데크 디자인 | 난이도 🌟🌟\n",
    "### 문제 출처 - 리트 코드 [641번 문제 Design Circular Deque](https://leetcode.com/problems/design-circular-deque)"
   ]
  },
  {
   "cell_type": "code",
   "execution_count": null,
   "metadata": {
    "ExecuteTime": {
     "end_time": "2021-01-23T15:11:08.481689Z",
     "start_time": "2021-01-23T15:11:08.347977Z"
    },
    "code_folding": []
   },
   "outputs": [],
   "source": [
    "from typing import *\n",
    "\n",
    "class ListNode:\n",
    "    def __init__(self, val=0, right=None, left=None):\n",
    "        self.val = val\n",
    "        self.right = right\n",
    "        self.left = left\n",
    "        \n",
    "class MyCircularDeque:\n",
    "\n",
    "    def __init__(self, k: int):\n",
    "        self.head, self.tail = ListNode(None), ListNode(None)\n",
    "        self.k, self.len = k, 0\n",
    "        self.head.right, self.tail.left = self.tail, self.head\n",
    "\n",
    "    def _add(self, node: ListNode, new: ListNode):\n",
    "        n = node.right\n",
    "        node.right = new\n",
    "        new.left, new.right = node, n\n",
    "        n.left = new\n",
    "        \n",
    "    def _del(self, node: ListNode):\n",
    "        n = node.right.right\n",
    "        node.right = n\n",
    "        n.left = node\n",
    "        \n",
    "    def insertFront(self, value: int) -> bool:\n",
    "        if self.len == self.k:\n",
    "            return False\n",
    "        self.len += 1\n",
    "        self._add(self.head, ListNode(value))\n",
    "        return True\n",
    "        \n",
    "    def insertLast(self, value: int) -> bool:\n",
    "        if self.len == self.k:\n",
    "            return False\n",
    "        self.len += 1\n",
    "        self._add(self.tail.left, ListNode(value))\n",
    "        return True     \n",
    "\n",
    "    def deleteFront(self) -> bool:\n",
    "        if self.len == 0:\n",
    "            return False\n",
    "        self.len -= 1\n",
    "        self._del(self.head)\n",
    "        return True\n",
    "        \n",
    "\n",
    "    def deleteLast(self) -> bool:\n",
    "        if self.len == 0:\n",
    "            return False\n",
    "        self.len -= 1\n",
    "        self._del(self.tail.left.left)\n",
    "        return True\n",
    "\n",
    "    def getFront(self) -> int:\n",
    "        return self.head.right.val if self.len else -1        \n",
    "\n",
    "    def getRear(self) -> int:\n",
    "        return self.head.left.val if self.len else -1\n",
    "\n",
    "    def isEmpty(self) -> bool:\n",
    "        return self.len == 0\n",
    "\n",
    "    def isFull(self) -> bool:\n",
    "        return self.k == self.len\n",
    "\n",
    "# Your MyCircularDeque object will be instantiated and called as such:\n",
    "# obj = MyCircularDeque(k)\n",
    "# param_1 = obj.insertFront(value)\n",
    "# param_2 = obj.insertLast(value)\n",
    "# param_3 = obj.deleteFront()\n",
    "# param_4 = obj.deleteLast()\n",
    "# param_5 = obj.getFront()\n",
    "# param_6 = obj.getRear()\n",
    "# param_7 = obj.isEmpty()\n",
    "# param_8 = obj.isFull()"
   ]
  }
 ],
 "metadata": {
  "kernelspec": {
   "display_name": "Python 3",
   "language": "python",
   "name": "python3"
  },
  "language_info": {
   "codemirror_mode": {
    "name": "ipython",
    "version": 3
   },
   "file_extension": ".py",
   "mimetype": "text/x-python",
   "name": "python",
   "nbconvert_exporter": "python",
   "pygments_lexer": "ipython3",
   "version": "3.7.2"
  },
  "latex_envs": {
   "LaTeX_envs_menu_present": true,
   "autoclose": false,
   "autocomplete": true,
   "bibliofile": "biblio.bib",
   "cite_by": "apalike",
   "current_citInitial": 1,
   "eqLabelWithNumbers": true,
   "eqNumInitial": 1,
   "hotkeys": {
    "equation": "Ctrl-E",
    "itemize": "Ctrl-I"
   },
   "labels_anchors": false,
   "latex_user_defs": false,
   "report_style_numbering": false,
   "user_envs_cfg": false
  },
  "varInspector": {
   "cols": {
    "lenName": 16,
    "lenType": 16,
    "lenVar": 40
   },
   "kernels_config": {
    "python": {
     "delete_cmd_postfix": "",
     "delete_cmd_prefix": "del ",
     "library": "var_list.py",
     "varRefreshCmd": "print(var_dic_list())"
    },
    "r": {
     "delete_cmd_postfix": ") ",
     "delete_cmd_prefix": "rm(",
     "library": "var_list.r",
     "varRefreshCmd": "cat(var_dic_list()) "
    }
   },
   "types_to_exclude": [
    "module",
    "function",
    "builtin_function_or_method",
    "instance",
    "_Feature"
   ],
   "window_display": false
  }
 },
 "nbformat": 4,
 "nbformat_minor": 2
}
