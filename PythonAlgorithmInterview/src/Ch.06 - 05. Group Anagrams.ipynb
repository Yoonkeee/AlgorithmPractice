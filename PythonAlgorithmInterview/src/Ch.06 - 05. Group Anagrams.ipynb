{
 "cells": [
  {
   "cell_type": "markdown",
   "metadata": {},
   "source": [
    "# Ch.06 - 05. Group Anagrams | 난이도 🌟🌟\n",
    "### 문제 출처 - 리트 코드 [49번 문제 Group Anagrams](https://leetcode.com/problems/group-anagrams)"
   ]
  },
  {
   "cell_type": "code",
   "execution_count": 79,
   "metadata": {
    "ExecuteTime": {
     "end_time": "2021-01-17T20:07:22.203995Z",
     "start_time": "2021-01-17T20:07:22.197255Z"
    }
   },
   "outputs": [
    {
     "name": "stdout",
     "output_type": "stream",
     "text": [
      "[['eat', 'tea', 'ate'], ['tan', 'nat'], ['bat']]\n"
     ]
    }
   ],
   "source": [
    "from typing import *\n",
    "import collections\n",
    "class Solution():\n",
    "    def func(self, strs):\n",
    "        sorted_dict:dict = collections.defaultdict(list)\n",
    "        for word in strs:\n",
    "            sorted_word = ''.join(sorted(word))\n",
    "            sorted_dict[sorted_word].append(word)  # 없는 key 참조시 default가 list이므로 append 가능\n",
    "        return list(sorted_dict.values())\n",
    "    \n",
    "strs = ['eat', 'tea', 'tan', 'ate', 'nat', 'bat']\n",
    "group_anagrams = Solution()\n",
    "group = group_anagrams.func(strs)\n",
    "print(group)"
   ]
  },
  {
   "cell_type": "markdown",
   "metadata": {},
   "source": [
    "# 풀이 1 - 정렬하여 딕셔너리에 추가"
   ]
  },
  {
   "cell_type": "code",
   "execution_count": 61,
   "metadata": {
    "ExecuteTime": {
     "end_time": "2021-01-17T20:01:47.367871Z",
     "start_time": "2021-01-17T20:01:47.362243Z"
    }
   },
   "outputs": [
    {
     "name": "stdout",
     "output_type": "stream",
     "text": [
      "dict_values([['eat', 'tea', 'ate'], ['tan', 'nat'], ['bat']])\n"
     ]
    }
   ],
   "source": [
    "from typing import *\n",
    "import collections\n",
    "class Solution():\n",
    "    def func(self, strs):\n",
    "        anagrams = collections.defaultdict(list)\n",
    "        \n",
    "        for word in strs:\n",
    "            anagrams[''.join(sorted(word))].append(word)\n",
    "        return anagrams.values()\n",
    "    \n",
    "strs = ['eat', 'tea', 'tan', 'ate', 'nat', 'bat']\n",
    "group_anagrams = Solution()\n",
    "group = group_anagrams.func(strs)\n",
    "print(group)"
   ]
  }
 ],
 "metadata": {
  "kernelspec": {
   "display_name": "Python 3",
   "language": "python",
   "name": "python3"
  },
  "language_info": {
   "codemirror_mode": {
    "name": "ipython",
    "version": 3
   },
   "file_extension": ".py",
   "mimetype": "text/x-python",
   "name": "python",
   "nbconvert_exporter": "python",
   "pygments_lexer": "ipython3",
   "version": "3.7.2"
  },
  "latex_envs": {
   "LaTeX_envs_menu_present": true,
   "autoclose": false,
   "autocomplete": true,
   "bibliofile": "biblio.bib",
   "cite_by": "apalike",
   "current_citInitial": 1,
   "eqLabelWithNumbers": true,
   "eqNumInitial": 1,
   "hotkeys": {
    "equation": "Ctrl-E",
    "itemize": "Ctrl-I"
   },
   "labels_anchors": false,
   "latex_user_defs": false,
   "report_style_numbering": false,
   "user_envs_cfg": false
  },
  "varInspector": {
   "cols": {
    "lenName": 16,
    "lenType": 16,
    "lenVar": 40
   },
   "kernels_config": {
    "python": {
     "delete_cmd_postfix": "",
     "delete_cmd_prefix": "del ",
     "library": "var_list.py",
     "varRefreshCmd": "print(var_dic_list())"
    },
    "r": {
     "delete_cmd_postfix": ") ",
     "delete_cmd_prefix": "rm(",
     "library": "var_list.r",
     "varRefreshCmd": "cat(var_dic_list()) "
    }
   },
   "types_to_exclude": [
    "module",
    "function",
    "builtin_function_or_method",
    "instance",
    "_Feature"
   ],
   "window_display": false
  }
 },
 "nbformat": 4,
 "nbformat_minor": 2
}
