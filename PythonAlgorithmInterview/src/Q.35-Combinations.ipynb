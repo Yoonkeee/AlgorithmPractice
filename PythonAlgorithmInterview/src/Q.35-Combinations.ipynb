{
 "cells": [
  {
   "cell_type": "markdown",
   "metadata": {},
   "source": [
    "# 조합 | 난이도 🌟🌟\n",
    "### 문제 출처 - 리트 코드 [77번 문제 Combinations](https://leetcode.com/problems/combinations)"
   ]
  },
  {
   "cell_type": "code",
   "execution_count": 4,
   "metadata": {
    "ExecuteTime": {
     "end_time": "2021-02-25T17:50:58.316281Z",
     "start_time": "2021-02-25T17:50:58.305439Z"
    }
   },
   "outputs": [
    {
     "name": "stdout",
     "output_type": "stream",
     "text": [
      "---------------------------------------------------------------------------\n",
      "input  :  [4, 2]\n",
      "expect :  [[1, 2], [1, 3], [1, 4], [2, 3], [2, 4], [3, 4]]\n",
      "result :  [[1, 2], [1, 3], [1, 4], [2, 3], [2, 4], [3, 4]]\n"
     ]
    }
   ],
   "source": [
    "from typing import *\n",
    "class Solution():\n",
    "    def func(self, input_data):\n",
    "        n, k = input_data[0], input_data[1]\n",
    "        results = []\n",
    "        \n",
    "        def dfs(elements, start, k):\n",
    "            if k == 0:\n",
    "                results.append(elements[:])\n",
    "                \n",
    "            for i in range(start, n+1):\n",
    "                elements.append(i)\n",
    "                dfs(elements, i+1, k-1)\n",
    "                elements.pop()\n",
    "        # end dfs()\n",
    "        dfs([], 1, k)\n",
    "        return results\n",
    "    \n",
    "\n",
    "input_data = [[4,2]]\n",
    "output_data = [[[1, 2], [1, 3], [1, 4], [2, 3], [2, 4], [3, 4]]]\n",
    "sol = Solution()\n",
    "for i in range(len(input_data)):\n",
    "    print('---'*25)\n",
    "    print('input  : ', input_data[i])\n",
    "    print('expect : ', output_data[i])\n",
    "    print('result : ', sol.func(input_data[i]))"
   ]
  },
  {
   "cell_type": "code",
   "execution_count": 33,
   "metadata": {
    "ExecuteTime": {
     "end_time": "2021-03-10T19:44:47.540144Z",
     "start_time": "2021-03-10T19:44:47.529478Z"
    }
   },
   "outputs": [
    {
     "name": "stdout",
     "output_type": "stream",
     "text": [
      "---------------------------------------------------------------------------\n",
      "input  :  [5, 3]\n",
      "expect :  [[1, 2], [1, 3], [1, 4], [2, 3], [2, 4], [3, 4]]\n",
      "result :  [[1, 2, 3], [1, 2, 5], [1, 2, 5], [1, 3, 4], [1, 3, 2], [1, 3, 2], [1, 2, 5], [1, 2, 3], [1, 2, 3], [1, 2, 4], [1, 2, 3], [1, 2, 3], [4, 5, 3], [4, 5, 1], [4, 5, 1], [4, 3, 2], [4, 3, 5], [4, 3, 5], [4, 5, 1], [4, 5, 3], [4, 5, 3], [4, 5, 2], [4, 5, 3], [4, 5, 3], [3, 1, 2], [3, 1, 4], [3, 1, 4], [3, 2, 5], [3, 2, 1], [3, 2, 1], [3, 1, 4], [3, 1, 2], [3, 1, 2], [3, 1, 5], [3, 1, 2], [3, 1, 2], [1, 4, 5], [1, 4, 3], [1, 4, 3], [1, 5, 2], [1, 5, 4], [1, 5, 4], [1, 4, 3], [1, 4, 5], [1, 4, 5], [1, 4, 2], [1, 4, 5], [1, 4, 5], [1, 3, 2], [1, 3, 4], [1, 3, 4], [1, 2, 5], [1, 2, 3], [1, 2, 3], [1, 3, 4], [1, 3, 2], [1, 3, 2], [1, 3, 5], [1, 3, 2], [1, 3, 2]]\n"
     ]
    }
   ],
   "source": [
    "from typing import *\n",
    "class Solution():\n",
    "    def func(self, input_data):\n",
    "        n, k = input_data[0], input_data[1]\n",
    "        nums = [i for i in range(1, n+1)]\n",
    "        results = []\n",
    "#         num = []\n",
    "        \n",
    "#         def dfs(elems):\n",
    "#             nonlocal num\n",
    "#             if len(num) == k:\n",
    "#                 results.append(num[:])\n",
    "#                 return\n",
    "#             for e in elems:\n",
    "#                 elems.remove(e)\n",
    "#                 num.append(e)\n",
    "                \n",
    "#                 dfs(elems)\n",
    "#                 num.pop()\n",
    "#                 elems.append(e)\n",
    "                \n",
    "#         dfs(nums)\n",
    "#         return results\n",
    "    \n",
    "\n",
    "input_data = [[5,3]]\n",
    "output_data = [[[1, 2], [1, 3], [1, 4], [2, 3], [2, 4], [3, 4]]]\n",
    "sol = Solution()\n",
    "for i in range(len(input_data)):\n",
    "    print('---'*25)\n",
    "    print('input  : ', input_data[i])\n",
    "    print('expect : ', output_data[i])\n",
    "    print('result : ', sol.func(input_data[i]))"
   ]
  },
  {
   "cell_type": "markdown",
   "metadata": {},
   "source": [
    "# itertools.combinations"
   ]
  },
  {
   "cell_type": "code",
   "execution_count": 6,
   "metadata": {
    "ExecuteTime": {
     "end_time": "2021-02-25T17:52:06.083955Z",
     "start_time": "2021-02-25T17:52:06.075799Z"
    }
   },
   "outputs": [
    {
     "name": "stdout",
     "output_type": "stream",
     "text": [
      "---------------------------------------------------------------------------\n",
      "input  :  [4, 2]\n",
      "expect :  [[1, 2], [1, 3], [1, 4], [2, 3], [2, 4], [3, 4]]\n",
      "result :  [[1, 2], [1, 3], [1, 4], [2, 3], [2, 4], [3, 4]]\n"
     ]
    }
   ],
   "source": [
    "import itertools\n",
    "from typing import *\n",
    "class Solution():\n",
    "    def func(self, input_data):\n",
    "        n, k = input_data[0], input_data[1]\n",
    "        return list(map(list, itertools.combinations(range(1, n+1), k)))\n",
    "\n",
    "    \n",
    "input_data = [[4,2]]\n",
    "output_data = [[[1, 2], [1, 3], [1, 4], [2, 3], [2, 4], [3, 4]]]\n",
    "sol = Solution()\n",
    "for i in range(len(input_data)):\n",
    "    print('---'*25)\n",
    "    print('input  : ', input_data[i])\n",
    "    print('expect : ', output_data[i])\n",
    "    print('result : ', sol.func(input_data[i]))"
   ]
  },
  {
   "cell_type": "code",
   "execution_count": 26,
   "metadata": {
    "ExecuteTime": {
     "end_time": "2021-03-10T19:41:10.001019Z",
     "start_time": "2021-03-10T19:41:09.996006Z"
    }
   },
   "outputs": [
    {
     "name": "stdout",
     "output_type": "stream",
     "text": [
      "[5]\n",
      "[3]\n",
      "[3]\n"
     ]
    }
   ],
   "source": [
    "def test1():\n",
    "    \n",
    "    a = [5]\n",
    "    def test2():\n",
    "        nonlocal a \n",
    "        print(a)\n",
    "        a = [3]\n",
    "        print(a)\n",
    "        \n",
    "    test2()\n",
    "    print(a)\n",
    "test1()"
   ]
  }
 ],
 "metadata": {
  "kernelspec": {
   "display_name": "Python 3",
   "language": "python",
   "name": "python3"
  },
  "language_info": {
   "codemirror_mode": {
    "name": "ipython",
    "version": 3
   },
   "file_extension": ".py",
   "mimetype": "text/x-python",
   "name": "python",
   "nbconvert_exporter": "python",
   "pygments_lexer": "ipython3",
   "version": "3.7.2"
  },
  "latex_envs": {
   "LaTeX_envs_menu_present": true,
   "autoclose": false,
   "autocomplete": true,
   "bibliofile": "biblio.bib",
   "cite_by": "apalike",
   "current_citInitial": 1,
   "eqLabelWithNumbers": true,
   "eqNumInitial": 1,
   "hotkeys": {
    "equation": "Ctrl-E",
    "itemize": "Ctrl-I"
   },
   "labels_anchors": false,
   "latex_user_defs": false,
   "report_style_numbering": false,
   "user_envs_cfg": false
  },
  "varInspector": {
   "cols": {
    "lenName": 16,
    "lenType": 16,
    "lenVar": 40
   },
   "kernels_config": {
    "python": {
     "delete_cmd_postfix": "",
     "delete_cmd_prefix": "del ",
     "library": "var_list.py",
     "varRefreshCmd": "print(var_dic_list())"
    },
    "r": {
     "delete_cmd_postfix": ") ",
     "delete_cmd_prefix": "rm(",
     "library": "var_list.r",
     "varRefreshCmd": "cat(var_dic_list()) "
    }
   },
   "types_to_exclude": [
    "module",
    "function",
    "builtin_function_or_method",
    "instance",
    "_Feature"
   ],
   "window_display": false
  }
 },
 "nbformat": 4,
 "nbformat_minor": 2
}
