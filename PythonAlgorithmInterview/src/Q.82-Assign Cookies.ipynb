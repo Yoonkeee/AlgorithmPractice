{
 "cells": [
  {
   "cell_type": "code",
   "execution_count": 3,
   "metadata": {
    "ExecuteTime": {
     "end_time": "2021-05-06T21:28:54.847956Z",
     "start_time": "2021-05-06T21:28:43.390587Z"
    },
    "scrolled": true
   },
   "outputs": [
    {
     "name": "stdout",
     "output_type": "stream",
     "text": [
      "Q.82-Assign Cookies.ipynb\n",
      "[Q.82 쿠키 부여](https://github.com/Yoonkeee/AlgorithmPractice/blob/master/PythonAlgorithmInterview/src/Q.82-Assign%20Cookies.ipynb) - \n",
      "# 문제이름 | 난이도 🌟\n",
      "### 문제 출처 - 리트 코드 [455번 문제 Assign Cookies](https://leetcode.com/problems/assign-cookies)"
     ]
    }
   ],
   "source": [
    "from IPython.display import clear_output\n",
    "num = input('Q.?  : ')\n",
    "name = input('Problem Name : ')\n",
    "kor_name = input('문제 이름 : ')\n",
    "difficulty = int(input('난이도(별 갯수) : '))\n",
    "leet_num = input('Leetcode Problem Number')\n",
    "full = 'Q.'+num+'-'+name+'.ipynb'\n",
    "address = full.split('-')[1].split('.')[0].replace(' ', '-').lower()\n",
    "clear_output()\n",
    "File = full.split('-')[1].split('.')[0]\n",
    "print(full)\n",
    "print(f'[Q.{num} {kor_name}](https://github.com/Yoonkeee/AlgorithmPractice/blob/master/'+\n",
    "      f'PythonAlgorithmInterview/src/'+\n",
    "      f\"{full.replace(' ', '%20')}) - \")\n",
    "print(f\"# 문제이름 | 난이도 {'🌟'*difficulty}\")\n",
    "print(f'### 문제 출처 - 리트 코드 [{leet_num}번 문제 {File}](https://leetcode.com/problems/{address})', end='')"
   ]
  },
  {
   "cell_type": "markdown",
   "metadata": {},
   "source": [
    "# 문제이름 | 난이도 🌟\n",
    "### 문제 출처 - 리트 코드 [455번 문제 Assign Cookies](https://leetcode.com/problems/assign-cookies)"
   ]
  },
  {
   "cell_type": "code",
   "execution_count": null,
   "metadata": {
    "ExecuteTime": {
     "end_time": "2021-01-23T15:11:08.481689Z",
     "start_time": "2021-01-23T15:11:08.347977Z"
    }
   },
   "outputs": [],
   "source": [
    "class Solution:\n",
    "    def findContentChildren(self, g: List[int], s: List[int]) -> int:\n",
    "        g.sort()\n",
    "        s.sort()\n",
    "        child_i = cookie_j = 0\n",
    "        \n",
    "        while child_i < len(g) and cookie_j < len(s):\n",
    "            if s[cookie_j] >= g[child_i]:  # 만족하지 못하면 더 큰 다음 쿠키를\n",
    "                child_i += 1\n",
    "            cookie_j += 1\n",
    "        \n",
    "        return child_i"
   ]
  },
  {
   "cell_type": "markdown",
   "metadata": {},
   "source": [
    "# 이진 검색"
   ]
  },
  {
   "cell_type": "code",
   "execution_count": null,
   "metadata": {},
   "outputs": [],
   "source": [
    "class Solution:\n",
    "    def findContentChildren(self, g: List[int], s: List[int]) -> int:\n",
    "        g.sort()\n",
    "        s.sort()\n",
    "        result = 0\n",
    "        \n",
    "        for i in s:\n",
    "            # 이진 검색으로 더 큰 인덱스 탐색\n",
    "            index = bisect.bisect_right(g, i)\n",
    "            if index > result:\n",
    "                result += 1\n",
    "                \n",
    "        return result"
   ]
  }
 ],
 "metadata": {
  "kernelspec": {
   "display_name": "Python 3",
   "language": "python",
   "name": "python3"
  },
  "language_info": {
   "codemirror_mode": {
    "name": "ipython",
    "version": 3
   },
   "file_extension": ".py",
   "mimetype": "text/x-python",
   "name": "python",
   "nbconvert_exporter": "python",
   "pygments_lexer": "ipython3",
   "version": "3.8.5"
  },
  "latex_envs": {
   "LaTeX_envs_menu_present": true,
   "autoclose": false,
   "autocomplete": true,
   "bibliofile": "biblio.bib",
   "cite_by": "apalike",
   "current_citInitial": 1,
   "eqLabelWithNumbers": true,
   "eqNumInitial": 1,
   "hotkeys": {
    "equation": "Ctrl-E",
    "itemize": "Ctrl-I"
   },
   "labels_anchors": false,
   "latex_user_defs": false,
   "report_style_numbering": false,
   "user_envs_cfg": false
  },
  "varInspector": {
   "cols": {
    "lenName": 16,
    "lenType": 16,
    "lenVar": 40
   },
   "kernels_config": {
    "python": {
     "delete_cmd_postfix": "",
     "delete_cmd_prefix": "del ",
     "library": "var_list.py",
     "varRefreshCmd": "print(var_dic_list())"
    },
    "r": {
     "delete_cmd_postfix": ") ",
     "delete_cmd_prefix": "rm(",
     "library": "var_list.r",
     "varRefreshCmd": "cat(var_dic_list()) "
    }
   },
   "types_to_exclude": [
    "module",
    "function",
    "builtin_function_or_method",
    "instance",
    "_Feature"
   ],
   "window_display": false
  }
 },
 "nbformat": 4,
 "nbformat_minor": 2
}
