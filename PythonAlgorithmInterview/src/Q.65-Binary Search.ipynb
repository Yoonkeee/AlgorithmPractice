{
 "cells": [
  {
   "cell_type": "code",
   "execution_count": 1,
   "metadata": {
    "ExecuteTime": {
     "end_time": "2021-05-29T12:09:08.007163Z",
     "start_time": "2021-05-29T12:08:56.252892Z"
    },
    "scrolled": true
   },
   "outputs": [
    {
     "name": "stdout",
     "output_type": "stream",
     "text": [
      "Q.65-Binary Search.ipynb\n",
      "[Q.65 이진 검색](https://github.com/Yoonkeee/AlgorithmPractice/blob/master/PythonAlgorithmInterview/src/Q.65-Binary%20Search.ipynb) - \n",
      "# 이진 검색 | 난이도 🌟\n",
      "### 문제 출처 - 리트 코드 [704번 문제 Binary Search](https://leetcode.com/problems/binary-search)"
     ]
    }
   ],
   "source": [
    "from IPython.display import clear_output\n",
    "num = input('Q.?  : ')\n",
    "name = input('Problem Name : ')\n",
    "kor_name = input('문제 이름 : ')\n",
    "difficulty = int(input('난이도(별 갯수) : '))\n",
    "leet_num = input('Leetcode Problem Number')\n",
    "full = 'Q.'+num+'-'+name+'.ipynb'\n",
    "address = full.split('-')[1].split('.')[0].replace(' ', '-').lower()\n",
    "clear_output()\n",
    "File = full.split('-')[1].split('.')[0]\n",
    "print(full)\n",
    "print(f'[Q.{num} {kor_name}](https://github.com/Yoonkeee/AlgorithmPractice/blob/master/'+\n",
    "      f'PythonAlgorithmInterview/src/'+\n",
    "      f\"{full.replace(' ', '%20')}) - \")\n",
    "print(f\"# {kor_name} | 난이도 {'🌟'*difficulty}\")\n",
    "print(f'### 문제 출처 - 리트 코드 [{leet_num}번 문제 {File}](https://leetcode.com/problems/{address})', end='')"
   ]
  },
  {
   "cell_type": "markdown",
   "metadata": {},
   "source": [
    "# 이진 검색 | 난이도 🌟\n",
    "### 문제 출처 - 리트 코드 [704번 문제 Binary Search](https://leetcode.com/problems/binary-search)"
   ]
  },
  {
   "cell_type": "code",
   "execution_count": null,
   "metadata": {
    "ExecuteTime": {
     "end_time": "2021-01-23T15:11:08.481689Z",
     "start_time": "2021-01-23T15:11:08.347977Z"
    }
   },
   "outputs": [],
   "source": [
    "class Solution:\n",
    "    def search(self, nums: List[int], target: int) -> int:\n",
    "        \n",
    "        left, right = 0, len(nums)-1\n",
    "        \n",
    "        while left <= right:\n",
    "            idx = (left + right) // 2\n",
    "            \n",
    "            if nums[idx] < target:\n",
    "                left = idx + 1\n",
    "            elif nums[idx] > target:\n",
    "                right = idx - 1\n",
    "            else:\n",
    "                return idx\n",
    "        \n",
    "        return -1"
   ]
  },
  {
   "cell_type": "code",
   "execution_count": null,
   "metadata": {},
   "outputs": [],
   "source": [
    "class Solution:\n",
    "    def search(self, nums: List[int], target: int) -> int:\n",
    "        idx = bisect.bisect_left(nums, target)\n",
    "        if idx < len(nums) and nums[idx] == target:\n",
    "            return index\n",
    "        else:\n",
    "            return -1"
   ]
  },
  {
   "cell_type": "code",
   "execution_count": null,
   "metadata": {},
   "outputs": [],
   "source": [
    "class Solution:\n",
    "    def search(self, nums: List[int], target: int) -> int:\n",
    "        try:\n",
    "            return nums.index(target)\n",
    "        except Exception:\n",
    "            return -1"
   ]
  }
 ],
 "metadata": {
  "kernelspec": {
   "display_name": "Python 3",
   "language": "python",
   "name": "python3"
  },
  "language_info": {
   "codemirror_mode": {
    "name": "ipython",
    "version": 3
   },
   "file_extension": ".py",
   "mimetype": "text/x-python",
   "name": "python",
   "nbconvert_exporter": "python",
   "pygments_lexer": "ipython3",
   "version": "3.8.5"
  },
  "latex_envs": {
   "LaTeX_envs_menu_present": true,
   "autoclose": false,
   "autocomplete": true,
   "bibliofile": "biblio.bib",
   "cite_by": "apalike",
   "current_citInitial": 1,
   "eqLabelWithNumbers": true,
   "eqNumInitial": 1,
   "hotkeys": {
    "equation": "Ctrl-E",
    "itemize": "Ctrl-I"
   },
   "labels_anchors": false,
   "latex_user_defs": false,
   "report_style_numbering": false,
   "user_envs_cfg": false
  },
  "varInspector": {
   "cols": {
    "lenName": 16,
    "lenType": 16,
    "lenVar": 40
   },
   "kernels_config": {
    "python": {
     "delete_cmd_postfix": "",
     "delete_cmd_prefix": "del ",
     "library": "var_list.py",
     "varRefreshCmd": "print(var_dic_list())"
    },
    "r": {
     "delete_cmd_postfix": ") ",
     "delete_cmd_prefix": "rm(",
     "library": "var_list.r",
     "varRefreshCmd": "cat(var_dic_list()) "
    }
   },
   "types_to_exclude": [
    "module",
    "function",
    "builtin_function_or_method",
    "instance",
    "_Feature"
   ],
   "window_display": false
  }
 },
 "nbformat": 4,
 "nbformat_minor": 2
}
