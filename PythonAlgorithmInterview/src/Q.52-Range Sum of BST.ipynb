{
 "cells": [
  {
   "cell_type": "markdown",
   "metadata": {},
   "source": [
    "# 이진 탐색 트리(BST) 합의 범위 | 난이도 🌟\n",
    "### 문제 출처 - 리트 코드 [938번 문제 Range Sum of BST](https://leetcode.com/problems/range-sum-of-bst)"
   ]
  },
  {
   "cell_type": "markdown",
   "metadata": {},
   "source": [
    "## 내 풀이"
   ]
  },
  {
   "cell_type": "code",
   "execution_count": null,
   "metadata": {},
   "outputs": [],
   "source": [
    "class Solution:\n",
    "    sums = 0\n",
    "    def rangeSumBST(self, root: TreeNode, low: int, high: int) -> int:\n",
    "        # 책 풀이와 다른점, 숫자를 놓치는 이유\n",
    "        # 현재 node의 값이 range를 벗어났더라도 자식 node중에 range를 만족하는 값이 존재할 수 있음.\n",
    "        # 책 풀이 2와 같은 구조이나, non-promising 판단하는 조건이 틀렸음\n",
    "        if root:\n",
    "            if root.val >= low:  # range를 만족하지 못하면 그 아래는 배제하는 형태\n",
    "                self.rangeSumBST(root.right, low, high)\n",
    "#           if node.val > low:  # range를 만족하면 그 아래도 살펴보는 형태\n",
    "#               stack.append(node.left)\n",
    "            if root.val <= high:\n",
    "                self.rangeSumBST(root.left, low, high)\n",
    "            if root.val >= low and root.val <= high:\n",
    "                self.sums += root.val\n",
    "                \n",
    "        return self.sums"
   ]
  },
  {
   "cell_type": "markdown",
   "metadata": {},
   "source": [
    "## 책 풀이\n",
    "### 1. DFS 가지치기로 필요한 노드 탐색"
   ]
  },
  {
   "cell_type": "code",
   "execution_count": null,
   "metadata": {},
   "outputs": [],
   "source": [
    "class Solution:\n",
    "    def rangeSumBST(self, root: TreeNode, low: int, high: int) -> int:\n",
    "        def dfs(node):\n",
    "            if not node:\n",
    "                return 0\n",
    "\n",
    "            if node.val < low:  # if True then all left childs are non-promising values\n",
    "                return dfs(node.right)\n",
    "            elif node.val > high:  # if True then all right childs are non-promising values\n",
    "                return dfs(node.left)\n",
    "            return node.val + dfs(node.left) + dfs(node.right)\n",
    "        \n",
    "        return dfs(root)"
   ]
  },
  {
   "cell_type": "markdown",
   "metadata": {},
   "source": [
    "## 책 풀이\n",
    "### 2. 반복 구조 DFS로 필요한 노드 탐색"
   ]
  },
  {
   "cell_type": "code",
   "execution_count": null,
   "metadata": {},
   "outputs": [],
   "source": [
    "class Solution:\n",
    "    def rangeSumBST(self, root: TreeNode, low: int, high: int) -> int:\n",
    "        stack, sum = [root], 0\n",
    "        # 스택 이용 필요한 노드 DFS 반복\n",
    "        while stack:\n",
    "            node = stack.pop()\n",
    "            if node:\n",
    "                if node.val > low:\n",
    "                    stack.append(node.left)\n",
    "                if node.val < high:\n",
    "                    stack.append(node.right)\n",
    "                if low <= node.val <= high:\n",
    "                    sum += node.val\n",
    "        return sum"
   ]
  },
  {
   "cell_type": "markdown",
   "metadata": {},
   "source": [
    "## 책 풀이\n",
    "### 3. 반복 구조 **BFS**로 필요한 노드 탐색"
   ]
  },
  {
   "cell_type": "code",
   "execution_count": null,
   "metadata": {},
   "outputs": [],
   "source": [
    "class Solution:\n",
    "    def rangeSumBST(self, root: TreeNode, low: int, high: int) -> int:\n",
    "        stack, sum = [root], 0\n",
    "        # 스택 이용 필요한 노드 BFS 반복\n",
    "        while stack:\n",
    "            node = stack.pop(0)\n",
    "            if node:\n",
    "                if node.val > low:\n",
    "                    stack.append(node.left)\n",
    "                if node.val < high:\n",
    "                    stack.append(node.right)\n",
    "                if low <= node.val <= high:\n",
    "                    sum += node.val\n",
    "        return sum"
   ]
  }
 ],
 "metadata": {
  "kernelspec": {
   "display_name": "Python 3",
   "language": "python",
   "name": "python3"
  },
  "language_info": {
   "codemirror_mode": {
    "name": "ipython",
    "version": 3
   },
   "file_extension": ".py",
   "mimetype": "text/x-python",
   "name": "python",
   "nbconvert_exporter": "python",
   "pygments_lexer": "ipython3",
   "version": "3.8.5"
  },
  "latex_envs": {
   "LaTeX_envs_menu_present": true,
   "autoclose": false,
   "autocomplete": true,
   "bibliofile": "biblio.bib",
   "cite_by": "apalike",
   "current_citInitial": 1,
   "eqLabelWithNumbers": true,
   "eqNumInitial": 1,
   "hotkeys": {
    "equation": "Ctrl-E",
    "itemize": "Ctrl-I"
   },
   "labels_anchors": false,
   "latex_user_defs": false,
   "report_style_numbering": false,
   "user_envs_cfg": false
  },
  "varInspector": {
   "cols": {
    "lenName": 16,
    "lenType": 16,
    "lenVar": 40
   },
   "kernels_config": {
    "python": {
     "delete_cmd_postfix": "",
     "delete_cmd_prefix": "del ",
     "library": "var_list.py",
     "varRefreshCmd": "print(var_dic_list())"
    },
    "r": {
     "delete_cmd_postfix": ") ",
     "delete_cmd_prefix": "rm(",
     "library": "var_list.r",
     "varRefreshCmd": "cat(var_dic_list()) "
    }
   },
   "types_to_exclude": [
    "module",
    "function",
    "builtin_function_or_method",
    "instance",
    "_Feature"
   ],
   "window_display": false
  }
 },
 "nbformat": 4,
 "nbformat_minor": 2
}
