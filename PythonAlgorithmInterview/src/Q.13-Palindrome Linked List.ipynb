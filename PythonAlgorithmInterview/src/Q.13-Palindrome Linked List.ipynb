{
 "cells": [
  {
   "cell_type": "markdown",
   "metadata": {},
   "source": [
    "# 팰린드롬 연결 리스트 | 난이도 🌟\n",
    "### 문제 출처 - 리트 코드 [234번 문제 Palindrome Linked List](https://leetcode.com/problems/palindrome-linked-list)"
   ]
  },
  {
   "cell_type": "code",
   "execution_count": 51,
   "metadata": {
    "ExecuteTime": {
     "end_time": "2021-01-25T17:41:25.814836Z",
     "start_time": "2021-01-25T17:41:25.805403Z"
    }
   },
   "outputs": [
    {
     "name": "stdout",
     "output_type": "stream",
     "text": [
      "1\n",
      "2\n",
      "1\n",
      "2\n",
      "2\n",
      "1\n"
     ]
    }
   ],
   "source": [
    "from typing import *\n",
    "# Definition for singly-linked list.\n",
    "class ListNode:\n",
    "    def __init__(self, val=0, next=None):\n",
    "        self.val = val\n",
    "        self.next = next\n",
    "        \n",
    "input_data = [[1, 2], [1,2,2,1]]\n",
    "head = ListNode(1)\n",
    "head.next = ListNode(2)\n",
    "head1 = head\n",
    "\n",
    "head = ListNode(1)\n",
    "head.next = ListNode(2)\n",
    "head.next.next = ListNode(2)\n",
    "head.next.next.next = ListNode(1)\n",
    "head2 = head\n",
    "    \n",
    "node1, node2 = head1, head2\n",
    "while node1 != None:\n",
    "    print(node1.val)\n",
    "    node1 = node1.next\n",
    "while node2 != None:\n",
    "    print(node2.val)\n",
    "    node2 = node2.next\n",
    "input_data = [head1, head2]\n",
    "output_data = [False, True]\n"
   ]
  },
  {
   "cell_type": "code",
   "execution_count": null,
   "metadata": {
    "ExecuteTime": {
     "end_time": "2021-01-23T15:11:08.481689Z",
     "start_time": "2021-01-23T15:11:08.347977Z"
    }
   },
   "outputs": [],
   "source": [
    "from typing import *\n",
    "# Definition for singly-linked list.\n",
    "class ListNode:\n",
    "    def __init__(self, val=0, next=None):\n",
    "        self.val = val\n",
    "        self.next = next\n",
    "        \n",
    "class Solution():\n",
    "    def func(self, input_data):\n",
    "        somevar = input_data\n",
    "\n",
    "        \n",
    "input_data = [head1, head2]\n",
    "output_data = [False, True]\n",
    "sol = Solution()\n",
    "for i in range(len(input_data)):\n",
    "    print('---'*25)\n",
    "    print('input  : ', input_data[i])\n",
    "    print('output : ', output_data[i])\n",
    "    print('result : ', sol.func(input_data[i]))"
   ]
  },
  {
   "cell_type": "code",
   "execution_count": 27,
   "metadata": {
    "ExecuteTime": {
     "end_time": "2021-01-25T17:09:33.752656Z",
     "start_time": "2021-01-25T17:09:33.744648Z"
    }
   },
   "outputs": [
    {
     "name": "stdout",
     "output_type": "stream",
     "text": [
      "<__main__.ListNode object at 0x7f83bbe71f98> <__main__.ListNode object at 0x7f83bbe71f98>\n",
      "1\n",
      "2\n",
      "2\n",
      "1\n"
     ]
    }
   ],
   "source": [
    "# Definition for singly-linked list.\n",
    "class ListNode:\n",
    "    def __init__(self, val=0, next=None):\n",
    "        self.val = val\n",
    "        self.next = next\n",
    "class Solution:\n",
    "    def isPalindrome(self, head: ListNode) -> bool:\n",
    "        pass\n",
    "\n",
    "head = ListNode(1)\n",
    "\n",
    "next_node = ListNode(2)\n",
    "next_node.next = head\n",
    "head = next_node\n",
    "\n",
    "next_node = ListNode(2)\n",
    "next_node.next = head\n",
    "head = next_node\n",
    "\n",
    "next_node = ListNode(1)\n",
    "next_node.next = head\n",
    "head = next_node\n",
    "\n",
    "node = head\n",
    "while node != None:\n",
    "    print(node.val)\n",
    "    node = node.next"
   ]
  }
 ],
 "metadata": {
  "kernelspec": {
   "display_name": "Python 3",
   "language": "python",
   "name": "python3"
  },
  "language_info": {
   "codemirror_mode": {
    "name": "ipython",
    "version": 3
   },
   "file_extension": ".py",
   "mimetype": "text/x-python",
   "name": "python",
   "nbconvert_exporter": "python",
   "pygments_lexer": "ipython3",
   "version": "3.7.2"
  },
  "latex_envs": {
   "LaTeX_envs_menu_present": true,
   "autoclose": false,
   "autocomplete": true,
   "bibliofile": "biblio.bib",
   "cite_by": "apalike",
   "current_citInitial": 1,
   "eqLabelWithNumbers": true,
   "eqNumInitial": 1,
   "hotkeys": {
    "equation": "Ctrl-E",
    "itemize": "Ctrl-I"
   },
   "labels_anchors": false,
   "latex_user_defs": false,
   "report_style_numbering": false,
   "user_envs_cfg": false
  },
  "varInspector": {
   "cols": {
    "lenName": 16,
    "lenType": 16,
    "lenVar": 40
   },
   "kernels_config": {
    "python": {
     "delete_cmd_postfix": "",
     "delete_cmd_prefix": "del ",
     "library": "var_list.py",
     "varRefreshCmd": "print(var_dic_list())"
    },
    "r": {
     "delete_cmd_postfix": ") ",
     "delete_cmd_prefix": "rm(",
     "library": "var_list.r",
     "varRefreshCmd": "cat(var_dic_list()) "
    }
   },
   "types_to_exclude": [
    "module",
    "function",
    "builtin_function_or_method",
    "instance",
    "_Feature"
   ],
   "window_display": false
  }
 },
 "nbformat": 4,
 "nbformat_minor": 2
}
