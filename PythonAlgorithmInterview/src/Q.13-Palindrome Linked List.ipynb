{
 "cells": [
  {
   "cell_type": "markdown",
   "metadata": {},
   "source": [
    "# 팰린드롬 연결 리스트 | 난이도 🌟\n",
    "### 문제 출처 - 리트 코드 [234번 문제 Palindrome Linked List](https://leetcode.com/problems/palindrome-linked-list)"
   ]
  },
  {
   "cell_type": "markdown",
   "metadata": {},
   "source": [
    "# Input Data in Linked List"
   ]
  },
  {
   "cell_type": "code",
   "execution_count": 88,
   "metadata": {
    "ExecuteTime": {
     "end_time": "2021-01-27T17:17:02.052290Z",
     "start_time": "2021-01-27T17:17:02.044094Z"
    }
   },
   "outputs": [],
   "source": [
    "from typing import *\n",
    "# Definition for singly-linked list.\n",
    "class ListNode:\n",
    "    def __init__(self, val=0, next=None):\n",
    "        self.val = val\n",
    "        self.next = next\n",
    "        \n",
    "input_data = [[1, 2], [1,2,2,1]]\n",
    "heads:List[ListNode] = []\n",
    "\n",
    "for i in range(len(input_data)):\n",
    "    if len(input_data) >= 1:\n",
    "        head = ListNode(input_data[i][-1])\n",
    "        for n in range(-2, -len(input_data[i])-1, -1):\n",
    "            node = head\n",
    "            head = ListNode(input_data[i][n])\n",
    "            head.next = node\n",
    "        heads.append(head)\n",
    "    else:\n",
    "        heads.append([])\n",
    "\n",
    "# for head in heads:  # print vals\n",
    "#     node = head\n",
    "#     while node != None:\n",
    "#         print(node.val)\n",
    "#         node = node.next\n",
    "output_data = [False, True]"
   ]
  },
  {
   "cell_type": "markdown",
   "metadata": {},
   "source": [
    "# Using Deque"
   ]
  },
  {
   "cell_type": "code",
   "execution_count": 58,
   "metadata": {
    "ExecuteTime": {
     "end_time": "2021-01-27T17:05:52.365811Z",
     "start_time": "2021-01-27T17:05:52.357717Z"
    }
   },
   "outputs": [
    {
     "name": "stdout",
     "output_type": "stream",
     "text": [
      "---------------------------------------------------------------------------\n",
      "input  :  [1, 2]\n",
      "output :  False\n",
      "result :  False\n",
      "---------------------------------------------------------------------------\n",
      "input  :  [1, 2, 2, 1]\n",
      "output :  True\n",
      "result :  False\n"
     ]
    }
   ],
   "source": [
    "from typing import *\n",
    "import collections\n",
    "class Solution():\n",
    "    def func(self, input_data):\n",
    "        head: ListNode = input_data\n",
    "        node = head\n",
    "        q: Deque = collections.deque()\n",
    "            \n",
    "        while node != None:\n",
    "            q.append(node.val)\n",
    "            node = node.next\n",
    "        while len(q) > 1:\n",
    "            if q.popleft() != q.pop():\n",
    "                return False\n",
    "        return True\n",
    "        \n",
    "        \n",
    "input_data = [[1, 2], [1,2,2,1]]\n",
    "output_data = [False, True]\n",
    "sol = Solution()\n",
    "for i in range(len(input_data)):\n",
    "    print('---'*25)\n",
    "    print('input  : ', input_data[i])\n",
    "    print('output : ', output_data[i])\n",
    "    print('result : ', sol.func(heads[i]))"
   ]
  },
  {
   "cell_type": "code",
   "execution_count": 89,
   "metadata": {
    "ExecuteTime": {
     "end_time": "2021-01-27T17:17:03.920383Z",
     "start_time": "2021-01-27T17:17:03.907446Z"
    }
   },
   "outputs": [
    {
     "name": "stdout",
     "output_type": "stream",
     "text": [
      "140301478520032 140301478671528\n",
      "---------------------------------------------------------------------------\n",
      "140301478670912\n",
      "input  :  [1, 2]\n",
      "output :  False\n",
      "1 1 1\n",
      "<__main__.ListNode object at 0x7f9a7bcc3240> <__main__.ListNode object at 0x7f9a7bcc3240> <__main__.ListNode object at 0x7f9a7bcc3240>\n",
      "result :  False\n",
      "4315349096\n",
      "---------------------------------------------------------------------------\n",
      "140301478672928\n",
      "input  :  [1, 2, 2, 1]\n",
      "output :  True\n",
      "1 1 1\n",
      "<__main__.ListNode object at 0x7f9a7bcc3a20> <__main__.ListNode object at 0x7f9a7bcc3a20> <__main__.ListNode object at 0x7f9a7bcc3a20>\n",
      "result :  True\n",
      "4315349096\n",
      "140301478520032 140301478671528\n"
     ]
    }
   ],
   "source": [
    "from typing import *\n",
    "import collections\n",
    "class Solution():\n",
    "    def func(self, input_data):\n",
    "        head: ListNode = input_data\n",
    "        rev = None\n",
    "        slow = fast = head\n",
    "        print(head.val, fast.val, slow.val)\n",
    "        print(head.next, fast.next, slow.next)\n",
    "        while fast and fast.next:\n",
    "            fast = fast.next.next\n",
    "            rev, rev.next, slow = slow, rev, slow.next\n",
    "        if fast:\n",
    "            slow = slow.next\n",
    "            \n",
    "        while rev and rev.val == slow.val:\n",
    "            slow, rev = slow.next, rev.next\n",
    "        return not rev\n",
    "        \n",
    "input_data = [[1, 2], [1,2,2,1]]\n",
    "output_data = [False, True]\n",
    "sol = Solution()\n",
    "\n",
    "# for head in heads:  # print vals\n",
    "#     node = head\n",
    "#     while node != None:\n",
    "#         print(node.val)\n",
    "#         node = node.next\n",
    "print(id(heads[0]), id(heads[1]))\n",
    "for i in range(len(input_data)):\n",
    "    print('---'*25)\n",
    "    head = heads[i]\n",
    "    print(id(head.next))\n",
    "    print('input  : ', input_data[i])\n",
    "    print('output : ', output_data[i])\n",
    "    print('result : ', sol.func(head))\n",
    "    print(id(head.next))\n",
    "print(id(heads[0]), id(heads[1]))"
   ]
  }
 ],
 "metadata": {
  "kernelspec": {
   "display_name": "Python 3",
   "language": "python",
   "name": "python3"
  },
  "language_info": {
   "codemirror_mode": {
    "name": "ipython",
    "version": 3
   },
   "file_extension": ".py",
   "mimetype": "text/x-python",
   "name": "python",
   "nbconvert_exporter": "python",
   "pygments_lexer": "ipython3",
   "version": "3.7.2"
  },
  "latex_envs": {
   "LaTeX_envs_menu_present": true,
   "autoclose": false,
   "autocomplete": true,
   "bibliofile": "biblio.bib",
   "cite_by": "apalike",
   "current_citInitial": 1,
   "eqLabelWithNumbers": true,
   "eqNumInitial": 1,
   "hotkeys": {
    "equation": "Ctrl-E",
    "itemize": "Ctrl-I"
   },
   "labels_anchors": false,
   "latex_user_defs": false,
   "report_style_numbering": false,
   "user_envs_cfg": false
  },
  "varInspector": {
   "cols": {
    "lenName": 16,
    "lenType": 16,
    "lenVar": 40
   },
   "kernels_config": {
    "python": {
     "delete_cmd_postfix": "",
     "delete_cmd_prefix": "del ",
     "library": "var_list.py",
     "varRefreshCmd": "print(var_dic_list())"
    },
    "r": {
     "delete_cmd_postfix": ") ",
     "delete_cmd_prefix": "rm(",
     "library": "var_list.r",
     "varRefreshCmd": "cat(var_dic_list()) "
    }
   },
   "types_to_exclude": [
    "module",
    "function",
    "builtin_function_or_method",
    "instance",
    "_Feature"
   ],
   "window_display": false
  }
 },
 "nbformat": 4,
 "nbformat_minor": 2
}
