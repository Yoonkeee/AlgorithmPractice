{
 "cells": [
  {
   "cell_type": "markdown",
   "metadata": {},
   "source": [
    "# 키에 따른 대기열 재구성 | 난이도 🌟🌟\n",
    "### 문제 출처 - 리트 코드 [406번 문제 Queue Reconstruction by Height](https://leetcode.com/problems/queue-reconstruction-by-height)\n"
   ]
  },
  {
   "cell_type": "code",
   "execution_count": 12,
   "metadata": {
    "ExecuteTime": {
     "end_time": "2021-05-06T11:17:01.951897Z",
     "start_time": "2021-05-06T11:17:01.939001Z"
    }
   },
   "outputs": [
    {
     "name": "stdout",
     "output_type": "stream",
     "text": [
      "---------------------------------------------------------------------------\n",
      "input  :  [[7, 0], [4, 4], [7, 1], [5, 0], [6, 1], [5, 2]]\n",
      "expect :  [[5, 0], [7, 0], [5, 2], [6, 1], [4, 4], [7, 1]]\n",
      "result :  [[5, 0], [7, 0], [5, 2], [6, 1], [4, 4], [7, 1]]\n"
     ]
    }
   ],
   "source": [
    "from typing import *\n",
    "import collections\n",
    "import itertools\n",
    "import operator\n",
    "class Solution():\n",
    "    def func(self, input_data):\n",
    "        people = sorted(input_data, key=operator.itemgetter(1))\n",
    "        answer = []\n",
    "        answer.append(people.pop(0))\n",
    "        for h,k in people:\n",
    "            i, count = 0, 0\n",
    "            while i <= len(answer):\n",
    "                if count < k:\n",
    "                    if answer[i][0] >= h:\n",
    "                        count += 1\n",
    "                    i += 1\n",
    "                else:\n",
    "                    break\n",
    "            answer.insert(i, [h,k])\n",
    "        return answer\n",
    "            \n",
    "\n",
    "input_data = [[[7,0], [4,4], [7,1], [5,0], [6,1], [5,2]]]\n",
    "output_data = [[[5,0], [7,0], [5,2], [6,1], [4,4], [7,1]]]\n",
    "sol = Solution()\n",
    "for i in range(len(input_data)):\n",
    "    print('---'*25)\n",
    "    print('input  : ', input_data[i])\n",
    "    print('expect : ', output_data[i])\n",
    "    print('result : ', sol.func(input_data[i]))"
   ]
  }
 ],
 "metadata": {
  "kernelspec": {
   "display_name": "Python 3",
   "language": "python",
   "name": "python3"
  },
  "language_info": {
   "codemirror_mode": {
    "name": "ipython",
    "version": 3
   },
   "file_extension": ".py",
   "mimetype": "text/x-python",
   "name": "python",
   "nbconvert_exporter": "python",
   "pygments_lexer": "ipython3",
   "version": "3.8.5"
  },
  "latex_envs": {
   "LaTeX_envs_menu_present": true,
   "autoclose": false,
   "autocomplete": true,
   "bibliofile": "biblio.bib",
   "cite_by": "apalike",
   "current_citInitial": 1,
   "eqLabelWithNumbers": true,
   "eqNumInitial": 1,
   "hotkeys": {
    "equation": "Ctrl-E",
    "itemize": "Ctrl-I"
   },
   "labels_anchors": false,
   "latex_user_defs": false,
   "report_style_numbering": false,
   "user_envs_cfg": false
  },
  "varInspector": {
   "cols": {
    "lenName": 16,
    "lenType": 16,
    "lenVar": 40
   },
   "kernels_config": {
    "python": {
     "delete_cmd_postfix": "",
     "delete_cmd_prefix": "del ",
     "library": "var_list.py",
     "varRefreshCmd": "print(var_dic_list())"
    },
    "r": {
     "delete_cmd_postfix": ") ",
     "delete_cmd_prefix": "rm(",
     "library": "var_list.r",
     "varRefreshCmd": "cat(var_dic_list()) "
    }
   },
   "types_to_exclude": [
    "module",
    "function",
    "builtin_function_or_method",
    "instance",
    "_Feature"
   ],
   "window_display": false
  }
 },
 "nbformat": 4,
 "nbformat_minor": 2
}
