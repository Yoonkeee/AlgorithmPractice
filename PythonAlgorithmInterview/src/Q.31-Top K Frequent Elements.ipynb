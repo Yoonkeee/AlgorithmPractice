{
 "cells": [
  {
   "cell_type": "markdown",
   "metadata": {},
   "source": [
    "# 상위 K 빈도 요소 | 난이도 🌟🌟\n",
    "### 문제 출처 - 리트 코드 [347번 문제 Top K Frequent Elements](https://leetcode.com/problems/top-k-frequent-elements)"
   ]
  },
  {
   "cell_type": "markdown",
   "metadata": {},
   "source": [
    "## Counter, dict.items(), list comprehension"
   ]
  },
  {
   "cell_type": "code",
   "execution_count": 16,
   "metadata": {
    "ExecuteTime": {
     "end_time": "2021-02-24T17:08:54.682185Z",
     "start_time": "2021-02-24T17:08:54.671372Z"
    }
   },
   "outputs": [
    {
     "name": "stdout",
     "output_type": "stream",
     "text": [
      "---------------------------------------------------------------------------\n",
      "input  :  [1, 1, 1, 2, 2, 3, 2]\n",
      "output :  [1, 2]\n",
      "result :  [1, 2]\n",
      "---------------------------------------------------------------------------\n",
      "input  :  [1, 2, 2]\n",
      "output :  [1, 2]\n",
      "result :  [1, 2]\n"
     ]
    }
   ],
   "source": [
    "from typing import *\n",
    "import collections\n",
    "import heapq\n",
    "class Solution():\n",
    "    def func(self, input_data):\n",
    "        nums = input_data[:len(input_data)-1]\n",
    "        k = input_data[-1]\n",
    "        nums = collections.Counter(nums)\n",
    "        rst = [x for x, y in sorted([[n, m] for n, m in nums.items()], key = lambda x:(x[1]), reverse=True)[:k]]\n",
    "        return rst\n",
    "    \n",
    "\n",
    "input_data = [[1,1,1,2,2,3,2], [1,2,2]]\n",
    "output_data = [[1,2], [1,2]]\n",
    "sol = Solution()\n",
    "for i in range(len(input_data)):\n",
    "    print('---'*25)\n",
    "    print('input  : ', input_data[i])\n",
    "    print('output : ', output_data[i])\n",
    "    print('result : ', sol.func(input_data[i]))"
   ]
  },
  {
   "cell_type": "markdown",
   "metadata": {},
   "source": [
    "## Counter를 이용한 음수 순 차출(heapq)"
   ]
  },
  {
   "cell_type": "code",
   "execution_count": 2,
   "metadata": {
    "ExecuteTime": {
     "end_time": "2021-02-19T14:38:00.727999Z",
     "start_time": "2021-02-19T14:38:00.718390Z"
    }
   },
   "outputs": [
    {
     "name": "stdout",
     "output_type": "stream",
     "text": [
      "---------------------------------------------------------------------------\n",
      "input  :  [1, 1, 1, 2, 2, 3, 2]\n",
      "output :  [1, 2]\n",
      "result :  [1, 2]\n"
     ]
    }
   ],
   "source": [
    "from typing import *\n",
    "import collections\n",
    "import heapq\n",
    "class Solution():\n",
    "    def func(self, input_data):\n",
    "        nums = input_data[:len(input_data)-1]\n",
    "        k = input_data[-1]\n",
    "        freqs = collections.Counter(nums)\n",
    "        freqs_heap = []\n",
    "        \n",
    "        for f in freqs:\n",
    "            heapq.heappush(freqs_heap, (-freqs[f], f))\n",
    "        \n",
    "        topk = list()\n",
    "        for _ in range(k):\n",
    "            topk.append(heapq.heappop(freqs_heap)[1])\n",
    "        return topk\n",
    "    \n",
    "\n",
    "input_data = [[1,1,1,2,2,3,2]]\n",
    "output_data = [[1,2]]\n",
    "sol = Solution()\n",
    "for i in range(len(input_data)):\n",
    "    print('---'*25)\n",
    "    print('input  : ', input_data[i])\n",
    "    print('output : ', output_data[i])\n",
    "    print('result : ', sol.func(input_data[i]))"
   ]
  },
  {
   "cell_type": "markdown",
   "metadata": {},
   "source": [
    "## Pythonic Way"
   ]
  },
  {
   "cell_type": "code",
   "execution_count": 3,
   "metadata": {
    "ExecuteTime": {
     "end_time": "2021-02-19T14:39:40.420259Z",
     "start_time": "2021-02-19T14:39:40.412596Z"
    }
   },
   "outputs": [
    {
     "name": "stdout",
     "output_type": "stream",
     "text": [
      "---------------------------------------------------------------------------\n",
      "input  :  [1, 1, 1, 2, 2, 3, 2]\n",
      "output :  [1, 2]\n",
      "result :  (1, 2)\n"
     ]
    }
   ],
   "source": [
    "from typing import *\n",
    "import collections\n",
    "import heapq\n",
    "class Solution():\n",
    "    def func(self, input_data):\n",
    "        nums = input_data[:len(input_data)-1]\n",
    "        k = input_data[-1]\n",
    "        return list(zip(*collections.Counter(nums).most_common(k)))[0]\n",
    "\n",
    "\n",
    "input_data = [[1,1,1,2,2,3,2]]\n",
    "output_data = [[1,2]]\n",
    "sol = Solution()\n",
    "for i in range(len(input_data)):\n",
    "    print('---'*25)\n",
    "    print('input  : ', input_data[i])\n",
    "    print('output : ', output_data[i])\n",
    "    print('result : ', sol.func(input_data[i]))"
   ]
  }
 ],
 "metadata": {
  "kernelspec": {
   "display_name": "Python 3",
   "language": "python",
   "name": "python3"
  },
  "language_info": {
   "codemirror_mode": {
    "name": "ipython",
    "version": 3
   },
   "file_extension": ".py",
   "mimetype": "text/x-python",
   "name": "python",
   "nbconvert_exporter": "python",
   "pygments_lexer": "ipython3",
   "version": "3.7.2"
  },
  "latex_envs": {
   "LaTeX_envs_menu_present": true,
   "autoclose": false,
   "autocomplete": true,
   "bibliofile": "biblio.bib",
   "cite_by": "apalike",
   "current_citInitial": 1,
   "eqLabelWithNumbers": true,
   "eqNumInitial": 1,
   "hotkeys": {
    "equation": "Ctrl-E",
    "itemize": "Ctrl-I"
   },
   "labels_anchors": false,
   "latex_user_defs": false,
   "report_style_numbering": false,
   "user_envs_cfg": false
  },
  "varInspector": {
   "cols": {
    "lenName": 16,
    "lenType": 16,
    "lenVar": 40
   },
   "kernels_config": {
    "python": {
     "delete_cmd_postfix": "",
     "delete_cmd_prefix": "del ",
     "library": "var_list.py",
     "varRefreshCmd": "print(var_dic_list())"
    },
    "r": {
     "delete_cmd_postfix": ") ",
     "delete_cmd_prefix": "rm(",
     "library": "var_list.r",
     "varRefreshCmd": "cat(var_dic_list()) "
    }
   },
   "types_to_exclude": [
    "module",
    "function",
    "builtin_function_or_method",
    "instance",
    "_Feature"
   ],
   "window_display": false
  }
 },
 "nbformat": 4,
 "nbformat_minor": 2
}
