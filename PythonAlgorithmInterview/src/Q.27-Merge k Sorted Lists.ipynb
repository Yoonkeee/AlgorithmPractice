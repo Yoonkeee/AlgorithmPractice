{
 "cells": [
  {
   "cell_type": "markdown",
   "metadata": {},
   "source": [
    "# k개 정렬 리스트 병합 | 난이도 🌟\n",
    "### 문제 출처 - 리트 코드 [23번 문제 Merge k Sorted Lists](https://leetcode.com/problems/merge-k-sorted-lists)"
   ]
  },
  {
   "cell_type": "code",
   "execution_count": null,
   "metadata": {
    "ExecuteTime": {
     "end_time": "2021-01-23T15:11:08.481689Z",
     "start_time": "2021-01-23T15:11:08.347977Z"
    },
    "code_folding": [
     2,
     10,
     30,
     33,
     40
    ]
   },
   "outputs": [],
   "source": [
    "from typing import *\n",
    "# Definition for singly-linked list.\n",
    "class ListNode:\n",
    "    def __init__(self, val=0, next=None):\n",
    "        self.val = val\n",
    "        self.next = next\n",
    "        \n",
    "input_data = [[1,2,3]]\n",
    "heads:List[ListNode] = []\n",
    "\n",
    "for i in range(len(input_data)):\n",
    "    if len(input_data[i]) >= 1:\n",
    "        head = ListNode(input_data[i][-1])\n",
    "        for n in range(-2, -len(input_data[i])-1, -1):\n",
    "            node = head\n",
    "            head = ListNode(input_data[i][n])\n",
    "            head.next = node\n",
    "        heads.append(head)\n",
    "    else:\n",
    "        heads.append([])\n",
    "\n",
    "class Solution():\n",
    "    def func(self, lists: list[ListNode]) -> ListNode:\n",
    "        pass\n",
    "        \n",
    "        \n",
    "# Input: lists = [[1,4,5],[1,3,4],[2,6]]\n",
    "# Output: [1,1,2,3,4,4,5,6]\n",
    "# Explanation: The linked-lists are:\n",
    "# [\n",
    "#   1->4->5,\n",
    "#   1->3->4,\n",
    "#   2->6\n",
    "# ]\n",
    "# merging them into one sorted list:\n",
    "# 1->1->2->3->4->4->5->6\n",
    "# Example 2:\n",
    "\n",
    "# Input: lists = []\n",
    "# Output: []\n",
    "# Example 3:\n",
    "\n",
    "# Input: lists = [[]]\n",
    "# Output: []\n",
    "        \n",
    "output_data = [[1,2,3]]\n",
    "sol = Solution()\n",
    "output_heads, output = [], []\n",
    "\n",
    "for i in range(len(input_data)):\n",
    "    output_heads.append(sol.func(heads[i]))\n",
    "    \n",
    "for node in output_heads:\n",
    "    n = []\n",
    "    while node != None:\n",
    "        n.append(node.val)\n",
    "        node = node.next\n",
    "    output.append(n)\n",
    "    \n",
    "for i in range(len(input_data)):\n",
    "    print('---'*25)\n",
    "    print('input  : ', input_data[i])\n",
    "    print('output : ', output_data[i])\n",
    "    print('result : ', output[i])"
   ]
  }
 ],
 "metadata": {
  "kernelspec": {
   "display_name": "Python 3",
   "language": "python",
   "name": "python3"
  },
  "language_info": {
   "codemirror_mode": {
    "name": "ipython",
    "version": 3
   },
   "file_extension": ".py",
   "mimetype": "text/x-python",
   "name": "python",
   "nbconvert_exporter": "python",
   "pygments_lexer": "ipython3",
   "version": "3.7.2"
  },
  "latex_envs": {
   "LaTeX_envs_menu_present": true,
   "autoclose": false,
   "autocomplete": true,
   "bibliofile": "biblio.bib",
   "cite_by": "apalike",
   "current_citInitial": 1,
   "eqLabelWithNumbers": true,
   "eqNumInitial": 1,
   "hotkeys": {
    "equation": "Ctrl-E",
    "itemize": "Ctrl-I"
   },
   "labels_anchors": false,
   "latex_user_defs": false,
   "report_style_numbering": false,
   "user_envs_cfg": false
  },
  "varInspector": {
   "cols": {
    "lenName": 16,
    "lenType": 16,
    "lenVar": 40
   },
   "kernels_config": {
    "python": {
     "delete_cmd_postfix": "",
     "delete_cmd_prefix": "del ",
     "library": "var_list.py",
     "varRefreshCmd": "print(var_dic_list())"
    },
    "r": {
     "delete_cmd_postfix": ") ",
     "delete_cmd_prefix": "rm(",
     "library": "var_list.r",
     "varRefreshCmd": "cat(var_dic_list()) "
    }
   },
   "types_to_exclude": [
    "module",
    "function",
    "builtin_function_or_method",
    "instance",
    "_Feature"
   ],
   "window_display": false
  }
 },
 "nbformat": 4,
 "nbformat_minor": 2
}
