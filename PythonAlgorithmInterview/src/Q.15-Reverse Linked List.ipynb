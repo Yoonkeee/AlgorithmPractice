{
 "cells": [
  {
   "cell_type": "markdown",
   "metadata": {},
   "source": [
    "# 역순 연결 리스트 | 난이도 🌟\n",
    "### 문제 출처 - 리트 코드 [206번 문제 Reverse Linked List](https://leetcode.com/problems/reverse-linked-list)"
   ]
  },
  {
   "cell_type": "markdown",
   "metadata": {},
   "source": [
    "# 1. Solved by List"
   ]
  },
  {
   "cell_type": "code",
   "execution_count": 138,
   "metadata": {
    "ExecuteTime": {
     "end_time": "2021-01-28T15:39:00.817766Z",
     "start_time": "2021-01-28T15:39:00.802011Z"
    }
   },
   "outputs": [
    {
     "name": "stdout",
     "output_type": "stream",
     "text": [
      "---------------------------------------------------------------------------\n",
      "input  :  [1, 2, 3, 4, 5]\n",
      "output :  [5, 4, 3, 2, 1]\n",
      "result :  [5, 4, 3, 2, 1]\n"
     ]
    }
   ],
   "source": [
    "from typing import *\n",
    "# Definition for singly-linked list.\n",
    "class ListNode:\n",
    "    def __init__(self, val=0, next=None):\n",
    "        self.val = val\n",
    "        self.next = next\n",
    "        \n",
    "input_data = [[1,2,3,4,5]]\n",
    "heads:List[ListNode] = []\n",
    "\n",
    "for i in range(len(input_data)):\n",
    "    if len(input_data) >= 1:\n",
    "        head = ListNode(input_data[i][-1])\n",
    "        for n in range(-2, -len(input_data[i])-1, -1):\n",
    "            node = head\n",
    "            head = ListNode(input_data[i][n])\n",
    "            head.next = node\n",
    "        heads.append(head)\n",
    "    else:\n",
    "        heads.append([])\n",
    "        \n",
    "\n",
    "class Solution():\n",
    "    def func(self, head):\n",
    "        nums = []\n",
    "        while head:\n",
    "            nums.append(head.val)\n",
    "            head = head.next\n",
    "        return self.loop(nums)\n",
    "\n",
    "    def loop(self, nums):\n",
    "        if nums == []:\n",
    "            return None\n",
    "        else:\n",
    "            node = ListNode(nums.pop())\n",
    "            node.next = self.loop(nums)\n",
    "            return node\n",
    "    \n",
    "\n",
    "input_data = [[1,2,3,4,5]]\n",
    "output_data = [[5,4,3,2,1]]\n",
    "sol = Solution()\n",
    "#     print('result : ', sol.func(heads[0], heads[1]))\n",
    "    \n",
    "# for head in sol.func(heads[0], heads[1]):  # print vals\n",
    "node = sol.func(heads[0])\n",
    "output = []\n",
    "while node != None:\n",
    "    output.append(node.val)\n",
    "    node = node.next\n",
    "    \n",
    "for i in range(len(input_data)):\n",
    "    print('---'*25)\n",
    "    print('input  : ', input_data[i])\n",
    "    print('output : ', output_data[i])\n",
    "    print('result : ', output)"
   ]
  },
  {
   "cell_type": "markdown",
   "metadata": {},
   "source": [
    "# 2. Solved by Recursion"
   ]
  },
  {
   "cell_type": "code",
   "execution_count": 139,
   "metadata": {
    "ExecuteTime": {
     "end_time": "2021-01-28T15:47:17.883966Z",
     "start_time": "2021-01-28T15:47:17.870619Z"
    },
    "scrolled": true
   },
   "outputs": [
    {
     "name": "stdout",
     "output_type": "stream",
     "text": [
      "---------------------------------------------------------------------------\n",
      "input  :  [1, 2, 3, 4, 5]\n",
      "output :  [5, 4, 3, 2, 1]\n",
      "result :  [5, 4, 3, 2, 1]\n"
     ]
    }
   ],
   "source": [
    "from typing import *\n",
    "# Definition for singly-linked list.\n",
    "class ListNode:\n",
    "    def __init__(self, val=0, next=None):\n",
    "        self.val = val\n",
    "        self.next = next\n",
    "        \n",
    "input_data = [[1,2,3,4,5]]\n",
    "heads:List[ListNode] = []\n",
    "\n",
    "for i in range(len(input_data)):\n",
    "    if len(input_data) >= 1:\n",
    "        head = ListNode(input_data[i][-1])\n",
    "        for n in range(-2, -len(input_data[i])-1, -1):\n",
    "            node = head\n",
    "            head = ListNode(input_data[i][n])\n",
    "            head.next = node\n",
    "        heads.append(head)\n",
    "    else:\n",
    "        heads.append([])\n",
    "        \n",
    "\n",
    "class Solution():\n",
    "    def func(self, head):\n",
    "        def reverse(node: ListNode, prev: ListNode = None):\n",
    "            if not node:\n",
    "                return prev\n",
    "            next, node.next = node.next, prev\n",
    "            return reverse(next, node)\n",
    "        return reverse(head)\n",
    "    \n",
    "\n",
    "input_data = [[1,2,3,4,5]]\n",
    "output_data = [[5,4,3,2,1]]\n",
    "sol = Solution()\n",
    "node = sol.func(heads[0])\n",
    "output = []\n",
    "while node != None:\n",
    "    output.append(node.val)\n",
    "    node = node.next\n",
    "    \n",
    "for i in range(len(input_data)):\n",
    "    print('---'*25)\n",
    "    print('input  : ', input_data[i])\n",
    "    print('output : ', output_data[i])\n",
    "    print('result : ', output)"
   ]
  },
  {
   "cell_type": "markdown",
   "metadata": {},
   "source": [
    "# 3. Solved by Iteration"
   ]
  },
  {
   "cell_type": "code",
   "execution_count": 144,
   "metadata": {
    "ExecuteTime": {
     "end_time": "2021-01-28T15:50:54.533455Z",
     "start_time": "2021-01-28T15:50:54.520186Z"
    }
   },
   "outputs": [
    {
     "name": "stdout",
     "output_type": "stream",
     "text": [
      "---------------------------------------------------------------------------\n",
      "input  :  [1, 2, 3, 4, 5]\n",
      "output :  [5, 4, 3, 2, 1]\n",
      "result :  [5, 4, 3, 2, 1]\n"
     ]
    }
   ],
   "source": [
    "from typing import *\n",
    "# Definition for singly-linked list.\n",
    "class ListNode:\n",
    "    def __init__(self, val=0, next=None):\n",
    "        self.val = val\n",
    "        self.next = next\n",
    "        \n",
    "input_data = [[1,2,3,4,5]]\n",
    "heads:List[ListNode] = []\n",
    "\n",
    "for i in range(len(input_data)):\n",
    "    if len(input_data) >= 1:\n",
    "        head = ListNode(input_data[i][-1])\n",
    "        for n in range(-2, -len(input_data[i])-1, -1):\n",
    "            node = head\n",
    "            head = ListNode(input_data[i][n])\n",
    "            head.next = node\n",
    "        heads.append(head)\n",
    "    else:\n",
    "        heads.append([])\n",
    "        \n",
    "\n",
    "class Solution():\n",
    "    def func(self, head):\n",
    "        node, prev = head, None\n",
    "        \n",
    "        while node:\n",
    "            next, node.next = node.next, prev\n",
    "            prev, node = node, next\n",
    "        \n",
    "        return prev\n",
    "    \n",
    "\n",
    "input_data = [[1,2,3,4,5]]\n",
    "output_data = [[5,4,3,2,1]]\n",
    "sol = Solution()\n",
    "node = sol.func(heads[0])\n",
    "output = []\n",
    "while node != None:\n",
    "    output.append(node.val)\n",
    "    node = node.next\n",
    "    \n",
    "for i in range(len(input_data)):\n",
    "    print('---'*25)\n",
    "    print('input  : ', input_data[i])\n",
    "    print('output : ', output_data[i])\n",
    "    print('result : ', output)"
   ]
  }
 ],
 "metadata": {
  "kernelspec": {
   "display_name": "Python 3",
   "language": "python",
   "name": "python3"
  },
  "language_info": {
   "codemirror_mode": {
    "name": "ipython",
    "version": 3
   },
   "file_extension": ".py",
   "mimetype": "text/x-python",
   "name": "python",
   "nbconvert_exporter": "python",
   "pygments_lexer": "ipython3",
   "version": "3.7.2"
  },
  "latex_envs": {
   "LaTeX_envs_menu_present": true,
   "autoclose": false,
   "autocomplete": true,
   "bibliofile": "biblio.bib",
   "cite_by": "apalike",
   "current_citInitial": 1,
   "eqLabelWithNumbers": true,
   "eqNumInitial": 1,
   "hotkeys": {
    "equation": "Ctrl-E",
    "itemize": "Ctrl-I"
   },
   "labels_anchors": false,
   "latex_user_defs": false,
   "report_style_numbering": false,
   "user_envs_cfg": false
  },
  "varInspector": {
   "cols": {
    "lenName": 16,
    "lenType": 16,
    "lenVar": 40
   },
   "kernels_config": {
    "python": {
     "delete_cmd_postfix": "",
     "delete_cmd_prefix": "del ",
     "library": "var_list.py",
     "varRefreshCmd": "print(var_dic_list())"
    },
    "r": {
     "delete_cmd_postfix": ") ",
     "delete_cmd_prefix": "rm(",
     "library": "var_list.r",
     "varRefreshCmd": "cat(var_dic_list()) "
    }
   },
   "types_to_exclude": [
    "module",
    "function",
    "builtin_function_or_method",
    "instance",
    "_Feature"
   ],
   "window_display": false
  }
 },
 "nbformat": 4,
 "nbformat_minor": 2
}
