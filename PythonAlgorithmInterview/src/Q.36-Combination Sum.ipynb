{
 "cells": [
  {
   "cell_type": "markdown",
   "metadata": {},
   "source": [
    "# 조합의 합 | 난이도 🌟🌟\n",
    "### 문제 출처 - 리트 코드 [36번 문제 Combination Sum](https://leetcode.com/problems/combination-sum)"
   ]
  },
  {
   "cell_type": "code",
   "execution_count": 50,
   "metadata": {
    "ExecuteTime": {
     "end_time": "2021-02-26T17:37:45.914432Z",
     "start_time": "2021-02-26T17:37:45.902143Z"
    },
    "scrolled": false
   },
   "outputs": [
    {
     "name": "stdout",
     "output_type": "stream",
     "text": [
      "---------------------------------------------------------------------------\n",
      "input  :  [2, 3, 6, 7, 7]\n",
      "expect :  [[7], [2, 2, 3]]\n",
      "result :  [[2, 2, 3], [7]]\n",
      "---------------------------------------------------------------------------\n",
      "input  :  [2, 3, 5, 8]\n",
      "expect :  [[2, 2, 2, 2], [2, 3, 3], [3, 5]]\n",
      "result :  [[2, 2, 2, 2], [2, 3, 3], [3, 5]]\n"
     ]
    }
   ],
   "source": [
    "from typing import *\n",
    "class Solution():\n",
    "    def func(self, input_data):\n",
    "        candidates, target = input_data[:len(input_data)-1], input_data[-1]\n",
    "        result, nums = [], []\n",
    "        \n",
    "        def dfs(cand):\n",
    "            sums = sum(nums)\n",
    "            if sums == target:\n",
    "                result.append(nums[:])\n",
    "                nums.pop()\n",
    "                return\n",
    "            elif sums > target:\n",
    "                nums.pop()\n",
    "                return\n",
    "            \n",
    "            cand = [n for n in cand if sums + n <= target]\n",
    "            \n",
    "            if cand:\n",
    "                for n in cand:\n",
    "                    nums.append(n)\n",
    "                    dfs([x for x in cand if x >= n])\n",
    "            if nums:\n",
    "                nums.pop()\n",
    "        # end dfs()\n",
    "        dfs(candidates)\n",
    "        return result\n",
    "    \n",
    "\n",
    "input_data = [[2,3,6,7,7], [2,3,5,8]]\n",
    "output_data = [[[7], [2,2,3]], [[2,2,2,2], [2,3,3], [3,5]]]\n",
    "# input_data = [[2,3,5,8]]\n",
    "# output_data = [[[2,2,2,2], [2,3,3], [3,5]]]\n",
    "sol = Solution()\n",
    "for i in range(len(input_data)):\n",
    "    print('---'*25)\n",
    "    print('input  : ', input_data[i])\n",
    "    print('expect : ', output_data[i])\n",
    "    print('result : ', sol.func(input_data[i]))"
   ]
  },
  {
   "cell_type": "markdown",
   "metadata": {},
   "source": [
    "# REVIEW"
   ]
  },
  {
   "cell_type": "code",
   "execution_count": 16,
   "metadata": {
    "ExecuteTime": {
     "end_time": "2021-03-10T20:09:10.697018Z",
     "start_time": "2021-03-10T20:09:10.685488Z"
    }
   },
   "outputs": [
    {
     "name": "stdout",
     "output_type": "stream",
     "text": [
      "---------------------------------------------------------------------------\n",
      "input  :  [2, 3, 6, 7, 7]\n",
      "expect :  [[7], [2, 2, 3]]\n",
      "result :  [[2, 2, 3], [7]]\n",
      "---------------------------------------------------------------------------\n",
      "input  :  [2, 3, 5, 8]\n",
      "expect :  [[2, 2, 2, 2], [2, 3, 3], [3, 5]]\n",
      "result :  [[2, 2, 2, 2], [2, 3, 3], [3, 5]]\n"
     ]
    }
   ],
   "source": [
    "from typing import *\n",
    "class Solution():\n",
    "    def func(self, input_data):\n",
    "        candidates, target = input_data[:len(input_data)-1], input_data[-1]\n",
    "        result, nums = [], []\n",
    "        \n",
    "        def dfs(elems, sums):\n",
    "            if sums == target:\n",
    "                result.append(nums[:])\n",
    "                return\n",
    "            possibles = [p for p in elems if sums + p <= target]\n",
    "            for e in possibles[:]:\n",
    "                if sums + e <= target:\n",
    "                    nums.append(e)\n",
    "                    dfs(possibles, sums+e)\n",
    "                    nums.pop()\n",
    "                possibles.pop(0)\n",
    "                \n",
    "        dfs(candidates, 0)\n",
    "        return result\n",
    "                    \n",
    "            \n",
    "    \n",
    "\n",
    "input_data = [[2,3,6,7,7], [2,3,5,8]]\n",
    "output_data = [[[7], [2,2,3]], [[2,2,2,2], [2,3,3], [3,5]]]\n",
    "# input_data = [[2,3,5,8]]\n",
    "# output_data = [[[2,2,2,2], [2,3,3], [3,5]]]\n",
    "sol = Solution()\n",
    "for i in range(len(input_data)):\n",
    "    print('---'*25)\n",
    "    print('input  : ', input_data[i])\n",
    "    print('expect : ', output_data[i])\n",
    "    print('result : ', sol.func(input_data[i]))"
   ]
  },
  {
   "cell_type": "markdown",
   "metadata": {},
   "source": [
    "# 책 풀이"
   ]
  },
  {
   "cell_type": "code",
   "execution_count": 52,
   "metadata": {
    "ExecuteTime": {
     "end_time": "2021-02-26T17:40:05.535831Z",
     "start_time": "2021-02-26T17:40:05.524637Z"
    }
   },
   "outputs": [
    {
     "name": "stdout",
     "output_type": "stream",
     "text": [
      "---------------------------------------------------------------------------\n",
      "input  :  [2, 3, 6, 7, 7]\n",
      "expect :  [[7], [2, 2, 3]]\n",
      "result :  [[2, 2, 3], [7]]\n",
      "---------------------------------------------------------------------------\n",
      "input  :  [2, 3, 5, 8]\n",
      "expect :  [[2, 2, 2, 2], [2, 3, 3], [3, 5]]\n",
      "result :  [[2, 2, 2, 2], [2, 3, 3], [3, 5]]\n"
     ]
    }
   ],
   "source": [
    "from typing import *\n",
    "class Solution():\n",
    "    def func(self, input_data):\n",
    "        candidates, target = input_data[:len(input_data)-1], input_data[-1]\n",
    "        result = []\n",
    "        \n",
    "        def dfs(csum, index, path):\n",
    "            # 종료 조건\n",
    "            if csum < 0:\n",
    "                return\n",
    "            if csum == 0:\n",
    "                result.append(path)\n",
    "                return\n",
    "            for i in range(index, len(candidates)):\n",
    "                dfs(csum - candidates[i], i, path + [candidates[i]])\n",
    "        \n",
    "        dfs(target, 0, [])\n",
    "        return result\n",
    "    \n",
    "\n",
    "input_data = [[2,3,6,7,7], [2,3,5,8]]\n",
    "output_data = [[[7], [2,2,3]], [[2,2,2,2], [2,3,3], [3,5]]]\n",
    "# input_data = [[2,3,5,8]]\n",
    "# output_data = [[[2,2,2,2], [2,3,3], [3,5]]]\n",
    "sol = Solution()\n",
    "for i in range(len(input_data)):\n",
    "    print('---'*25)\n",
    "    print('input  : ', input_data[i])\n",
    "    print('expect : ', output_data[i])\n",
    "    print('result : ', sol.func(input_data[i]))"
   ]
  }
 ],
 "metadata": {
  "kernelspec": {
   "display_name": "Python 3",
   "language": "python",
   "name": "python3"
  },
  "language_info": {
   "codemirror_mode": {
    "name": "ipython",
    "version": 3
   },
   "file_extension": ".py",
   "mimetype": "text/x-python",
   "name": "python",
   "nbconvert_exporter": "python",
   "pygments_lexer": "ipython3",
   "version": "3.7.2"
  },
  "latex_envs": {
   "LaTeX_envs_menu_present": true,
   "autoclose": false,
   "autocomplete": true,
   "bibliofile": "biblio.bib",
   "cite_by": "apalike",
   "current_citInitial": 1,
   "eqLabelWithNumbers": true,
   "eqNumInitial": 1,
   "hotkeys": {
    "equation": "Ctrl-E",
    "itemize": "Ctrl-I"
   },
   "labels_anchors": false,
   "latex_user_defs": false,
   "report_style_numbering": false,
   "user_envs_cfg": false
  },
  "varInspector": {
   "cols": {
    "lenName": 16,
    "lenType": 16,
    "lenVar": 40
   },
   "kernels_config": {
    "python": {
     "delete_cmd_postfix": "",
     "delete_cmd_prefix": "del ",
     "library": "var_list.py",
     "varRefreshCmd": "print(var_dic_list())"
    },
    "r": {
     "delete_cmd_postfix": ") ",
     "delete_cmd_prefix": "rm(",
     "library": "var_list.r",
     "varRefreshCmd": "cat(var_dic_list()) "
    }
   },
   "types_to_exclude": [
    "module",
    "function",
    "builtin_function_or_method",
    "instance",
    "_Feature"
   ],
   "window_display": false
  }
 },
 "nbformat": 4,
 "nbformat_minor": 2
}
