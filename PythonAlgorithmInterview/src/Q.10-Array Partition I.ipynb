{
 "cells": [
  {
   "cell_type": "markdown",
   "metadata": {},
   "source": [
    "# 배열 파티션 1 | 난이도 🌟\n",
    "### 문제 출처 - 리트 코드 [561번 문제 Array Partition I](https://leetcode.com/problems/array-partition-i)"
   ]
  },
  {
   "cell_type": "markdown",
   "metadata": {},
   "source": [
    "# 1. 정렬 후 풀이"
   ]
  },
  {
   "cell_type": "code",
   "execution_count": 11,
   "metadata": {
    "ExecuteTime": {
     "end_time": "2021-01-24T16:22:09.238450Z",
     "start_time": "2021-01-24T16:22:09.230196Z"
    }
   },
   "outputs": [
    {
     "name": "stdout",
     "output_type": "stream",
     "text": [
      "---------------------------------------------------------------------------\n",
      "input  :  [1, 4, 3, 2]\n",
      "output :  4\n",
      "result :  4\n",
      "---------------------------------------------------------------------------\n",
      "input  :  [6, 2, 6, 5, 1, 2]\n",
      "output :  9\n",
      "result :  9\n"
     ]
    }
   ],
   "source": [
    "from typing import *\n",
    "class Solution():\n",
    "    def func(self, input_data) -> int:\n",
    "        nums:List[int] = sorted(input_data, reverse=True)\n",
    "        result = 0\n",
    "        for i, n in enumerate(nums):\n",
    "            if i%2 == 1:\n",
    "                result += n\n",
    "        return result\n",
    "    \n",
    "\n",
    "input_data = [[1,4,3,2] , [6,2,6,5,1,2]]\n",
    "output_data = [4, 9]\n",
    "sol = Solution()\n",
    "for i in range(len(input_data)):\n",
    "    print('---'*25)\n",
    "    print('input  : ', input_data[i])\n",
    "    print('output : ', output_data[i])\n",
    "    print('result : ', sol.func(input_data[i]))"
   ]
  },
  {
   "cell_type": "markdown",
   "metadata": {},
   "source": [
    "# 2. Pythonic Solution"
   ]
  },
  {
   "cell_type": "code",
   "execution_count": 12,
   "metadata": {
    "ExecuteTime": {
     "end_time": "2021-01-24T16:22:51.763103Z",
     "start_time": "2021-01-24T16:22:51.756024Z"
    }
   },
   "outputs": [
    {
     "name": "stdout",
     "output_type": "stream",
     "text": [
      "---------------------------------------------------------------------------\n",
      "input  :  [1, 4, 3, 2]\n",
      "output :  4\n",
      "result :  4\n",
      "---------------------------------------------------------------------------\n",
      "input  :  [6, 2, 6, 5, 1, 2]\n",
      "output :  9\n",
      "result :  9\n"
     ]
    }
   ],
   "source": [
    "from typing import *\n",
    "class Solution():\n",
    "    def func(self, input_data) -> int:\n",
    "        return sum(sorted(input_data)[::2])\n",
    "    \n",
    "\n",
    "input_data = [[1,4,3,2] , [6,2,6,5,1,2]]\n",
    "output_data = [4, 9]\n",
    "sol = Solution()\n",
    "for i in range(len(input_data)):\n",
    "    print('---'*25)\n",
    "    print('input  : ', input_data[i])\n",
    "    print('output : ', output_data[i])\n",
    "    print('result : ', sol.func(input_data[i]))"
   ]
  }
 ],
 "metadata": {
  "kernelspec": {
   "display_name": "Python 3",
   "language": "python",
   "name": "python3"
  },
  "language_info": {
   "codemirror_mode": {
    "name": "ipython",
    "version": 3
   },
   "file_extension": ".py",
   "mimetype": "text/x-python",
   "name": "python",
   "nbconvert_exporter": "python",
   "pygments_lexer": "ipython3",
   "version": "3.7.2"
  },
  "latex_envs": {
   "LaTeX_envs_menu_present": true,
   "autoclose": false,
   "autocomplete": true,
   "bibliofile": "biblio.bib",
   "cite_by": "apalike",
   "current_citInitial": 1,
   "eqLabelWithNumbers": true,
   "eqNumInitial": 1,
   "hotkeys": {
    "equation": "Ctrl-E",
    "itemize": "Ctrl-I"
   },
   "labels_anchors": false,
   "latex_user_defs": false,
   "report_style_numbering": false,
   "user_envs_cfg": false
  },
  "varInspector": {
   "cols": {
    "lenName": 16,
    "lenType": 16,
    "lenVar": 40
   },
   "kernels_config": {
    "python": {
     "delete_cmd_postfix": "",
     "delete_cmd_prefix": "del ",
     "library": "var_list.py",
     "varRefreshCmd": "print(var_dic_list())"
    },
    "r": {
     "delete_cmd_postfix": ") ",
     "delete_cmd_prefix": "rm(",
     "library": "var_list.r",
     "varRefreshCmd": "cat(var_dic_list()) "
    }
   },
   "types_to_exclude": [
    "module",
    "function",
    "builtin_function_or_method",
    "instance",
    "_Feature"
   ],
   "window_display": false
  }
 },
 "nbformat": 4,
 "nbformat_minor": 2
}
