{
 "cells": [
  {
   "cell_type": "markdown",
   "metadata": {},
   "source": [
    "# 두 이진 트리 병합 | 난이도 🌟\n",
    "### 문제 출처 - 리트 코드 [617번 문제 Merge Two Binary Trees](https://leetcode.com/problems/merge-two-binary-trees)"
   ]
  },
  {
   "cell_type": "code",
   "execution_count": null,
   "metadata": {
    "ExecuteTime": {
     "end_time": "2021-01-23T15:11:08.481689Z",
     "start_time": "2021-01-23T15:11:08.347977Z"
    }
   },
   "outputs": [],
   "source": [
    "# Definition for a binary tree node.\n",
    "# class TreeNode:\n",
    "#     def __init__(self, val=0, left=None, right=None):\n",
    "#         self.val = val\n",
    "#         self.left = left\n",
    "#         self.right = right\n",
    "class Solution:\n",
    "    def mergeTrees(self, root1: TreeNode, root2: TreeNode) -> TreeNode:\n",
    "        root = TreeNode()\n",
    "        queue = collections.deque([root1, root2, root])\n",
    "        \n",
    "        while queue:\n",
    "            for i, q in enumerate(queue):\n",
    "                if i%3 == 0:\n",
    "                    print('r1', q)\n",
    "                elif i%3 == 1:\n",
    "                    print('r2', q)\n",
    "                else:\n",
    "                    print('root', q)\\\n",
    "                    \n",
    "            print('--'*20)\n",
    "            r1, r2, rt = queue.popleft(), queue.popleft(), queue.popleft()\n",
    "            val = 0\n",
    "            rt = TreeNode()\n",
    "            if r1 and r2:\n",
    "                val += r1.val + r2.val\n",
    "                queue.append(r1.left)\n",
    "                queue.append(r2.left)\n",
    "                queue.append(rt.left)\n",
    "                queue.append(r1.right)\n",
    "                queue.append(r2.right)\n",
    "                queue.append(rt.right)\n",
    "            elif r1:\n",
    "                val += r1.val            \n",
    "                queue.append(r1.left)\n",
    "                queue.append(None)\n",
    "                queue.append(rt.left)\n",
    "                queue.append(r1.right)\n",
    "                queue.append(None)\n",
    "                queue.append(rt.right)\n",
    "            elif r2:\n",
    "                val += r2.val\n",
    "                queue.append(None)\n",
    "                queue.append(r2.left)\n",
    "                queue.append(rt.left)\n",
    "                queue.append(None)\n",
    "                queue.append(r2.right)\n",
    "                queue.append(rt.right)\n",
    "            rt.val = val\n",
    "            \n",
    "        return root"
   ]
  },
  {
   "cell_type": "code",
   "execution_count": 5,
   "metadata": {
    "ExecuteTime": {
     "end_time": "2021-03-26T12:45:04.735542Z",
     "start_time": "2021-03-26T12:45:04.732150Z"
    }
   },
   "outputs": [
    {
     "name": "stdout",
     "output_type": "stream",
     "text": [
      "2\n"
     ]
    }
   ],
   "source": [
    "a = lambda x: x+5 if x>3 else x+1\n",
    "print(a(1))"
   ]
  }
 ],
 "metadata": {
  "kernelspec": {
   "display_name": "Python 3",
   "language": "python",
   "name": "python3"
  },
  "language_info": {
   "codemirror_mode": {
    "name": "ipython",
    "version": 3
   },
   "file_extension": ".py",
   "mimetype": "text/x-python",
   "name": "python",
   "nbconvert_exporter": "python",
   "pygments_lexer": "ipython3",
   "version": "3.7.2"
  },
  "latex_envs": {
   "LaTeX_envs_menu_present": true,
   "autoclose": false,
   "autocomplete": true,
   "bibliofile": "biblio.bib",
   "cite_by": "apalike",
   "current_citInitial": 1,
   "eqLabelWithNumbers": true,
   "eqNumInitial": 1,
   "hotkeys": {
    "equation": "Ctrl-E",
    "itemize": "Ctrl-I"
   },
   "labels_anchors": false,
   "latex_user_defs": false,
   "report_style_numbering": false,
   "user_envs_cfg": false
  },
  "varInspector": {
   "cols": {
    "lenName": 16,
    "lenType": 16,
    "lenVar": 40
   },
   "kernels_config": {
    "python": {
     "delete_cmd_postfix": "",
     "delete_cmd_prefix": "del ",
     "library": "var_list.py",
     "varRefreshCmd": "print(var_dic_list())"
    },
    "r": {
     "delete_cmd_postfix": ") ",
     "delete_cmd_prefix": "rm(",
     "library": "var_list.r",
     "varRefreshCmd": "cat(var_dic_list()) "
    }
   },
   "types_to_exclude": [
    "module",
    "function",
    "builtin_function_or_method",
    "instance",
    "_Feature"
   ],
   "window_display": false
  }
 },
 "nbformat": 4,
 "nbformat_minor": 2
}
