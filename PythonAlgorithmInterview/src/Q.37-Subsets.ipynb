{
 "cells": [
  {
   "cell_type": "markdown",
   "metadata": {},
   "source": [
    "# 부분 집합 | 난이도 🌟🌟\n",
    "### 문제 출처 - 리트 코드 [78번 문제 Subsets](https://leetcode.com/problems/subsets)"
   ]
  },
  {
   "cell_type": "code",
   "execution_count": 2,
   "metadata": {
    "ExecuteTime": {
     "end_time": "2021-03-02T14:54:44.427561Z",
     "start_time": "2021-03-02T14:54:44.417543Z"
    }
   },
   "outputs": [
    {
     "name": "stdout",
     "output_type": "stream",
     "text": [
      "---------------------------------------------------------------------------\n",
      "input  :  [1, 2, 3]\n",
      "expect :  [[3], [1], [2], [1, 2, 3], [1, 3], [2, 3], [1, 2], []]\n",
      "result :  [[], [1], [1, 2], [1, 2, 3], [1, 3], [2], [2, 3], [3]]\n"
     ]
    }
   ],
   "source": [
    "from typing import *\n",
    "import collections\n",
    "import itertools\n",
    "class Solution():\n",
    "    def func(self, input_data):\n",
    "        nums = input_data\n",
    "        result = []\n",
    "        \n",
    "        def dfs(index, path):\n",
    "            result.append(path)\n",
    "            \n",
    "            for i in range(index, len(nums)):\n",
    "                dfs(i+1, path + [nums[i]])\n",
    "                \n",
    "        dfs(0, [])\n",
    "        return result\n",
    "\n",
    "\n",
    "input_data = [[1,2,3]]\n",
    "output_data = [[[3],[1],[2],[1,2,3],[1,3],[2,3],[1,2],[]]]\n",
    "sol = Solution()\n",
    "for i in range(len(input_data)):\n",
    "    print('---'*25)\n",
    "    print('input  : ', input_data[i])\n",
    "    print('expect : ', output_data[i])\n",
    "    print('result : ', sol.func(input_data[i]))"
   ]
  }
 ],
 "metadata": {
  "kernelspec": {
   "display_name": "Python 3",
   "language": "python",
   "name": "python3"
  },
  "language_info": {
   "codemirror_mode": {
    "name": "ipython",
    "version": 3
   },
   "file_extension": ".py",
   "mimetype": "text/x-python",
   "name": "python",
   "nbconvert_exporter": "python",
   "pygments_lexer": "ipython3",
   "version": "3.7.2"
  },
  "latex_envs": {
   "LaTeX_envs_menu_present": true,
   "autoclose": false,
   "autocomplete": true,
   "bibliofile": "biblio.bib",
   "cite_by": "apalike",
   "current_citInitial": 1,
   "eqLabelWithNumbers": true,
   "eqNumInitial": 1,
   "hotkeys": {
    "equation": "Ctrl-E",
    "itemize": "Ctrl-I"
   },
   "labels_anchors": false,
   "latex_user_defs": false,
   "report_style_numbering": false,
   "user_envs_cfg": false
  },
  "varInspector": {
   "cols": {
    "lenName": 16,
    "lenType": 16,
    "lenVar": 40
   },
   "kernels_config": {
    "python": {
     "delete_cmd_postfix": "",
     "delete_cmd_prefix": "del ",
     "library": "var_list.py",
     "varRefreshCmd": "print(var_dic_list())"
    },
    "r": {
     "delete_cmd_postfix": ") ",
     "delete_cmd_prefix": "rm(",
     "library": "var_list.r",
     "varRefreshCmd": "cat(var_dic_list()) "
    }
   },
   "types_to_exclude": [
    "module",
    "function",
    "builtin_function_or_method",
    "instance",
    "_Feature"
   ],
   "window_display": false
  }
 },
 "nbformat": 4,
 "nbformat_minor": 2
}
