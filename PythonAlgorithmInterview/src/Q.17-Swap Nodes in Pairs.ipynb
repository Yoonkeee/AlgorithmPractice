{
 "cells": [
  {
   "cell_type": "markdown",
   "metadata": {},
   "source": [
    "# 페어의 노드 스왑 | 난이도 🌟🌟\n",
    "### 문제 출처 - 리트 코드 [24번 문제 Swap Nodes in Pairs](https://leetcode.com/problems/swap-nodes-in-pairs)"
   ]
  },
  {
   "cell_type": "markdown",
   "metadata": {},
   "source": [
    "# 1. Recursion"
   ]
  },
  {
   "cell_type": "code",
   "execution_count": 38,
   "metadata": {
    "ExecuteTime": {
     "end_time": "2021-01-29T18:33:21.824191Z",
     "start_time": "2021-01-29T18:33:21.808622Z"
    },
    "code_folding": []
   },
   "outputs": [
    {
     "name": "stdout",
     "output_type": "stream",
     "text": [
      "---------------------------------------------------------------------------\n",
      "input  :  [1, 2, 3, 4]\n",
      "output :  [2, 1, 4, 3]\n",
      "result :  [2, 1, 4, 3]\n",
      "---------------------------------------------------------------------------\n",
      "input  :  []\n",
      "output :  []\n",
      "result :  []\n",
      "---------------------------------------------------------------------------\n",
      "input  :  [1]\n",
      "output :  [1]\n",
      "result :  [1]\n"
     ]
    }
   ],
   "source": [
    "from typing import *\n",
    "# Definition for singly-linked list.\n",
    "class ListNode:\n",
    "    def __init__(self, val=0, next=None):\n",
    "        self.val = val\n",
    "        self.next = next\n",
    "        \n",
    "input_data = [[1,2,3,4], [], [1]]\n",
    "heads:List[ListNode] = []\n",
    "\n",
    "for i in range(len(input_data)):\n",
    "    if len(input_data[i]) >= 1:\n",
    "        head = ListNode(input_data[i][-1])\n",
    "        for n in range(-2, -len(input_data[i])-1, -1):\n",
    "            node = head\n",
    "            head = ListNode(input_data[i][n])\n",
    "            head.next = node\n",
    "        heads.append(head)\n",
    "    else:\n",
    "        heads.append([])\n",
    "\n",
    "class Solution():\n",
    "    def func(self, head):\n",
    "        if not head:\n",
    "            return None\n",
    "        elif not head.next:\n",
    "            return head\n",
    "        else:\n",
    "            head.next.next, head.next, head = head, head.next.next, head.next\n",
    "            head.next.next = self.func(head.next.next)\n",
    "            return head\n",
    "        \n",
    "        \n",
    "output_data = [[2,1,4,3], [], [1]]\n",
    "sol = Solution()\n",
    "output_heads, output = [], []\n",
    "\n",
    "for i in range(len(input_data)):\n",
    "    output_heads.append(sol.func(heads[i]))\n",
    "    \n",
    "for node in output_heads:\n",
    "    n = []\n",
    "    while node != None:\n",
    "        n.append(node.val)\n",
    "        node = node.next\n",
    "    output.append(n)\n",
    "    \n",
    "for i in range(len(input_data)):\n",
    "    print('---'*25)\n",
    "    print('input  : ', input_data[i])\n",
    "    print('output : ', output_data[i])\n",
    "    print('result : ', output[i])"
   ]
  }
 ],
 "metadata": {
  "kernelspec": {
   "display_name": "Python 3",
   "language": "python",
   "name": "python3"
  },
  "language_info": {
   "codemirror_mode": {
    "name": "ipython",
    "version": 3
   },
   "file_extension": ".py",
   "mimetype": "text/x-python",
   "name": "python",
   "nbconvert_exporter": "python",
   "pygments_lexer": "ipython3",
   "version": "3.7.2"
  },
  "latex_envs": {
   "LaTeX_envs_menu_present": true,
   "autoclose": false,
   "autocomplete": true,
   "bibliofile": "biblio.bib",
   "cite_by": "apalike",
   "current_citInitial": 1,
   "eqLabelWithNumbers": true,
   "eqNumInitial": 1,
   "hotkeys": {
    "equation": "Ctrl-E",
    "itemize": "Ctrl-I"
   },
   "labels_anchors": false,
   "latex_user_defs": false,
   "report_style_numbering": false,
   "user_envs_cfg": false
  },
  "varInspector": {
   "cols": {
    "lenName": 16,
    "lenType": 16,
    "lenVar": 40
   },
   "kernels_config": {
    "python": {
     "delete_cmd_postfix": "",
     "delete_cmd_prefix": "del ",
     "library": "var_list.py",
     "varRefreshCmd": "print(var_dic_list())"
    },
    "r": {
     "delete_cmd_postfix": ") ",
     "delete_cmd_prefix": "rm(",
     "library": "var_list.r",
     "varRefreshCmd": "cat(var_dic_list()) "
    }
   },
   "types_to_exclude": [
    "module",
    "function",
    "builtin_function_or_method",
    "instance",
    "_Feature"
   ],
   "window_display": false
  }
 },
 "nbformat": 4,
 "nbformat_minor": 2
}
