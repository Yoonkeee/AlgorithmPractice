{
 "cells": [
  {
   "cell_type": "markdown",
   "metadata": {},
   "source": [
    "# K 경유지 내 가장 저렴한 항공권 | 난이도 🌟🌟\n",
    "### 문제 출처 - 리트 코드 [787번 문제 Cheapest Flights Within K Stops](https://leetcode.com/problems/cheapest-flights-within-k-stops)"
   ]
  },
  {
   "cell_type": "code",
   "execution_count": 68,
   "metadata": {
    "ExecuteTime": {
     "end_time": "2021-03-08T15:25:23.623595Z",
     "start_time": "2021-03-08T15:25:23.609639Z"
    }
   },
   "outputs": [
    {
     "name": "stdout",
     "output_type": "stream",
     "text": [
      "---------------------------------------------------------------------------\n",
      "input  :  [1]\n",
      "expect :  1\n",
      "time : 0 node : 0 exchange : 2\n",
      "time : 2 node : 3 exchange : 1\n",
      "time : 4 node : 1 exchange : 0\n",
      "time : 5 node : 1 exchange : 1\n",
      "time : 5 node : 4 exchange : -1\n",
      "time : 6 node : 4 exchange : 0\n",
      "time : 7 node : 2 exchange : -1\n",
      "result :  7\n"
     ]
    }
   ],
   "source": [
    "from typing import *\n",
    "import collections\n",
    "import itertools\n",
    "import heapq\n",
    "class Solution():\n",
    "    def func(self, input_data):\n",
    "        somevar = input_data\n",
    "        n = 3\n",
    "        edges = [[0,1,100],[1,2,100],[0,2,500]]\n",
    "        src = 0\n",
    "        dst = 2\n",
    "        k = 1\n",
    "        n = 5\n",
    "        edges = [[0,1,5],[1,2,5],[0,3,2],[3,1,2],[1,4,1],[4,2,1]]\n",
    "        src = 0\n",
    "        dst = 2\n",
    "        k = 2\n",
    "        Q = [(0, src, k)]\n",
    "        graph = collections.defaultdict(list)\n",
    "        for u,v,w in edges:\n",
    "            graph[u].append((v,w))\n",
    "        dist = collections.defaultdict(int)\n",
    "        \n",
    "#         graph = collections.defaultdict(list)\n",
    "#         # 그래프 인접 리스트 구성\n",
    "#         for u, v, w in flights:\n",
    "#             graph[u].append((v, w))\n",
    "\n",
    "#         # 큐 변수: [(가격, 정점, 남은 가능 경유지 수)]\n",
    "#         Q = [(0, src, K)]\n",
    "\n",
    "#         # 우선 순위 큐 최소값 기준으로 도착점까지 최소 비용 판별\n",
    "#         while Q:\n",
    "#             price, node, k = heapq.heappop(Q)\n",
    "#             if node == dst:\n",
    "#                 return price\n",
    "#             if k >= 0:\n",
    "#                 for v, w in graph[node]:\n",
    "#                     alt = price + w\n",
    "#                     heapq.heappush(Q, (alt, v, k - 1))\n",
    "#         return -1\n",
    "    \n",
    "    \n",
    "        while Q:\n",
    "#             try:\n",
    "#                 for x,y,z in Q:\n",
    "#                     print(f'To : {y} Time : {x} Exchange : {z}')\n",
    "#             except:\n",
    "#                 pass\n",
    "            time, node, exchange = heapq.heappop(Q)\n",
    "            print(f'time : {time} node : {node} exchange : {exchange}')\n",
    "            if node == dst:\n",
    "                return time\n",
    "            if exchange >= 0:\n",
    "                for v,w in graph[node]:\n",
    "                    alt = time + w\n",
    "                    heapq.heappush(Q, (alt, v, exchange-1))\n",
    "        return -1\n",
    "\n",
    "\n",
    "input_data = [[1]]\n",
    "output_data = [1]\n",
    "sol = Solution()\n",
    "for i in range(len(input_data)):\n",
    "    print('---'*25)\n",
    "    print('input  : ', input_data[i])\n",
    "    print('expect : ', output_data[i])\n",
    "    print('result : ', sol.func(input_data[i]))"
   ]
  }
 ],
 "metadata": {
  "kernelspec": {
   "display_name": "Python 3",
   "language": "python",
   "name": "python3"
  },
  "language_info": {
   "codemirror_mode": {
    "name": "ipython",
    "version": 3
   },
   "file_extension": ".py",
   "mimetype": "text/x-python",
   "name": "python",
   "nbconvert_exporter": "python",
   "pygments_lexer": "ipython3",
   "version": "3.7.2"
  },
  "latex_envs": {
   "LaTeX_envs_menu_present": true,
   "autoclose": false,
   "autocomplete": true,
   "bibliofile": "biblio.bib",
   "cite_by": "apalike",
   "current_citInitial": 1,
   "eqLabelWithNumbers": true,
   "eqNumInitial": 1,
   "hotkeys": {
    "equation": "Ctrl-E",
    "itemize": "Ctrl-I"
   },
   "labels_anchors": false,
   "latex_user_defs": false,
   "report_style_numbering": false,
   "user_envs_cfg": false
  },
  "varInspector": {
   "cols": {
    "lenName": 16,
    "lenType": 16,
    "lenVar": 40
   },
   "kernels_config": {
    "python": {
     "delete_cmd_postfix": "",
     "delete_cmd_prefix": "del ",
     "library": "var_list.py",
     "varRefreshCmd": "print(var_dic_list())"
    },
    "r": {
     "delete_cmd_postfix": ") ",
     "delete_cmd_prefix": "rm(",
     "library": "var_list.r",
     "varRefreshCmd": "cat(var_dic_list()) "
    }
   },
   "types_to_exclude": [
    "module",
    "function",
    "builtin_function_or_method",
    "instance",
    "_Feature"
   ],
   "window_display": false
  }
 },
 "nbformat": 4,
 "nbformat_minor": 2
}
