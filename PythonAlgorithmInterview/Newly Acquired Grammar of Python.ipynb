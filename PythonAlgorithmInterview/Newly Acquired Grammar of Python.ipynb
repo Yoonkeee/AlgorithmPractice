{
 "cells": [
  {
   "cell_type": "code",
   "execution_count": null,
   "metadata": {},
   "outputs": [],
   "source": [
    "from typing import *\n",
    "def typing_test(arr: List[int], number:int) -> List[int]:\n",
    "    arr.append(number)\n",
    "    return arr\n",
    "print(typing_test([1,2,3], 4))"
   ]
  },
  {
   "cell_type": "code",
   "execution_count": null,
   "metadata": {
    "ExecuteTime": {
     "end_time": "2021-01-15T20:34:18.657578Z",
     "start_time": "2021-01-15T20:34:18.652574Z"
    }
   },
   "outputs": [],
   "source": [
    "# def foo():\n",
    "#     return None\n",
    "# if foo() == None:\n",
    "#     print('!')\n",
    "class Foo:\n",
    "    def __eq__(self,other):\n",
    "        return True\n",
    "foo=Foo()\n",
    "print(foo)\n",
    "print(foo==None)  # True\n",
    "print(foo is None)  # False"
   ]
  },
  {
   "cell_type": "code",
   "execution_count": 5,
   "metadata": {
    "ExecuteTime": {
     "end_time": "2021-01-19T20:50:51.033380Z",
     "start_time": "2021-01-19T20:50:51.028335Z"
    }
   },
   "outputs": [
    {
     "name": "stdout",
     "output_type": "stream",
     "text": [
      "<enumerate object at 0x7fe5d467a168>\n",
      "index : 0 , value : 1\n",
      "index : 1 , value : 2\n",
      "index : 2 , value : 3\n",
      "index : 3 , value : 2\n",
      "index : 4 , value : 45\n",
      "index : 5 , value : 2\n",
      "index : 6 , value : 5\n"
     ]
    }
   ],
   "source": [
    "a = [1,2,3,2,45,2,5]\n",
    "print(enumerate(a))\n",
    "(list(enumerate(a)))\n",
    "for i, v in enumerate(a):\n",
    "    print(f'index : {i} , value : {v}')"
   ]
  },
  {
   "cell_type": "code",
   "execution_count": null,
   "metadata": {},
   "outputs": [],
   "source": [
    "# List Comprehension\n",
    "# 대체로 표현식이 2개를 넘지 않도록 해야 깔끔함\n",
    "lc1 = [n * 2 for n in range(1, 10+1) if n%2 == 1]\n",
    "lc2 = []\n",
    "for n in range(1, 10+1):\n",
    "    if n%2 == 1:\n",
    "        lc2.append(n*2)\n",
    "print(lc1 == lc2)\n",
    "\n",
    "# Dictionary Comprehension\n",
    "#a = {key: value for key, value in original.items()}\n",
    "#000000000111111111 222222222 333333333 444444444 555555555 666666666 77777777 888888888 "
   ]
  },
  {
   "cell_type": "code",
   "execution_count": null,
   "metadata": {},
   "outputs": [],
   "source": [
    "# enumerate\n",
    "enum_arr1 = ['a1', 'a2', 'a3']\n",
    "for i, v in enumerate(enum_arr1):\n",
    "    print(i, v)\n",
    "for i in range(len(enum_arr1)):\n",
    "    print(i, enum_arr1[i])"
   ]
  },
  {
   "cell_type": "code",
   "execution_count": null,
   "metadata": {},
   "outputs": [],
   "source": [
    "# divmod(int, int)\n",
    "divmod_result, divmod_modulo = divmod(5,3)\n",
    "print('5//3 = {} , 5%3 == {}'.format(divmod_result, divmod_modulo))"
   ]
  },
  {
   "cell_type": "code",
   "execution_count": null,
   "metadata": {},
   "outputs": [],
   "source": [
    "# f-string (formated string litreal)\n",
    "idx, fruit = 1, 'Apple'\n",
    "print(f'{idx+1}: {fruit}')\n",
    "print('{}: {}'.format(idx+1, fruit))"
   ]
  },
  {
   "cell_type": "code",
   "execution_count": null,
   "metadata": {
    "scrolled": true
   },
   "outputs": [],
   "source": [
    "# locals : 로컬에 선언된 모든 변수를 dict 형태로 가져온다\n",
    "import pprint\n",
    "pprint.pprint(locals())"
   ]
  },
  {
   "cell_type": "markdown",
   "metadata": {},
   "source": [
    "A is B 는 객체의 id(주소)값을 비교하는 것  \n",
    "== 는 값을 비교하는 것  \n",
    "None은 값 자체가 없으므로 ==으로 비교할 수 없고, is 로 비교해야 한다  \n",
    "A = list(리스트)를 하게 되면 리스트를 별도의 객체로 복사하여 다른 ID를 갖게 됨"
   ]
  },
  {
   "cell_type": "markdown",
   "metadata": {},
   "source": [
    "# defaultdict"
   ]
  },
  {
   "cell_type": "code",
   "execution_count": 7,
   "metadata": {
    "ExecuteTime": {
     "end_time": "2021-01-17T16:48:36.256041Z",
     "start_time": "2021-01-17T16:48:36.250001Z"
    }
   },
   "outputs": [
    {
     "name": "stdout",
     "output_type": "stream",
     "text": [
      "collections.defaultdict(int) : {0: 5, 1: 10}\n",
      "collections.Counter(list) : Counter({5: 3, 8: 3, 1: 2, 2: 2, 6: 2, 7: 2, 3: 1, 4: 1})\n",
      "(Counter).most_common(n) : [(5, 3), (8, 3)]\n"
     ]
    }
   ],
   "source": [
    "import collections\n",
    "# defaultdict : dict에 없는 key의 value에 접근시 에러 대신 default값으로 할당 후 처리\n",
    "default_dict = collections.defaultdict(int)\n",
    "default_dict[0] += 5\n",
    "default_dict[1] += 10\n",
    "print('collections.default_dict(int) :', dict(default_dict.items()))\n",
    "\n",
    "# Counter : list에서 원소를 key로, 갯수를 value로 갖는 dict 생성\n",
    "counter_list = [1,2,3,4,5,5,8,5,6,6,7,1,2,7,8,8]\n",
    "counter_dict = collections.Counter(counter_list)\n",
    "print('collections.Counter(list) :', counter_dict)\n",
    "\n",
    "# (Counter).most_common(n) : Counter 객체의 메소드이며 가장 빈도 수가 높은 요소를 n개 추출함\n",
    "print('(Counter).most_common(n) :', counter_dict.most_common(2))\n"
   ]
  },
  {
   "cell_type": "markdown",
   "metadata": {},
   "source": [
    "# String Methods\n"
   ]
  },
  {
   "cell_type": "code",
   "execution_count": null,
   "metadata": {},
   "outputs": [],
   "source": [
    "string_methods = 's1@, UPPER, lower, eLsE : 123!@#한글, 특수문자...!!//;;;'\n",
    "print(f'str : {string_methods}')\n",
    "print(f'(str).upper() : {string_methods.upper()}')\n",
    "print(f'(str).lower() : {string_methods.lower()}')\n",
    "print(f'(str).capitalize() : {string_methods.capitalize()}')\n",
    "\n",
    "for i in range(3):\n",
    "    print(string_methods[i])\n",
    "    print(f'.isdigit() = {string_methods[i].isdigit()}  ', end='')\n",
    "    print(f'isalpha() = {string_methods[i].isalpha()}  ', end='')\n",
    "    print(f'.isalnum() = {string_methods[i].isalnum()}  ', end='')\n",
    "    print(f'.isupper() = {string_methods[i].isupper()}  ', end='')\n",
    "    print(f'.islower() = {string_methods[i].islower()}  ')"
   ]
  },
  {
   "cell_type": "code",
   "execution_count": 4,
   "metadata": {
    "ExecuteTime": {
     "end_time": "2021-01-17T16:44:36.878730Z",
     "start_time": "2021-01-17T16:44:36.873944Z"
    }
   },
   "outputs": [
    {
     "name": "stdout",
     "output_type": "stream",
     "text": [
      "['Bob', 'hit', 'a', 'ball', 'the', 'hit', 'BALL', 'flew', 'far', 'after', 'it', 'was', 'hit']\n"
     ]
    }
   ],
   "source": [
    "import re\n",
    "\n",
    "strs = \"Bob hit a ball, the hit BALL flew far after it was hit.\"\n",
    "words = re.sub(r'[^\\w]', ' ', strs).split()\n",
    "_ = \" r'[^\\w]', ' ' : not word character, 단어 문자가 아닌 모든 문자를 ' ' 으로 치환  \"\n",
    "print(words)"
   ]
  },
  {
   "cell_type": "code",
   "execution_count": 7,
   "metadata": {
    "ExecuteTime": {
     "end_time": "2021-01-17T20:00:55.426324Z",
     "start_time": "2021-01-17T20:00:55.421040Z"
    },
    "scrolled": true
   },
   "outputs": [
    {
     "name": "stdout",
     "output_type": "stream",
     "text": [
      "abcde\n",
      "['d', 'cc', 'eee', 'bbbb', 'fffff', 'aaaaaaa']\n",
      "['abc', 'cfc', 'cde']\n"
     ]
    }
   ],
   "source": [
    "# (str).join((str) or (list) or (tuple))\n",
    "print(''.join(sorted('edcba')))\n",
    "s = ['aaaaaaa', 'bbbb', 'cc', 'd', 'eee', 'fffff']\n",
    "# s.sort(key=len)\n",
    "print(sorted(s, key=len))\n",
    "ss = ['cde', 'cfc', 'abc']\n",
    "print(sorted(ss, key=lambda x: (x[0], x[-1])))"
   ]
  },
  {
   "cell_type": "markdown",
   "metadata": {},
   "source": [
    "# deque"
   ]
  },
  {
   "cell_type": "code",
   "execution_count": null,
   "metadata": {},
   "outputs": [],
   "source": [
    "from collections import *\n",
    "deq = deque([3,4,5])\n",
    "print(list(deq))\n",
    "deq.appendleft(2)\n",
    "deq.append(6)\n",
    "deq.appendleft(1)\n",
    "print(list(deq))"
   ]
  },
  {
   "cell_type": "code",
   "execution_count": null,
   "metadata": {
    "ExecuteTime": {
     "end_time": "2021-01-15T20:12:56.048712Z",
     "start_time": "2021-01-15T20:12:56.038739Z"
    }
   },
   "outputs": [],
   "source": [
    "from typing import *\n",
    "s = ['2 A', '3 B', '5 B', '1 B', '4 C', '1 A']\n",
    "print(s)\n",
    "print('-'*len(str(s)))\n",
    "print('Normal Sort')\n",
    "print(sorted(s))\n",
    "print('-'*len(str(s)))\n",
    "print(sorted(s, key=lambda x: (x.split()[1], x.split()[0])))\n",
    "def func(x:str) -> List[str]:\n",
    "    return x.split()[1], x.split()[0]\n",
    "s.sort(key=func)\n",
    "print(s)\n",
    "s = ['2 A', '3 B', '5 B', '1 B', '4 C', '1 A']\n",
    "s.sort(key=lambda x: (x.split()[1], x.split()[0]))\n",
    "print(s)"
   ]
  },
  {
   "cell_type": "code",
   "execution_count": null,
   "metadata": {},
   "outputs": [],
   "source": [
    "import re\n",
    "word = re.sub(r'[^\\w]', ' ', (str))"
   ]
  },
  {
   "cell_type": "code",
   "execution_count": null,
   "metadata": {},
   "outputs": [],
   "source": [
    "\n",
    "\n",
    "\n",
    "\n",
    "\n",
    "\n",
    "\n",
    "\n",
    "\n",
    "\n",
    "\n",
    "\n",
    "\n",
    "\n",
    "\n",
    "\n",
    "\n",
    "\n",
    "\n",
    "\n",
    "\n",
    "\n",
    "\n",
    "\n",
    "\n",
    "\n",
    "\n",
    "\n",
    "\n",
    "\n",
    "\n",
    "\n",
    "\n",
    "\n",
    "\n",
    "\n",
    "\n",
    "\n",
    "\n",
    "\n"
   ]
  }
 ],
 "metadata": {
  "kernelspec": {
   "display_name": "Python 3",
   "language": "python",
   "name": "python3"
  },
  "language_info": {
   "codemirror_mode": {
    "name": "ipython",
    "version": 3
   },
   "file_extension": ".py",
   "mimetype": "text/x-python",
   "name": "python",
   "nbconvert_exporter": "python",
   "pygments_lexer": "ipython3",
   "version": "3.7.2"
  },
  "latex_envs": {
   "LaTeX_envs_menu_present": true,
   "autoclose": false,
   "autocomplete": true,
   "bibliofile": "biblio.bib",
   "cite_by": "apalike",
   "current_citInitial": 1,
   "eqLabelWithNumbers": true,
   "eqNumInitial": 1,
   "hotkeys": {
    "equation": "Ctrl-E",
    "itemize": "Ctrl-I"
   },
   "labels_anchors": false,
   "latex_user_defs": false,
   "report_style_numbering": false,
   "user_envs_cfg": false
  },
  "varInspector": {
   "cols": {
    "lenName": 16,
    "lenType": 16,
    "lenVar": 40
   },
   "kernels_config": {
    "python": {
     "delete_cmd_postfix": "",
     "delete_cmd_prefix": "del ",
     "library": "var_list.py",
     "varRefreshCmd": "print(var_dic_list())"
    },
    "r": {
     "delete_cmd_postfix": ") ",
     "delete_cmd_prefix": "rm(",
     "library": "var_list.r",
     "varRefreshCmd": "cat(var_dic_list()) "
    }
   },
   "position": {
    "height": "437px",
    "left": "1293px",
    "right": "20px",
    "top": "120px",
    "width": "359px"
   },
   "types_to_exclude": [
    "module",
    "function",
    "builtin_function_or_method",
    "instance",
    "_Feature"
   ],
   "window_display": false
  }
 },
 "nbformat": 4,
 "nbformat_minor": 4
}
