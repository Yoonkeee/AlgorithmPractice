{
 "cells": [
  {
   "cell_type": "markdown",
   "metadata": {},
   "source": [
    "# 연계 스킬\n",
    "선행 스킬 후 후행 스킬을 사용할 수 있다.  \n",
    "스킬 사용 후 연계되는 후행 스킬이 있다면 중간에 스킬을 중단할 수 없다.  \n",
    "단독 스킬 하나로만 구성된 경우 스킬 구성에서 제외한다.  \n",
    "하나의 스킬은 여러 후행 스킬을 가질 수 있고, 여러 개의 선행 스킬을 가질 수 없다.  \n",
    "스킬이 무한으로 연계되는 경우는 없다.  \n",
    "연계 스킬 구성을 출력하시오.\n",
    "- input  \n",
    "```py\n",
    "h g f w r\n",
    "4\n",
    "h g\n",
    "h f\n",
    "g r\n",
    "g w\n",
    "```\n",
    "- output\n",
    "```py\n",
    "h g r\n",
    "h g w\n",
    "h f\n",
    "```"
   ]
  },
  {
   "cell_type": "code",
   "execution_count": 1,
   "metadata": {
    "ExecuteTime": {
     "end_time": "2021-03-22T11:30:54.520229Z",
     "start_time": "2021-03-22T11:30:54.511515Z"
    }
   },
   "outputs": [
    {
     "name": "stdout",
     "output_type": "stream",
     "text": [
      "h g r\n",
      "h g w\n",
      "h f\n"
     ]
    }
   ],
   "source": [
    "from collections import defaultdict\n",
    "\n",
    "skills = 'h g f w r'\n",
    "combos = 4\n",
    "combo_list = ['h g', 'h f', 'g r', 'g w']\n",
    "expected = ['h g r', 'h g w', 'h f']\n",
    "skills = skills.split(' ')\n",
    "combo_dict = defaultdict(list)\n",
    "\n",
    "combo_list = [c.replace(' ', '') for c in combo_list]\n",
    "for combo in combo_list:\n",
    "    combo_dict[combo[0]].append(combo[1])\n",
    "\n",
    "def dfs(combo):\n",
    "    if combo_dict[combo[-1]]:\n",
    "        for _ in range(len(combo_dict[combo[-1]])):\n",
    "            dfs(combo+' '+combo_dict[combo[-1]].pop(0))\n",
    "    else:\n",
    "        print(combo)\n",
    "\n",
    "dfs(list(combo_dict.keys()).pop(0))"
   ]
  }
 ],
 "metadata": {
  "kernelspec": {
   "display_name": "Python 3",
   "language": "python",
   "name": "python3"
  },
  "language_info": {
   "codemirror_mode": {
    "name": "ipython",
    "version": 3
   },
   "file_extension": ".py",
   "mimetype": "text/x-python",
   "name": "python",
   "nbconvert_exporter": "python",
   "pygments_lexer": "ipython3",
   "version": "3.7.2"
  },
  "varInspector": {
   "cols": {
    "lenName": 16,
    "lenType": 16,
    "lenVar": 40
   },
   "kernels_config": {
    "python": {
     "delete_cmd_postfix": "",
     "delete_cmd_prefix": "del ",
     "library": "var_list.py",
     "varRefreshCmd": "print(var_dic_list())"
    },
    "r": {
     "delete_cmd_postfix": ") ",
     "delete_cmd_prefix": "rm(",
     "library": "var_list.r",
     "varRefreshCmd": "cat(var_dic_list()) "
    }
   },
   "types_to_exclude": [
    "module",
    "function",
    "builtin_function_or_method",
    "instance",
    "_Feature"
   ],
   "window_display": false
  }
 },
 "nbformat": 4,
 "nbformat_minor": 2
}
