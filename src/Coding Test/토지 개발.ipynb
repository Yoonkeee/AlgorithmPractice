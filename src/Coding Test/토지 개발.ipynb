{
 "cells": [
  {
   "cell_type": "markdown",
   "metadata": {},
   "source": [
    "# 토지 개발\n",
    "N개의 연결된 토지가 있을 때, 각 칸에는 토지를 개발함으로써 얻을 수 있는 이익이 적혀있다.  \n",
    "토지를 개발할 때에는 토지를 절반으로 나누어 한쪽 절반에 해당하는 부분을 모두 개발한다.  \n",
    "이 때 개발하는 토지에서 최댓값이 얻을 수 있는 이익이다.  \n",
    "남은 토지의 절반씩 개발하다가 마지막에 한칸이 남으면 해당 칸은 이익을 얻을 수 없으며 개발을 종료한다.  \n",
    "토지 개발을 통해 얻을 수 있는 이익의 합 중 최댓값을 출력하시오.  \n",
    "단, N = 2^M, 1<=M<=10\n",
    "- input  \n",
    "[1, 3, 10, 9, 6, 2, 3, 2]\n",
    "- output  \n",
    "19"
   ]
  },
  {
   "cell_type": "code",
   "execution_count": 1,
   "metadata": {
    "ExecuteTime": {
     "end_time": "2021-03-22T17:03:06.386967Z",
     "start_time": "2021-03-22T17:03:06.381695Z"
    }
   },
   "outputs": [
    {
     "name": "stdout",
     "output_type": "stream",
     "text": [
      "19\n"
     ]
    }
   ],
   "source": [
    "lands = [1, 3, 10, 9, 6, 2, 3, 2]\n",
    "def develope(land, profit=0):\n",
    "    if len(land) == 2:\n",
    "        return profit + max(land)\n",
    "    half = len(land) // 2\n",
    "    return max(develope(land[:half], profit + max(land[half:])),\n",
    "               develope(land[half:], profit + max(land[:half]))\n",
    "              )\n",
    "print(develope(lands))"
   ]
  }
 ],
 "metadata": {
  "kernelspec": {
   "display_name": "Python 3",
   "language": "python",
   "name": "python3"
  },
  "language_info": {
   "codemirror_mode": {
    "name": "ipython",
    "version": 3
   },
   "file_extension": ".py",
   "mimetype": "text/x-python",
   "name": "python",
   "nbconvert_exporter": "python",
   "pygments_lexer": "ipython3",
   "version": "3.7.2"
  },
  "varInspector": {
   "cols": {
    "lenName": 16,
    "lenType": 16,
    "lenVar": 40
   },
   "kernels_config": {
    "python": {
     "delete_cmd_postfix": "",
     "delete_cmd_prefix": "del ",
     "library": "var_list.py",
     "varRefreshCmd": "print(var_dic_list())"
    },
    "r": {
     "delete_cmd_postfix": ") ",
     "delete_cmd_prefix": "rm(",
     "library": "var_list.r",
     "varRefreshCmd": "cat(var_dic_list()) "
    }
   },
   "types_to_exclude": [
    "module",
    "function",
    "builtin_function_or_method",
    "instance",
    "_Feature"
   ],
   "window_display": false
  }
 },
 "nbformat": 4,
 "nbformat_minor": 2
}
