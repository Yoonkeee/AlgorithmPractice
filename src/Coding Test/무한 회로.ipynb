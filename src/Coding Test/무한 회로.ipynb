{
 "cells": [
  {
   "cell_type": "markdown",
   "metadata": {},
   "source": [
    "# 무한 회로\n",
    "\n",
    "N개의 발판이주어지고, 각 발판에는 양의 정수 혹은 음의 정수가 있다.  \n",
    "특정 발판을 밟을 경우 해당 발판에 적혀있는 수만큼 좌 혹은 우로 이동한다.  \n",
    "음수는 왼쪽으로, 양수는 오른쪽으로 이동한다.  \n",
    "N개의 발판 중 아무 곳에서나 발판 밟기를 시작할 수 있다. 발판 밟기를 진행하다 보면 특정 구간을 계속해서 밟기를 반복하는데, 이를 무한 회로라고 한다.  \n",
    "\n",
    "발판이 주어졌을 때 가장 긴 무한 회로의 길이를 출력하시오.  \n",
    "- 발판의 범위를 벗어나는 경우는 고려하지 않는다.  \n",
    "- 무한 회로가 발생하지 않는 경우는 고려하지 않는다.  \n",
    "  \n",
    "Example\n",
    "- input  \n",
    "[3, 5, -1, -2, 4, 4, 3, -2, -3, -2]\n",
    "- output  \n",
    "3"
   ]
  },
  {
   "cell_type": "code",
   "execution_count": 26,
   "metadata": {
    "ExecuteTime": {
     "end_time": "2021-03-19T16:39:42.785757Z",
     "start_time": "2021-03-19T16:39:42.779546Z"
    }
   },
   "outputs": [
    {
     "name": "stdout",
     "output_type": "stream",
     "text": [
      "3\n"
     ]
    }
   ],
   "source": [
    "def iter_loop(board):\n",
    "    def loop(index):\n",
    "#         print(arrived, stack)\n",
    "        if index in stack:\n",
    "            return len(stack)\n",
    "        elif index in arrived:\n",
    "            stack.append(index)\n",
    "        arrived.append(index)\n",
    "        return loop(index + board[index])\n",
    "    # end loop()\n",
    "    max_length = 0\n",
    "    \n",
    "    for i in range(len(board)):\n",
    "        arrived = []\n",
    "        stack = []\n",
    "        max_length = max(max_length, loop(i))\n",
    "    return max_length\n",
    "\n",
    "board = [3, 5, -1, -2, 4, 4, 3, -2, -3, -2]\n",
    "\n",
    "print(iter_loop(board))"
   ]
  }
 ],
 "metadata": {
  "kernelspec": {
   "display_name": "Python 3",
   "language": "python",
   "name": "python3"
  },
  "language_info": {
   "codemirror_mode": {
    "name": "ipython",
    "version": 3
   },
   "file_extension": ".py",
   "mimetype": "text/x-python",
   "name": "python",
   "nbconvert_exporter": "python",
   "pygments_lexer": "ipython3",
   "version": "3.7.2"
  },
  "varInspector": {
   "cols": {
    "lenName": 16,
    "lenType": 16,
    "lenVar": 40
   },
   "kernels_config": {
    "python": {
     "delete_cmd_postfix": "",
     "delete_cmd_prefix": "del ",
     "library": "var_list.py",
     "varRefreshCmd": "print(var_dic_list())"
    },
    "r": {
     "delete_cmd_postfix": ") ",
     "delete_cmd_prefix": "rm(",
     "library": "var_list.r",
     "varRefreshCmd": "cat(var_dic_list()) "
    }
   },
   "types_to_exclude": [
    "module",
    "function",
    "builtin_function_or_method",
    "instance",
    "_Feature"
   ],
   "window_display": false
  }
 },
 "nbformat": 4,
 "nbformat_minor": 2
}
