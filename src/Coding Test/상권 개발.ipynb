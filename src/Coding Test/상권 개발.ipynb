{
 "cells": [
  {
   "cell_type": "markdown",
   "metadata": {},
   "source": [
    "grid|K|result\n",
    "-|-|-\n",
    "[[3,4,5], [2,3,4], [1,2,3]]|1|9\n",
    "[[2,1,1,0,1], [1,2,0,3,0], [0,1,5,1,2], [0,0,1,3,1], [1,2,0,1,1]]|2|16"
   ]
  },
  {
   "cell_type": "code",
   "execution_count": 6,
   "metadata": {
    "ExecuteTime": {
     "end_time": "2021-04-05T18:35:10.848532Z",
     "start_time": "2021-04-05T18:35:10.835697Z"
    }
   },
   "outputs": [
    {
     "name": "stdout",
     "output_type": "stream",
     "text": [
      "expected : 9 , result : 9\n",
      "expected : 16 , result : 16\n"
     ]
    }
   ],
   "source": [
    "def solution(grid, K):\n",
    "    N = len(grid)\n",
    "    new_grid = []\n",
    "    for i in range(0, N-K+1):\n",
    "        for j in range(0, N-K+1):\n",
    "            sums = 0\n",
    "            for m in range(0, K):\n",
    "                for n in range(0, K):\n",
    "                    sums += grid[i+m][j+n]\n",
    "            new_grid.append(sums)\n",
    "    \n",
    "    grid = new_grid\n",
    "    new_grid = []\n",
    "    for i, n in enumerate(grid):\n",
    "        new_grid.append([n, i])\n",
    "    new_grid.sort(reverse=True)\n",
    "    grid = new_grid\n",
    "    \n",
    "    max_val, answer = grid[0][0], 0\n",
    "    N = N-K+1\n",
    "    cur = 0\n",
    "    if K == 1:\n",
    "        K = N\n",
    "        \n",
    "    while True:\n",
    "        for val, i in grid[cur+1:]:\n",
    "            ver = grid[cur][1] % N\n",
    "            hor = abs(grid[cur][1]%N - i%N)\n",
    "            if (grid[cur][0] + val > answer and  # 더 큰 값\n",
    "                ver != i % N and\n",
    "                hor != K-1 and\n",
    "                ver - hor < K):  # 겹치지 않는 것 판단\n",
    "                answer = grid[cur][0] + val\n",
    "        # end for\n",
    "        if cur + 1 == len(grid) or grid[cur][0] + grid[cur+1][0] <= max_val:\n",
    "            break\n",
    "        else:\n",
    "            cur += 1\n",
    "    # end while True\n",
    "    return answer\n",
    "    \n",
    "    \n",
    "print('expected : 9 , result :', solution([[3,4,5], [2,3,4], [1,2,3]], 1))\n",
    "print('expected : 16 , result :', solution([[2,1,1,0,1], [1,2,0,3,0], [0,1,5,1,2], \n",
    "                 [0,0,1,3,1], [1,2,0,1,1]], 2))"
   ]
  }
 ],
 "metadata": {
  "kernelspec": {
   "display_name": "Python 3",
   "language": "python",
   "name": "python3"
  },
  "language_info": {
   "codemirror_mode": {
    "name": "ipython",
    "version": 3
   },
   "file_extension": ".py",
   "mimetype": "text/x-python",
   "name": "python",
   "nbconvert_exporter": "python",
   "pygments_lexer": "ipython3",
   "version": "3.7.2"
  },
  "varInspector": {
   "cols": {
    "lenName": 16,
    "lenType": 16,
    "lenVar": 40
   },
   "kernels_config": {
    "python": {
     "delete_cmd_postfix": "",
     "delete_cmd_prefix": "del ",
     "library": "var_list.py",
     "varRefreshCmd": "print(var_dic_list())"
    },
    "r": {
     "delete_cmd_postfix": ") ",
     "delete_cmd_prefix": "rm(",
     "library": "var_list.r",
     "varRefreshCmd": "cat(var_dic_list()) "
    }
   },
   "types_to_exclude": [
    "module",
    "function",
    "builtin_function_or_method",
    "instance",
    "_Feature"
   ],
   "window_display": false
  }
 },
 "nbformat": 4,
 "nbformat_minor": 2
}
