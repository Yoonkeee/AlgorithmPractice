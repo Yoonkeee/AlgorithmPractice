{
 "cells": [
  {
   "cell_type": "markdown",
   "metadata": {},
   "source": [
    "needs|r|result\n",
    "-|-|-\n",
    "[[1,0,0],[1,1,0],[1,1,0],[1,0,1],[1,1,0],[0,1,1]]|2|4"
   ]
  },
  {
   "cell_type": "code",
   "execution_count": 51,
   "metadata": {
    "ExecuteTime": {
     "end_time": "2021-04-04T19:12:36.447389Z",
     "start_time": "2021-04-04T19:12:36.432257Z"
    }
   },
   "outputs": [
    {
     "name": "stdout",
     "output_type": "stream",
     "text": [
      "[[0], [0, 1], [0, 1], [0, 2], [0, 1], [1, 2]]\n",
      "[0, 1] [[0, 1], [0, 1], [0, 1]]\n",
      "[0, 2] [[0, 2]]\n",
      "[1, 2] [[1, 2]]\n",
      "expected : 4, result : 3\n"
     ]
    }
   ],
   "source": [
    "import collections\n",
    "\n",
    "\n",
    "def solution(needs, r):\n",
    "    new_needs = []\n",
    "    parts_size = len(needs[0])\n",
    "    for p in needs:\n",
    "        li = []\n",
    "        for i, n in enumerate(p):\n",
    "            if n:\n",
    "                li.append(i)\n",
    "        new_needs.append(li)\n",
    "    needs = new_needs\n",
    "    \n",
    "    def dfs(robots, remaining):\n",
    "        if len(robots) == r:\n",
    "            parts = needs[:]\n",
    "            for robot in robots:\n",
    "                parts = [p for p in parts if robot in p]\n",
    "            print(robots, parts)\n",
    "            return len(parts)\n",
    "        result = 0\n",
    "        for i, n in enumerate(remaining):\n",
    "            if n not in robots:\n",
    "                result = max(result, dfs(robots + [n], remaining[i:]))\n",
    "        return result\n",
    "    print(needs)\n",
    "    return dfs([], list(range(parts_size)))\n",
    "\n",
    "\n",
    "print('expected : 4, result :', solution([[1,0,0],[1,1,0],\n",
    "                                          [1,1,0],[1,0,1],\n",
    "                                          [1,1,0],[0,1,1]], 2))"
   ]
  }
 ],
 "metadata": {
  "kernelspec": {
   "display_name": "Python 3",
   "language": "python",
   "name": "python3"
  },
  "language_info": {
   "codemirror_mode": {
    "name": "ipython",
    "version": 3
   },
   "file_extension": ".py",
   "mimetype": "text/x-python",
   "name": "python",
   "nbconvert_exporter": "python",
   "pygments_lexer": "ipython3",
   "version": "3.7.2"
  },
  "varInspector": {
   "cols": {
    "lenName": 16,
    "lenType": 16,
    "lenVar": 40
   },
   "kernels_config": {
    "python": {
     "delete_cmd_postfix": "",
     "delete_cmd_prefix": "del ",
     "library": "var_list.py",
     "varRefreshCmd": "print(var_dic_list())"
    },
    "r": {
     "delete_cmd_postfix": ") ",
     "delete_cmd_prefix": "rm(",
     "library": "var_list.r",
     "varRefreshCmd": "cat(var_dic_list()) "
    }
   },
   "types_to_exclude": [
    "module",
    "function",
    "builtin_function_or_method",
    "instance",
    "_Feature"
   ],
   "window_display": false
  }
 },
 "nbformat": 4,
 "nbformat_minor": 2
}
