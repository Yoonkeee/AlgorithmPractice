{
 "cells": [
  {
   "cell_type": "markdown",
   "metadata": {},
   "source": [
    "gift_cards|wants|result\n",
    "-|-|-\n",
    "[4,5,3,2,1]|[2,4,4,5,1]|1\n",
    "[5,4,5,4,5]|[1,2,3,5,4]|3"
   ]
  },
  {
   "cell_type": "code",
   "execution_count": 1,
   "metadata": {
    "ExecuteTime": {
     "end_time": "2021-04-04T15:31:47.448626Z",
     "start_time": "2021-04-04T15:31:47.441879Z"
    }
   },
   "outputs": [
    {
     "name": "stdout",
     "output_type": "stream",
     "text": [
      "expected : 1 , result : 1\n",
      "expected : 3 , result : 3\n"
     ]
    }
   ],
   "source": [
    "def solution(gift_cards, wants):\n",
    "    gift_cards.sort()\n",
    "    wants.sort(reverse=True)\n",
    "    while gift_cards:\n",
    "        gift = gift_cards.pop()\n",
    "        if gift in wants:\n",
    "            wants.remove(gift)\n",
    "    return len(wants)\n",
    "\n",
    "\n",
    "print('expected : 1 , result :', solution([4,5,3,2,1], [2,4,4,5,1]))\n",
    "print('expected : 3 , result :', solution([5,4,5,4,5], [1,2,3,5,4]))"
   ]
  }
 ],
 "metadata": {
  "kernelspec": {
   "display_name": "Python 3",
   "language": "python",
   "name": "python3"
  },
  "language_info": {
   "codemirror_mode": {
    "name": "ipython",
    "version": 3
   },
   "file_extension": ".py",
   "mimetype": "text/x-python",
   "name": "python",
   "nbconvert_exporter": "python",
   "pygments_lexer": "ipython3",
   "version": "3.7.2"
  },
  "varInspector": {
   "cols": {
    "lenName": 16,
    "lenType": 16,
    "lenVar": 40
   },
   "kernels_config": {
    "python": {
     "delete_cmd_postfix": "",
     "delete_cmd_prefix": "del ",
     "library": "var_list.py",
     "varRefreshCmd": "print(var_dic_list())"
    },
    "r": {
     "delete_cmd_postfix": ") ",
     "delete_cmd_prefix": "rm(",
     "library": "var_list.r",
     "varRefreshCmd": "cat(var_dic_list()) "
    }
   },
   "types_to_exclude": [
    "module",
    "function",
    "builtin_function_or_method",
    "instance",
    "_Feature"
   ],
   "window_display": false
  }
 },
 "nbformat": 4,
 "nbformat_minor": 2
}
