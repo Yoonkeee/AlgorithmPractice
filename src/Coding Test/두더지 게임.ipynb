{
 "cells": [
  {
   "cell_type": "markdown",
   "metadata": {},
   "source": [
    "# 두더지 게임\n",
    "두더지 게임판은 NxN 크기이며 N^2마리의 두더지가 있다.  \n",
    "두더지는 특정 시간에 올라와서 1초동안 올라와 있는다.  \n",
    "1초에 1번만 두더지를 칠 수 있고, 해당 두더지의 점수를 얻을 수 있다.\n",
    "- Example  \n",
    "두더지 1 : 1초, 3초, 5초 – 점수 1  \n",
    "두더지 2 : 2초, 4초 – 점수 2  \n",
    "두더지 3 : 1초, 2초 – 점수 3  \n",
    "두더지 4 : 3초 – 점수 4  \n",
    "\n",
    "이렇게 되면 얻게 되는 점수는 3 + 3 + 4 + 2 + 1 = 13점이 되고, 이것이 게임을 통해 얻을 수 있는 최대 점수이다.  \n",
    "게임을 통해 얻을 수 있는 점수의 최댓값을 출력하시오.  \n",
    "첫번째 줄에는 게임 판의 크기 N, 그 다음 N^2마리의 두더지 정보를 입력한다.  \n",
    "두더지의 점수, 두더지가 올라오는 횟수, 두더지가 올라오는 시간 ... 으로 입력된다.  \n",
    "\n",
    "- input  \n",
    "```py\n",
    "2\n",
    "1 3 1 3 5\n",
    "2 2 2 4\n",
    "3 2 1 2\n",
    "4 1 3\n",
    "```\n",
    "- output  \n",
    "```py\n",
    "13\n",
    "```"
   ]
  },
  {
   "cell_type": "code",
   "execution_count": 25,
   "metadata": {
    "ExecuteTime": {
     "end_time": "2021-03-22T17:27:25.258636Z",
     "start_time": "2021-03-22T17:27:25.251683Z"
    }
   },
   "outputs": [
    {
     "name": "stdout",
     "output_type": "stream",
     "text": [
      "13\n"
     ]
    }
   ],
   "source": [
    "from collections import defaultdict\n",
    "def doo_the_g():\n",
    "    N = 4\n",
    "    doothegs = [1,3,1,3,5], [2,2,2,4], [3,2,1,2], [4,1,3]\n",
    "    dootheg_dict = defaultdict(list)\n",
    "    for doo in doothegs:\n",
    "        doo_number = doo.pop(0)\n",
    "        doo_times = doo.pop(0)\n",
    "        for _ in range(doo_times):\n",
    "            dootheg_dict[doo_number].append(doo.pop(0))\n",
    "    result = 0\n",
    "    max_time = max([max(t) for t in dootheg_dict.values()])\n",
    "    for time in range(1, max_time+1):\n",
    "        result += max([score for score in dootheg_dict.keys() if time in dootheg_dict[score]])\n",
    "    \n",
    "    return result\n",
    "\n",
    "print(doo_the_g())"
   ]
  }
 ],
 "metadata": {
  "kernelspec": {
   "display_name": "Python 3",
   "language": "python",
   "name": "python3"
  },
  "language_info": {
   "codemirror_mode": {
    "name": "ipython",
    "version": 3
   },
   "file_extension": ".py",
   "mimetype": "text/x-python",
   "name": "python",
   "nbconvert_exporter": "python",
   "pygments_lexer": "ipython3",
   "version": "3.7.2"
  },
  "varInspector": {
   "cols": {
    "lenName": 16,
    "lenType": 16,
    "lenVar": 40
   },
   "kernels_config": {
    "python": {
     "delete_cmd_postfix": "",
     "delete_cmd_prefix": "del ",
     "library": "var_list.py",
     "varRefreshCmd": "print(var_dic_list())"
    },
    "r": {
     "delete_cmd_postfix": ") ",
     "delete_cmd_prefix": "rm(",
     "library": "var_list.r",
     "varRefreshCmd": "cat(var_dic_list()) "
    }
   },
   "types_to_exclude": [
    "module",
    "function",
    "builtin_function_or_method",
    "instance",
    "_Feature"
   ],
   "window_display": false
  }
 },
 "nbformat": 4,
 "nbformat_minor": 2
}
