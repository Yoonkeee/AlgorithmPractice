{
 "cells": [
  {
   "cell_type": "markdown",
   "metadata": {},
   "source": [
    "### 개구리 점프\n",
    "개구리 한 마리가 일렬로 놓인 징검다리 위를 뛰어가려고 합니다. 첫 번째 위치의 징검다리 위에서 시작하여 가장 마지막 징검다리로 도달하려고 합니다.   \n",
    "각 징검다리 위에 쓰여있는 숫자만큼만 건너뛸 수 있습니다.   \n",
    "각 징검다리에 쓰여 는 숫자가 담긴 배열이 입력으로 주어질 때, 개구리가 마지막 징검다리에 도착하기 위한 최소 점프 횟수를 반환하는 함수를 완성해 주세요.   \n",
    "만약 마지막 징검다리에 도착할 수 없다면 -1을 반환해 주세요.\n",
    "#### 제한사항\n",
    "징검다리의 개수는 100,000 이하의 자연수입니다.  \n",
    "징검다리에 적힌 숫자는 0 이상 100 이하인 정수입니다.\n",
    "\n",
    "#### 입출력의 예\n",
    "\n",
    "|nums|result|\n",
    "|:------------------------------|:--|\n",
    "|[4, 1, 2, 3, 1, 0, 5]|3|\n",
    "\n",
    "#### 입출력 예 설명\n",
    "0번째 징검다리에서 **앞쪽**으로 4칸을 뛰어 4번째 징검다리에 도착   \n",
    "4번째 징검다리에서 **뒤쪽**으로 1칸을 뛰어 3번째 징검다리에 도착   \n",
    "3번째 징검다리에서 **앞쪽**으로 3칸을 뛰어 마지막 징검다리에 도착   \n",
    "최소 점프 횟수는 3"
   ]
  },
  {
   "cell_type": "code",
   "execution_count": 1,
   "metadata": {},
   "outputs": [
    {
     "name": "stdout",
     "output_type": "stream",
     "text": [
      "3\n"
     ]
    }
   ],
   "source": [
    "def jump_available(nums, dest_loc, direction):\n",
    "    TOT_LENGTH = len(nums)\n",
    "    if direction == 'RIGHT':\n",
    "        if dest_loc >= TOT_LENGTH or nums[dest_loc] == 0:\n",
    "            return False\n",
    "        else:\n",
    "            return True\n",
    "\n",
    "    elif direction == 'LEFT':\n",
    "        if dest_loc <= 0 or nums[dest_loc] == 0:\n",
    "            return False\n",
    "        else:\n",
    "            return True\n",
    "\n",
    "def solution(nums):\n",
    "    def loop(nums, curr_loc, visited):\n",
    "#         print('curr_loc : {} , visited : {}'.format(curr_loc, visited))  # log\n",
    "        if curr_loc == len(nums)-1:\n",
    "            return len(visited)-1\n",
    "        right_destination = curr_loc + nums[curr_loc]\n",
    "        left_destination = curr_loc - nums[curr_loc]\n",
    "        \n",
    "        if right_destination not in visited:  # already visited?\n",
    "            right_available = jump_available(nums, right_destination, 'RIGHT')\n",
    "        else:\n",
    "            right_available = False\n",
    "        if left_destination not in visited:\n",
    "            left_available = jump_available(nums, left_destination, 'LEFT')\n",
    "        else:\n",
    "            left_available = False\n",
    "\n",
    "        if right_available and left_available:  # jump both sides\n",
    "            rigt_jumped = loop(nums, right_destination, visited+[right_destination])\n",
    "            left_jumped = loop(nums, left_destination, visited+[left_destination])\n",
    "            return min(i for i in [right_jumped, left_jumped] if i>0)\n",
    "        elif right_available:  # jump right\n",
    "            right_jumped = loop(nums, right_destination, visited+[right_destination])\n",
    "            return right_jumped\n",
    "        elif left_available:  # jump left\n",
    "            left_jumped = loop(nums, left_destination, visited+[left_destination])\n",
    "            return left_jumped\n",
    "        else:  # can't jump either direction\n",
    "            return -1\n",
    "    # end loop()\n",
    "    return loop(nums, 0, [0])\n",
    "\n",
    "nums = [4,1,2,3,1,0,5]\n",
    "print(solution(nums))"
   ]
  }
 ],
 "metadata": {
  "kernelspec": {
   "display_name": "Python 3",
   "language": "python",
   "name": "python3"
  },
  "language_info": {
   "codemirror_mode": {
    "name": "ipython",
    "version": 3
   },
   "file_extension": ".py",
   "mimetype": "text/x-python",
   "name": "python",
   "nbconvert_exporter": "python",
   "pygments_lexer": "ipython3",
   "version": "3.7.2"
  },
  "varInspector": {
   "cols": {
    "lenName": 16,
    "lenType": 16,
    "lenVar": 40
   },
   "kernels_config": {
    "python": {
     "delete_cmd_postfix": "",
     "delete_cmd_prefix": "del ",
     "library": "var_list.py",
     "varRefreshCmd": "print(var_dic_list())"
    },
    "r": {
     "delete_cmd_postfix": ") ",
     "delete_cmd_prefix": "rm(",
     "library": "var_list.r",
     "varRefreshCmd": "cat(var_dic_list()) "
    }
   },
   "types_to_exclude": [
    "module",
    "function",
    "builtin_function_or_method",
    "instance",
    "_Feature"
   ],
   "window_display": false
  }
 },
 "nbformat": 4,
 "nbformat_minor": 4
}
