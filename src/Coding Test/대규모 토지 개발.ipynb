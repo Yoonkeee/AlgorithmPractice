{
 "cells": [
  {
   "cell_type": "markdown",
   "metadata": {},
   "source": [
    "# 대규모 토지 개발\n",
    "NxN 크기의 토지를 개발하려 한다. (N=2^a, a=2k, k=정수)  \n",
    "토지의 각 칸에는 얻을 수 있는 이익이 적혀 있으며, 아래와 같은 형태로 개발한다.  \n",
    "- 토지를 가로 혹은 세로로 절반으로 나누어 한쪽 절반에 해당하는 부분을 모두 개발한다.\n",
    "- 특정 부분을 개발할 때 얻을 수 있는 이익은 해당 부분의 이익 중 최댓값이다.  \n",
    "- 남은 칸이 1개일 경우 이익을 얻을 수 없으며 개발을 종료한다.  \n",
    "\n",
    "Example  \n",
    "  \n",
    ".|.|.|.\n",
    "-|-|-|-\n",
    "1|3|4|5\n",
    "6|2|9|9\n",
    "4|3|10|5\n",
    "5|2|8|6\n",
    "\n",
    "->  \n",
    "\n",
    ".|.\n",
    "-|-\n",
    "1|3  \n",
    "6|2  \n",
    "4|3  \n",
    "5|2  \n",
    "\n",
    "->  \n",
    "\n",
    ".|.\n",
    "-|-\n",
    "1|3\n",
    "6|2\n",
    "\n",
    "->  \n",
    "\n",
    ".|.\n",
    "-|-\n",
    "1|3\n",
    "\n",
    "\n",
    "- input  \n",
    "```python\n",
    "[[1, 3, 4, 5],\n",
    " [6, 2, 9, 9],\n",
    " [4, 3,10, 5],\n",
    " [5, 2, 8, 6]]\n",
    "```\n",
    "- output  \n",
    "34"
   ]
  },
  {
   "cell_type": "code",
   "execution_count": 152,
   "metadata": {
    "ExecuteTime": {
     "end_time": "2021-03-20T19:11:52.852149Z",
     "start_time": "2021-03-20T19:11:52.839463Z"
    }
   },
   "outputs": [
    {
     "name": "stdout",
     "output_type": "stream",
     "text": [
      "34\n"
     ]
    }
   ],
   "source": [
    "def profit(ground):\n",
    "    N = len(ground)\n",
    "    ground = [x for y in ground for x in y]\n",
    "    def loop(ground, profit=0, width=N):\n",
    "        if len(ground) == N:\n",
    "            return profit + max(ground[:2]) + max(ground[2:])\n",
    "        else:\n",
    "            half = len(ground) // 2\n",
    "            left_ground = [x for i,x in enumerate(ground) if i%width < width//2]\n",
    "            right_ground = [x for i,x in enumerate(ground) if i%width >= width//2]\n",
    "#             print(f'profit : {profit}')\n",
    "#             print(f'left : {left_ground}')\n",
    "            left = loop(left_ground, profit + max(right_ground), width//2)\n",
    "\n",
    "#             print(f'right : {right_ground}')\n",
    "            right = loop(right_ground, profit + max(left_ground), width//2)\n",
    "                \n",
    "#             print(f'top : {ground[:half]}')\n",
    "            top = loop(ground[:half], profit + max(ground[half:]))\n",
    "            \n",
    "#             print(f'bottom : {ground[half:]}')\n",
    "            bottom = loop(ground[half:], profit + max(ground[:half]))\n",
    "            \n",
    "            max_p = max(top, bottom, left, right)\n",
    "            return max_p\n",
    "    # end loop()\n",
    "    return loop(ground)\n",
    "\n",
    "\n",
    "ground = [[1, 3, 4, 5],\n",
    "          [6, 2, 9, 9],\n",
    "          [4, 3,10, 5],\n",
    "          [5, 2, 8, 6]]\n",
    "print(profit(ground))"
   ]
  }
 ],
 "metadata": {
  "kernelspec": {
   "display_name": "Python 3",
   "language": "python",
   "name": "python3"
  },
  "language_info": {
   "codemirror_mode": {
    "name": "ipython",
    "version": 3
   },
   "file_extension": ".py",
   "mimetype": "text/x-python",
   "name": "python",
   "nbconvert_exporter": "python",
   "pygments_lexer": "ipython3",
   "version": "3.7.2"
  },
  "varInspector": {
   "cols": {
    "lenName": 16,
    "lenType": 16,
    "lenVar": 40
   },
   "kernels_config": {
    "python": {
     "delete_cmd_postfix": "",
     "delete_cmd_prefix": "del ",
     "library": "var_list.py",
     "varRefreshCmd": "print(var_dic_list())"
    },
    "r": {
     "delete_cmd_postfix": ") ",
     "delete_cmd_prefix": "rm(",
     "library": "var_list.r",
     "varRefreshCmd": "cat(var_dic_list()) "
    }
   },
   "types_to_exclude": [
    "module",
    "function",
    "builtin_function_or_method",
    "instance",
    "_Feature"
   ],
   "window_display": false
  }
 },
 "nbformat": 4,
 "nbformat_minor": 2
}
