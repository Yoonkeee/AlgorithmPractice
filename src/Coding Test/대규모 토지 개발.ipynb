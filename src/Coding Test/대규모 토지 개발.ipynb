{
 "cells": [
  {
   "cell_type": "markdown",
   "metadata": {},
   "source": [
    "# 대규모 토지 개발\n",
    "NxN 크기의 토지를 개발하려 한다. (N=2^a, a=2k, k=정수)  \n",
    "토지의 각 칸에는 얻을 수 있는 이익이 적혀 있으며, 아래와 같은 형태로 개발한다.  \n",
    "- 토지를 가로 혹은 세로로 절반으로 나누어 한쪽 절반에 해당하는 부분을 모두 개발한다.\n",
    "- 특정 부분을 개발할 때 얻을 수 있는 이익은 해당 부분의 이익 중 최댓값이다.  \n",
    "- 남은 칸이 1개일 경우 이익을 얻을 수 없으며 개발을 종료한다.  \n",
    "\n",
    "Example  \n",
    "  \n",
    ".|.|.|.\n",
    "-|-|-|-\n",
    "1|3|4|5\n",
    "6|2|9|9\n",
    "4|3|10|5\n",
    "5|2|8|6\n",
    "\n",
    "->  \n",
    "\n",
    ".|.\n",
    "-|-\n",
    "1|3  \n",
    "6|2  \n",
    "4|3  \n",
    "5|2  \n",
    "\n",
    "->  \n",
    "\n",
    ".|.\n",
    "-|-\n",
    "1|3\n",
    "6|2\n",
    "\n",
    "->  \n",
    "\n",
    ".|.\n",
    "-|-\n",
    "1|3\n",
    "\n",
    "\n",
    "- input  \n",
    "```python\n",
    "[[1, 3, 4, 5],\n",
    " [6, 2, 9, 9],\n",
    " [4, 3,10, 5],\n",
    " [5, 2, 8, 6]]\n",
    "```\n",
    "- output  \n",
    "34"
   ]
  },
  {
   "cell_type": "code",
   "execution_count": 57,
   "metadata": {
    "ExecuteTime": {
     "end_time": "2021-03-19T18:49:00.240379Z",
     "start_time": "2021-03-19T18:49:00.204005Z"
    }
   },
   "outputs": [
    {
     "name": "stdout",
     "output_type": "stream",
     "text": [
      "else : [[1, 3, 4, 5], [6, 2, 9, 9], [4, 3, 10, 5], [5, 2, 8, 6]], ver : 2, hor : 2\n",
      "else : [[1, 3, 4, 5], [6, 2, 9, 9]], ver : 2, hor : 1\n",
      "hor : 1, ver : 0, ground : [[1, 3, 4, 5]]\n",
      "2 []\n",
      "hor : 1, ver : 0, ground : []\n",
      "2 []\n"
     ]
    },
    {
     "ename": "ValueError",
     "evalue": "max() arg is an empty sequence",
     "output_type": "error",
     "traceback": [
      "\u001b[0;31m---------------------------------------------------------------------------\u001b[0m",
      "\u001b[0;31mValueError\u001b[0m                                Traceback (most recent call last)",
      "\u001b[0;32m<ipython-input-57-5ee2867491c3>\u001b[0m in \u001b[0;36m<module>\u001b[0;34m\u001b[0m\n\u001b[1;32m     29\u001b[0m           \u001b[0;34m[\u001b[0m\u001b[0;36m4\u001b[0m\u001b[0;34m,\u001b[0m \u001b[0;36m3\u001b[0m\u001b[0;34m,\u001b[0m\u001b[0;36m10\u001b[0m\u001b[0;34m,\u001b[0m \u001b[0;36m5\u001b[0m\u001b[0;34m]\u001b[0m\u001b[0;34m,\u001b[0m\u001b[0;34m\u001b[0m\u001b[0;34m\u001b[0m\u001b[0m\n\u001b[1;32m     30\u001b[0m           [5, 2, 8, 6]]\n\u001b[0;32m---> 31\u001b[0;31m \u001b[0mprint\u001b[0m\u001b[0;34m(\u001b[0m\u001b[0mprofit\u001b[0m\u001b[0;34m(\u001b[0m\u001b[0mground\u001b[0m\u001b[0;34m)\u001b[0m\u001b[0;34m)\u001b[0m\u001b[0;34m\u001b[0m\u001b[0;34m\u001b[0m\u001b[0m\n\u001b[0m",
      "\u001b[0;32m<ipython-input-57-5ee2867491c3>\u001b[0m in \u001b[0;36mprofit\u001b[0;34m(ground)\u001b[0m\n\u001b[1;32m     22\u001b[0m             )\n\u001b[1;32m     23\u001b[0m     \u001b[0;31m# end loop()\u001b[0m\u001b[0;34m\u001b[0m\u001b[0;34m\u001b[0m\u001b[0;34m\u001b[0m\u001b[0m\n\u001b[0;32m---> 24\u001b[0;31m     \u001b[0;32mreturn\u001b[0m \u001b[0mloop\u001b[0m\u001b[0;34m(\u001b[0m\u001b[0mground\u001b[0m\u001b[0;34m)\u001b[0m\u001b[0;34m\u001b[0m\u001b[0;34m\u001b[0m\u001b[0m\n\u001b[0m\u001b[1;32m     25\u001b[0m \u001b[0;34m\u001b[0m\u001b[0m\n\u001b[1;32m     26\u001b[0m \u001b[0;34m\u001b[0m\u001b[0m\n",
      "\u001b[0;32m<ipython-input-57-5ee2867491c3>\u001b[0m in \u001b[0;36mloop\u001b[0;34m(ground, hor, ver, profit)\u001b[0m\n\u001b[1;32m     18\u001b[0m             \u001b[0mprint\u001b[0m\u001b[0;34m(\u001b[0m\u001b[0;34mf'else : {ground}, ver : {ver}, hor : {hor}'\u001b[0m\u001b[0;34m)\u001b[0m\u001b[0;34m\u001b[0m\u001b[0;34m\u001b[0m\u001b[0m\n\u001b[1;32m     19\u001b[0m             return max(\n\u001b[0;32m---> 20\u001b[0;31m                 [loop(ground[:hor], hor, ver*2, profit+max(map(max, ground[:hor]))),\n\u001b[0m\u001b[1;32m     21\u001b[0m                  loop(ground[hor:], hor, ver*2, profit+max(map(max, ground[:hor])))]\n\u001b[1;32m     22\u001b[0m             )\n",
      "\u001b[0;32m<ipython-input-57-5ee2867491c3>\u001b[0m in \u001b[0;36mloop\u001b[0;34m(ground, hor, ver, profit)\u001b[0m\n\u001b[1;32m     18\u001b[0m             \u001b[0mprint\u001b[0m\u001b[0;34m(\u001b[0m\u001b[0;34mf'else : {ground}, ver : {ver}, hor : {hor}'\u001b[0m\u001b[0;34m)\u001b[0m\u001b[0;34m\u001b[0m\u001b[0;34m\u001b[0m\u001b[0m\n\u001b[1;32m     19\u001b[0m             return max(\n\u001b[0;32m---> 20\u001b[0;31m                 [loop(ground[:hor], hor, ver*2, profit+max(map(max, ground[:hor]))),\n\u001b[0m\u001b[1;32m     21\u001b[0m                  loop(ground[hor:], hor, ver*2, profit+max(map(max, ground[:hor])))]\n\u001b[1;32m     22\u001b[0m             )\n",
      "\u001b[0;32m<ipython-input-57-5ee2867491c3>\u001b[0m in \u001b[0;36mloop\u001b[0;34m(ground, hor, ver, profit)\u001b[0m\n\u001b[1;32m      7\u001b[0m             \u001b[0mprint\u001b[0m\u001b[0;34m(\u001b[0m\u001b[0;34mf'hor : {hor}, ver : {ver}, ground : {ground}'\u001b[0m\u001b[0;34m)\u001b[0m\u001b[0;34m\u001b[0m\u001b[0;34m\u001b[0m\u001b[0m\n\u001b[1;32m      8\u001b[0m             \u001b[0mprint\u001b[0m\u001b[0;34m(\u001b[0m\u001b[0;36m2\u001b[0m\u001b[0;34m,\u001b[0m \u001b[0mlist\u001b[0m\u001b[0;34m(\u001b[0m\u001b[0;34m*\u001b[0m\u001b[0mground\u001b[0m\u001b[0;34m)\u001b[0m\u001b[0;34m[\u001b[0m\u001b[0;34m:\u001b[0m\u001b[0mver\u001b[0m\u001b[0;34m]\u001b[0m\u001b[0;34m)\u001b[0m\u001b[0;34m\u001b[0m\u001b[0;34m\u001b[0m\u001b[0m\n\u001b[0;32m----> 9\u001b[0;31m             return max([loop(list(*ground)[:ver], hor, ver, profit+max(list(*ground)[ver:])),\n\u001b[0m\u001b[1;32m     10\u001b[0m                         loop(list(*ground)[ver:], hor, ver, profit+max(list(*ground)[:ver]))]\n\u001b[1;32m     11\u001b[0m             )\n",
      "\u001b[0;32m<ipython-input-57-5ee2867491c3>\u001b[0m in \u001b[0;36mloop\u001b[0;34m(ground, hor, ver, profit)\u001b[0m\n\u001b[1;32m      7\u001b[0m             \u001b[0mprint\u001b[0m\u001b[0;34m(\u001b[0m\u001b[0;34mf'hor : {hor}, ver : {ver}, ground : {ground}'\u001b[0m\u001b[0;34m)\u001b[0m\u001b[0;34m\u001b[0m\u001b[0;34m\u001b[0m\u001b[0m\n\u001b[1;32m      8\u001b[0m             \u001b[0mprint\u001b[0m\u001b[0;34m(\u001b[0m\u001b[0;36m2\u001b[0m\u001b[0;34m,\u001b[0m \u001b[0mlist\u001b[0m\u001b[0;34m(\u001b[0m\u001b[0;34m*\u001b[0m\u001b[0mground\u001b[0m\u001b[0;34m)\u001b[0m\u001b[0;34m[\u001b[0m\u001b[0;34m:\u001b[0m\u001b[0mver\u001b[0m\u001b[0;34m]\u001b[0m\u001b[0;34m)\u001b[0m\u001b[0;34m\u001b[0m\u001b[0;34m\u001b[0m\u001b[0m\n\u001b[0;32m----> 9\u001b[0;31m             return max([loop(list(*ground)[:ver], hor, ver, profit+max(list(*ground)[ver:])),\n\u001b[0m\u001b[1;32m     10\u001b[0m                         loop(list(*ground)[ver:], hor, ver, profit+max(list(*ground)[:ver]))]\n\u001b[1;32m     11\u001b[0m             )\n",
      "\u001b[0;31mValueError\u001b[0m: max() arg is an empty sequence"
     ]
    }
   ],
   "source": [
    "def profit(ground):\n",
    "    def loop(ground, hor=0, ver=0, profit=0):\n",
    "        if len(ground) == 1 and type(ground[0]) == int:\n",
    "            return profit\n",
    "        if hor == 1:\n",
    "            ver = len(ground) // 2\n",
    "            print(f'hor : {hor}, ver : {ver}, ground : {ground}')\n",
    "            print(2, list(*ground)[:ver])\n",
    "            return max([loop(list(*ground)[:ver], hor, ver, profit+max(list(*ground)[ver:])),\n",
    "                        loop(list(*ground)[ver:], hor, ver, profit+max(list(*ground)[:ver]))]\n",
    "            )\n",
    "        elif ver == 1:\n",
    "            pass\n",
    "        else:\n",
    "            ground_inverse = list(map(list, zip(*ground[:])))\n",
    "            hor = len(ground) // 2\n",
    "            ver = len(ground_inverse) // 2\n",
    "            print(f'else : {ground}, ver : {ver}, hor : {hor}')\n",
    "            return max(\n",
    "                [loop(ground[:hor], hor, ver*2, profit+max(map(max, ground[:hor]))),\n",
    "                 loop(ground[hor:], hor, ver*2, profit+max(map(max, ground[:hor])))]\n",
    "            )\n",
    "    # end loop()\n",
    "    return loop(ground)\n",
    "\n",
    "\n",
    "ground = [[1, 3, 4, 5],\n",
    "          [6, 2, 9, 9],\n",
    "          [4, 3,10, 5],\n",
    "          [5, 2, 8, 6]]\n",
    "print(profit(ground))"
   ]
  },
  {
   "cell_type": "code",
   "execution_count": 43,
   "metadata": {
    "ExecuteTime": {
     "end_time": "2021-03-19T18:45:19.388973Z",
     "start_time": "2021-03-19T18:45:19.383624Z"
    }
   },
   "outputs": [
    {
     "name": "stdout",
     "output_type": "stream",
     "text": [
      "19\n",
      "[[1, 4, 7], [2, 5, 8], [19, 6, 9]]\n",
      "[[1, 2, 19], [4, 5, 6], [7, 8, 9]]\n",
      "[1, 2, 19] [4, 5, 6] [7, 8, 9]\n",
      "['a', 'b', 'c', 'd'] e\n"
     ]
    }
   ],
   "source": [
    "mylist = [[1, 2, 19], [4, 5, 6], [7, 8, 9]]\n",
    "print(max(map(max,*mylist)))\n",
    "new_list = list(map(list, zip(*mylist)))\n",
    "print(new_list)\n",
    "print(mylist)\n",
    "print(*mylist)\n",
    "s = 'abcde'\n",
    "*ss, sss = s\n",
    "print(ss, sss)"
   ]
  },
  {
   "cell_type": "code",
   "execution_count": 49,
   "metadata": {
    "ExecuteTime": {
     "end_time": "2021-03-19T18:46:20.989458Z",
     "start_time": "2021-03-19T18:46:20.985611Z"
    }
   },
   "outputs": [
    {
     "name": "stdout",
     "output_type": "stream",
     "text": [
      "[1, 2, 3, 4, 5]\n",
      "[1, 2, 3, 4, 5]\n"
     ]
    }
   ],
   "source": [
    "l = [[1,2,3,4,5]]\n",
    "print(*l)\n",
    "print(list(*l))"
   ]
  }
 ],
 "metadata": {
  "kernelspec": {
   "display_name": "Python 3",
   "language": "python",
   "name": "python3"
  },
  "language_info": {
   "codemirror_mode": {
    "name": "ipython",
    "version": 3
   },
   "file_extension": ".py",
   "mimetype": "text/x-python",
   "name": "python",
   "nbconvert_exporter": "python",
   "pygments_lexer": "ipython3",
   "version": "3.7.2"
  },
  "varInspector": {
   "cols": {
    "lenName": 16,
    "lenType": 16,
    "lenVar": 40
   },
   "kernels_config": {
    "python": {
     "delete_cmd_postfix": "",
     "delete_cmd_prefix": "del ",
     "library": "var_list.py",
     "varRefreshCmd": "print(var_dic_list())"
    },
    "r": {
     "delete_cmd_postfix": ") ",
     "delete_cmd_prefix": "rm(",
     "library": "var_list.r",
     "varRefreshCmd": "cat(var_dic_list()) "
    }
   },
   "types_to_exclude": [
    "module",
    "function",
    "builtin_function_or_method",
    "instance",
    "_Feature"
   ],
   "window_display": false
  }
 },
 "nbformat": 4,
 "nbformat_minor": 2
}
