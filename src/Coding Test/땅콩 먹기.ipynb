{
 "cells": [
  {
   "cell_type": "markdown",
   "metadata": {},
   "source": [
    "# 땅콩 먹기\n",
    "직선 위에 N개의 땅콩이 있다.  \n",
    "시작 위치 E에서부터 M개의 땅콩을 먹으려고 하는데, 지나가는 길에 빨간 선을 그린다고 가정한다.  \n",
    "그려지게 될 빨간 선의 최소 길이를 출력하시오.  \n",
    "단, 시작 위치에 땅콩이 겹치는 경우 땅콩을 바로 먹을 수 있다.  \n",
    "- input  \n",
    "N, M, E = 땅콩의 개수, 먹으려는 땅콩의 개수, 시작 위치  \n",
    "```py\n",
    "6 3 7\n",
    "2 4 5 8 11 12\n",
    "```\n",
    "- output\n",
    "```py\n",
    "4\n",
    "```"
   ]
  },
  {
   "cell_type": "code",
   "execution_count": 17,
   "metadata": {
    "ExecuteTime": {
     "end_time": "2021-03-22T16:43:14.643539Z",
     "start_time": "2021-03-22T16:43:14.635075Z"
    }
   },
   "outputs": [
    {
     "name": "stdout",
     "output_type": "stream",
     "text": [
      "4\n"
     ]
    }
   ],
   "source": [
    "def eat_beans():\n",
    "    N, M, E = 6, 3, 7\n",
    "    beans = [2,4,5,8,11,12]\n",
    "    length = 0\n",
    "    if E in beans:\n",
    "        M -= 1\n",
    "    else:\n",
    "        beans.append(E)\n",
    "        beans.sort()\n",
    "        N += 1\n",
    "    if M <= 0:\n",
    "        return 0\n",
    "    else:\n",
    "        left, right = beans.index(E), beans.index(E)\n",
    "        while M > 0:\n",
    "            if left == 0:\n",
    "                left_len = float('inf')\n",
    "            else:\n",
    "                left_len = beans[left] - beans[left-1]\n",
    "            if right == N-1:\n",
    "                right_len = float('inf')\n",
    "            else:\n",
    "                right_len =  beans[right+1] - beans[right]\n",
    "                \n",
    "            if left_len <= right_len:\n",
    "                length += left_len\n",
    "                left -= 1\n",
    "                M -= 1\n",
    "            else:\n",
    "                length += right_len\n",
    "                right += 1\n",
    "                M -= 1\n",
    "    return length\n",
    "    \n",
    "print(eat_beans())\n"
   ]
  }
 ],
 "metadata": {
  "kernelspec": {
   "display_name": "Python 3",
   "language": "python",
   "name": "python3"
  },
  "language_info": {
   "codemirror_mode": {
    "name": "ipython",
    "version": 3
   },
   "file_extension": ".py",
   "mimetype": "text/x-python",
   "name": "python",
   "nbconvert_exporter": "python",
   "pygments_lexer": "ipython3",
   "version": "3.7.2"
  },
  "varInspector": {
   "cols": {
    "lenName": 16,
    "lenType": 16,
    "lenVar": 40
   },
   "kernels_config": {
    "python": {
     "delete_cmd_postfix": "",
     "delete_cmd_prefix": "del ",
     "library": "var_list.py",
     "varRefreshCmd": "print(var_dic_list())"
    },
    "r": {
     "delete_cmd_postfix": ") ",
     "delete_cmd_prefix": "rm(",
     "library": "var_list.r",
     "varRefreshCmd": "cat(var_dic_list()) "
    }
   },
   "types_to_exclude": [
    "module",
    "function",
    "builtin_function_or_method",
    "instance",
    "_Feature"
   ],
   "window_display": false
  }
 },
 "nbformat": 4,
 "nbformat_minor": 2
}
