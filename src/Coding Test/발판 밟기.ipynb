{
 "cells": [
  {
   "cell_type": "markdown",
   "metadata": {},
   "source": [
    "# 발판 밟기\n",
    "N개의 발판이 주어지고, 각 발판에는 양의 정수 혹은 음의 정수가 적혀있다.  \n",
    "특정 발판을 밟을 경우, 해당 발판에 적혀있는 숫자만큼 좌 혹은 우로 이동하게 된다.  \n",
    "음수의 경우 좌측, 양수의 경우 우측으로 이동한다.  \n",
    "이미 밟았던 발판을 다시 밟는 경우 밟기는 종료된다.  \n",
    "1번째, 2번째, 3번째 발판에서 발판을 밟기 시작할 수 있을 때, 밟을 수 있는 발판 개수의 최대값을 출력하시오.  \n",
    "단, 발판의 범위를 벗어나는 경우는 고려하지 않는다.  \n",
    "- input  \n",
    "```py\n",
    "10\n",
    "[3, 5, -1, -2, 4, 4, 3, -2, -3, -2]\n",
    "```\n",
    "- output  \n",
    "```py\n",
    "8\n",
    "```"
   ]
  },
  {
   "cell_type": "code",
   "execution_count": 1,
   "metadata": {
    "ExecuteTime": {
     "end_time": "2021-03-22T16:48:08.807601Z",
     "start_time": "2021-03-22T16:48:08.802328Z"
    }
   },
   "outputs": [
    {
     "name": "stdout",
     "output_type": "stream",
     "text": [
      "8\n"
     ]
    }
   ],
   "source": [
    "length = 10\n",
    "stone = [3, 5, -1, -2, 4, 4, 3, -2, -3, -2]\n",
    "\n",
    "result = 0\n",
    "\n",
    "def func(index):\n",
    "    times = 1\n",
    "    arrived = []\n",
    "    while index not in arrived:\n",
    "        arrived.append(index)\n",
    "        index += stone[index]\n",
    "        times += 1\n",
    "    return times\n",
    "\n",
    "for i in [0,1,2]:\n",
    "    result = max(result, func(i))\n",
    "\n",
    "print(result)"
   ]
  }
 ],
 "metadata": {
  "kernelspec": {
   "display_name": "Python 3",
   "language": "python",
   "name": "python3"
  },
  "language_info": {
   "codemirror_mode": {
    "name": "ipython",
    "version": 3
   },
   "file_extension": ".py",
   "mimetype": "text/x-python",
   "name": "python",
   "nbconvert_exporter": "python",
   "pygments_lexer": "ipython3",
   "version": "3.7.2"
  },
  "varInspector": {
   "cols": {
    "lenName": 16,
    "lenType": 16,
    "lenVar": 40
   },
   "kernels_config": {
    "python": {
     "delete_cmd_postfix": "",
     "delete_cmd_prefix": "del ",
     "library": "var_list.py",
     "varRefreshCmd": "print(var_dic_list())"
    },
    "r": {
     "delete_cmd_postfix": ") ",
     "delete_cmd_prefix": "rm(",
     "library": "var_list.r",
     "varRefreshCmd": "cat(var_dic_list()) "
    }
   },
   "types_to_exclude": [
    "module",
    "function",
    "builtin_function_or_method",
    "instance",
    "_Feature"
   ],
   "window_display": false
  }
 },
 "nbformat": 4,
 "nbformat_minor": 2
}
