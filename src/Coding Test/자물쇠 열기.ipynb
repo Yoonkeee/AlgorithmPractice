{
 "cells": [
  {
   "cell_type": "markdown",
   "metadata": {},
   "source": [
    "# 자물쇠 열기\n",
    "MxN 크기의 지도에 보물 상자, 열쇠, 벽이 있다.  \n",
    "현재 위치에서 상,하,좌,우로 움직일 수 있으며 지도 밖이나 벽을 통과할 수 없다.  \n",
    "열쇠가 없는 상태에서 보물 상자 위를 이동하는 것은 가능하다.  \n",
    "  \n",
    "E는 시작 위치, K는 열쇠의 위치, G는 보물 상자의 위치, X는 벽의 위치  \n",
    "- 보물 상자를 열 수 있음  \n",
    "\n",
    ".|.|.|.|.|.\n",
    "-|-|-|-|-|-\n",
    "-|-|X|-|-|-\n",
    "X|-|X|-|-|-\n",
    "-|-|X|X|X|-\n",
    "-|E|-|X|-|-\n",
    "K|-|-|-|-|-\n",
    "\n",
    "- 보물 상자를 열 수 없음\n",
    "\n",
    ".|.|.|.|.|.\n",
    "-|-|-|-|-|-\n",
    "-|-|X|-|G|-\n",
    "X|-|X|-|-|-\n",
    "-|-|X|X|X|-\n",
    "-|E|-|X|-|-\n",
    "K|-|-|X|-|-\n",
    "\n",
    "- ### 입력  \n",
    "- t = 지도의 개수 정수  \n",
    "- M,N = 2<=M,N<=10  \n",
    "- 0=빈칸, 1=벽, 2=보물 상자, 3=시작 위치, 4=열쇠 위치  \n",
    "```python\n",
    "2  \n",
    "5 6  \n",
    "0 0 1 0 2 0  \n",
    "1 0 1 0 0 0  \n",
    "0 0 1 1 1 0  \n",
    "0 3 0 1 0 0  \n",
    "4 0 0 0 0 0  \n",
    "5 6  \n",
    "0 0 1 0 2 0  \n",
    "1 0 1 0 0 0  \n",
    "0 0 1 1 1 0  \n",
    "0 3 0 1 0 0  \n",
    "4 0 0 1 0 0  \n",
    "```\n",
    "- ### 출력  \n",
    "1  \n",
    "0  "
   ]
  },
  {
   "cell_type": "code",
   "execution_count": 66,
   "metadata": {
    "ExecuteTime": {
     "end_time": "2021-03-19T16:19:33.623048Z",
     "start_time": "2021-03-19T16:19:33.610054Z"
    }
   },
   "outputs": [
    {
     "name": "stdout",
     "output_type": "stream",
     "text": [
      "1\n",
      "0\n"
     ]
    }
   ],
   "source": [
    "def open_locker(t_map):\n",
    "\n",
    "#     t_map = t_map[:]\n",
    "    for i in range(len(t_map)):\n",
    "        if 3 in t_map[i]:\n",
    "            si, sj = [i, t_map[i].index(3)]\n",
    "    \n",
    "    result_dict = {}\n",
    "    result_dict['key'] = False\n",
    "    result_dict['locker'] = False\n",
    "    def dfs(i, j,k=0):\n",
    "#         print(i, j)\n",
    "        if (i < 0 or i >= len(t_map) or\n",
    "            j < 0 or j >= len(t_map[0]) or\n",
    "            t_map[i][j] == 1):\n",
    "            return\n",
    "        \n",
    "        elif t_map[i][j] == 2:\n",
    "            result_dict['locker'] = True\n",
    "        elif t_map[i][j] == 4:\n",
    "            result_dict['key'] = True\n",
    "        t_map[i][j] = 1\n",
    "        dfs(i+1, j)\n",
    "        dfs(i-1, j)\n",
    "        dfs(i, j+1)\n",
    "        dfs(i, j-1)\n",
    "        \n",
    "    dfs(si, sj)\n",
    "    return result_dict['key'] and result_dict['locker']\n",
    "\n",
    "map1 = [\n",
    "    [0, 0, 1, 0, 2, 0],\n",
    "    [1, 0, 1, 0, 0, 0],\n",
    "    [0, 0, 1, 1, 1, 0],\n",
    "    [0, 3, 0, 1, 0, 0],\n",
    "    [4, 0, 0, 0, 0, 0]\n",
    "]\n",
    "map2 = [\n",
    "    [0, 0, 1, 0, 2, 0],\n",
    "    [1, 0, 1, 0, 0, 0],\n",
    "    [0, 0, 1, 1, 1, 0],\n",
    "    [0, 3, 0, 1, 0, 0],\n",
    "    [4, 0, 0, 1, 0, 0]\n",
    "]\n",
    "for tmap in [map1, map2]:\n",
    "    print(int(open_locker(tmap)))"
   ]
  }
 ],
 "metadata": {
  "kernelspec": {
   "display_name": "Python 3",
   "language": "python",
   "name": "python3"
  },
  "language_info": {
   "codemirror_mode": {
    "name": "ipython",
    "version": 3
   },
   "file_extension": ".py",
   "mimetype": "text/x-python",
   "name": "python",
   "nbconvert_exporter": "python",
   "pygments_lexer": "ipython3",
   "version": "3.7.2"
  },
  "varInspector": {
   "cols": {
    "lenName": 16,
    "lenType": 16,
    "lenVar": 40
   },
   "kernels_config": {
    "python": {
     "delete_cmd_postfix": "",
     "delete_cmd_prefix": "del ",
     "library": "var_list.py",
     "varRefreshCmd": "print(var_dic_list())"
    },
    "r": {
     "delete_cmd_postfix": ") ",
     "delete_cmd_prefix": "rm(",
     "library": "var_list.r",
     "varRefreshCmd": "cat(var_dic_list()) "
    }
   },
   "types_to_exclude": [
    "module",
    "function",
    "builtin_function_or_method",
    "instance",
    "_Feature"
   ],
   "window_display": false
  }
 },
 "nbformat": 4,
 "nbformat_minor": 2
}
